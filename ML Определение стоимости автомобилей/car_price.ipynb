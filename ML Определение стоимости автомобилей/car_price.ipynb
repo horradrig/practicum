{
 "cells": [
  {
   "cell_type": "markdown",
   "metadata": {},
   "source": [
    "# Определение стоимости автомобилей"
   ]
  },
  {
   "cell_type": "markdown",
   "metadata": {},
   "source": [
    "Сервис по продаже автомобилей с пробегом «Не бит, не крашен» разрабатывает приложение для привлечения новых клиентов. В нём можно быстро узнать рыночную стоимость своего автомобиля. В вашем распоряжении исторические данные: технические характеристики, комплектации и цены автомобилей. Вам нужно построить модель для определения стоимости. \n",
    "\n",
    "Заказчику важны:\n",
    "\n",
    "- качество предсказания;\n",
    "- скорость предсказания;\n",
    "- время обучения."
   ]
  },
  {
   "cell_type": "markdown",
   "metadata": {},
   "source": [
    "## Подготовка данных"
   ]
  },
  {
   "cell_type": "code",
   "execution_count": 1,
   "metadata": {},
   "outputs": [],
   "source": [
    "import pandas as pd\n",
    "import numpy as np\n",
    "import seaborn as sns\n",
    "import matplotlib.pyplot as plt\n",
    "from math import sqrt\n",
    "\n",
    "from catboost import CatBoostRegressor\n",
    "import lightgbm as lgb\n",
    "from lightgbm import LGBMRegressor\n",
    "from sklearn.linear_model import LinearRegression\n",
    "from sklearn.ensemble import RandomForestRegressor\n",
    "from sklearn.dummy import DummyRegressor\n",
    "from sklearn.metrics import mean_squared_error\n",
    "\n",
    "from sklearn.model_selection import train_test_split\n",
    "from sklearn.preprocessing import StandardScaler\n",
    "\n",
    "import time\n",
    "import warnings\n",
    "warnings.filterwarnings(\"ignore\")\n",
    "pd.set_option('display.max_colwidth', -1)\n",
    "RANDOM_STATE = 12345"
   ]
  },
  {
   "cell_type": "code",
   "execution_count": 2,
   "metadata": {},
   "outputs": [
    {
     "name": "stdout",
     "output_type": "stream",
     "text": [
      "<class 'pandas.core.frame.DataFrame'>\n",
      "RangeIndex: 354369 entries, 0 to 354368\n",
      "Data columns (total 16 columns):\n",
      "DateCrawled          354369 non-null object\n",
      "Price                354369 non-null int64\n",
      "VehicleType          316879 non-null object\n",
      "RegistrationYear     354369 non-null int64\n",
      "Gearbox              334536 non-null object\n",
      "Power                354369 non-null int64\n",
      "Model                334664 non-null object\n",
      "Kilometer            354369 non-null int64\n",
      "RegistrationMonth    354369 non-null int64\n",
      "FuelType             321474 non-null object\n",
      "Brand                354369 non-null object\n",
      "NotRepaired          283215 non-null object\n",
      "DateCreated          354369 non-null object\n",
      "NumberOfPictures     354369 non-null int64\n",
      "PostalCode           354369 non-null int64\n",
      "LastSeen             354369 non-null object\n",
      "dtypes: int64(7), object(9)\n",
      "memory usage: 43.3+ MB\n"
     ]
    },
    {
     "data": {
      "text/html": [
       "<div>\n",
       "<style scoped>\n",
       "    .dataframe tbody tr th:only-of-type {\n",
       "        vertical-align: middle;\n",
       "    }\n",
       "\n",
       "    .dataframe tbody tr th {\n",
       "        vertical-align: top;\n",
       "    }\n",
       "\n",
       "    .dataframe thead th {\n",
       "        text-align: right;\n",
       "    }\n",
       "</style>\n",
       "<table border=\"1\" class=\"dataframe\">\n",
       "  <thead>\n",
       "    <tr style=\"text-align: right;\">\n",
       "      <th></th>\n",
       "      <th>DateCrawled</th>\n",
       "      <th>Price</th>\n",
       "      <th>VehicleType</th>\n",
       "      <th>RegistrationYear</th>\n",
       "      <th>Gearbox</th>\n",
       "      <th>Power</th>\n",
       "      <th>Model</th>\n",
       "      <th>Kilometer</th>\n",
       "      <th>RegistrationMonth</th>\n",
       "      <th>FuelType</th>\n",
       "      <th>Brand</th>\n",
       "      <th>NotRepaired</th>\n",
       "      <th>DateCreated</th>\n",
       "      <th>NumberOfPictures</th>\n",
       "      <th>PostalCode</th>\n",
       "      <th>LastSeen</th>\n",
       "    </tr>\n",
       "  </thead>\n",
       "  <tbody>\n",
       "    <tr>\n",
       "      <td>0</td>\n",
       "      <td>2016-03-24 11:52:17</td>\n",
       "      <td>480</td>\n",
       "      <td>NaN</td>\n",
       "      <td>1993</td>\n",
       "      <td>manual</td>\n",
       "      <td>0</td>\n",
       "      <td>golf</td>\n",
       "      <td>150000</td>\n",
       "      <td>0</td>\n",
       "      <td>petrol</td>\n",
       "      <td>volkswagen</td>\n",
       "      <td>NaN</td>\n",
       "      <td>2016-03-24 00:00:00</td>\n",
       "      <td>0</td>\n",
       "      <td>70435</td>\n",
       "      <td>2016-04-07 03:16:57</td>\n",
       "    </tr>\n",
       "    <tr>\n",
       "      <td>1</td>\n",
       "      <td>2016-03-24 10:58:45</td>\n",
       "      <td>18300</td>\n",
       "      <td>coupe</td>\n",
       "      <td>2011</td>\n",
       "      <td>manual</td>\n",
       "      <td>190</td>\n",
       "      <td>NaN</td>\n",
       "      <td>125000</td>\n",
       "      <td>5</td>\n",
       "      <td>gasoline</td>\n",
       "      <td>audi</td>\n",
       "      <td>yes</td>\n",
       "      <td>2016-03-24 00:00:00</td>\n",
       "      <td>0</td>\n",
       "      <td>66954</td>\n",
       "      <td>2016-04-07 01:46:50</td>\n",
       "    </tr>\n",
       "    <tr>\n",
       "      <td>2</td>\n",
       "      <td>2016-03-14 12:52:21</td>\n",
       "      <td>9800</td>\n",
       "      <td>suv</td>\n",
       "      <td>2004</td>\n",
       "      <td>auto</td>\n",
       "      <td>163</td>\n",
       "      <td>grand</td>\n",
       "      <td>125000</td>\n",
       "      <td>8</td>\n",
       "      <td>gasoline</td>\n",
       "      <td>jeep</td>\n",
       "      <td>NaN</td>\n",
       "      <td>2016-03-14 00:00:00</td>\n",
       "      <td>0</td>\n",
       "      <td>90480</td>\n",
       "      <td>2016-04-05 12:47:46</td>\n",
       "    </tr>\n",
       "    <tr>\n",
       "      <td>3</td>\n",
       "      <td>2016-03-17 16:54:04</td>\n",
       "      <td>1500</td>\n",
       "      <td>small</td>\n",
       "      <td>2001</td>\n",
       "      <td>manual</td>\n",
       "      <td>75</td>\n",
       "      <td>golf</td>\n",
       "      <td>150000</td>\n",
       "      <td>6</td>\n",
       "      <td>petrol</td>\n",
       "      <td>volkswagen</td>\n",
       "      <td>no</td>\n",
       "      <td>2016-03-17 00:00:00</td>\n",
       "      <td>0</td>\n",
       "      <td>91074</td>\n",
       "      <td>2016-03-17 17:40:17</td>\n",
       "    </tr>\n",
       "    <tr>\n",
       "      <td>4</td>\n",
       "      <td>2016-03-31 17:25:20</td>\n",
       "      <td>3600</td>\n",
       "      <td>small</td>\n",
       "      <td>2008</td>\n",
       "      <td>manual</td>\n",
       "      <td>69</td>\n",
       "      <td>fabia</td>\n",
       "      <td>90000</td>\n",
       "      <td>7</td>\n",
       "      <td>gasoline</td>\n",
       "      <td>skoda</td>\n",
       "      <td>no</td>\n",
       "      <td>2016-03-31 00:00:00</td>\n",
       "      <td>0</td>\n",
       "      <td>60437</td>\n",
       "      <td>2016-04-06 10:17:21</td>\n",
       "    </tr>\n",
       "  </tbody>\n",
       "</table>\n",
       "</div>"
      ],
      "text/plain": [
       "           DateCrawled  Price VehicleType  RegistrationYear Gearbox  Power  \\\n",
       "0  2016-03-24 11:52:17  480    NaN         1993              manual  0       \n",
       "1  2016-03-24 10:58:45  18300  coupe       2011              manual  190     \n",
       "2  2016-03-14 12:52:21  9800   suv         2004              auto    163     \n",
       "3  2016-03-17 16:54:04  1500   small       2001              manual  75      \n",
       "4  2016-03-31 17:25:20  3600   small       2008              manual  69      \n",
       "\n",
       "   Model  Kilometer  RegistrationMonth  FuelType       Brand NotRepaired  \\\n",
       "0  golf   150000     0                  petrol    volkswagen  NaN          \n",
       "1  NaN    125000     5                  gasoline  audi        yes          \n",
       "2  grand  125000     8                  gasoline  jeep        NaN          \n",
       "3  golf   150000     6                  petrol    volkswagen  no           \n",
       "4  fabia  90000      7                  gasoline  skoda       no           \n",
       "\n",
       "           DateCreated  NumberOfPictures  PostalCode             LastSeen  \n",
       "0  2016-03-24 00:00:00  0                 70435       2016-04-07 03:16:57  \n",
       "1  2016-03-24 00:00:00  0                 66954       2016-04-07 01:46:50  \n",
       "2  2016-03-14 00:00:00  0                 90480       2016-04-05 12:47:46  \n",
       "3  2016-03-17 00:00:00  0                 91074       2016-03-17 17:40:17  \n",
       "4  2016-03-31 00:00:00  0                 60437       2016-04-06 10:17:21  "
      ]
     },
     "execution_count": 2,
     "metadata": {},
     "output_type": "execute_result"
    }
   ],
   "source": [
    "df = pd.read_csv('/datasets/autos.csv')\n",
    "df.info()\n",
    "df.head()"
   ]
  },
  {
   "cell_type": "markdown",
   "metadata": {},
   "source": [
    "Много разных категориальных и количествнных признаков. Некоторые из них никак не влияют на цену автомобиля: например, DateCrawled - Дата скачивания анкеты из базы, RegistrationMonth - месяц регистрации автомобиля, DateCreated - дата создания анкеты, NumberOfPictures - количество фотографий автомобиля, PostalCode - почтовый индекс владельца анкеты, LastSeen - дата последней активности пользователя. Поэтому просто удалим эти столбцы. Но сначала проверим на наличие дубликатов.\n",
    "\n",
    "Большое количество пропущенных значений. В категориальных данных заменим пропущенные значения на Nan."
   ]
  },
  {
   "cell_type": "code",
   "execution_count": 3,
   "metadata": {},
   "outputs": [
    {
     "data": {
      "text/plain": [
       "4"
      ]
     },
     "execution_count": 3,
     "metadata": {},
     "output_type": "execute_result"
    }
   ],
   "source": [
    "df.duplicated().sum()"
   ]
  },
  {
   "cell_type": "markdown",
   "metadata": {},
   "source": [
    "Удалим дубли."
   ]
  },
  {
   "cell_type": "code",
   "execution_count": 4,
   "metadata": {},
   "outputs": [
    {
     "data": {
      "text/plain": [
       "0"
      ]
     },
     "execution_count": 4,
     "metadata": {},
     "output_type": "execute_result"
    }
   ],
   "source": [
    "df.drop_duplicates(inplace=True)\n",
    "df.duplicated().sum()"
   ]
  },
  {
   "cell_type": "code",
   "execution_count": 5,
   "metadata": {},
   "outputs": [
    {
     "data": {
      "text/html": [
       "<div>\n",
       "<style scoped>\n",
       "    .dataframe tbody tr th:only-of-type {\n",
       "        vertical-align: middle;\n",
       "    }\n",
       "\n",
       "    .dataframe tbody tr th {\n",
       "        vertical-align: top;\n",
       "    }\n",
       "\n",
       "    .dataframe thead th {\n",
       "        text-align: right;\n",
       "    }\n",
       "</style>\n",
       "<table border=\"1\" class=\"dataframe\">\n",
       "  <thead>\n",
       "    <tr style=\"text-align: right;\">\n",
       "      <th></th>\n",
       "      <th>Price</th>\n",
       "      <th>VehicleType</th>\n",
       "      <th>RegistrationYear</th>\n",
       "      <th>Gearbox</th>\n",
       "      <th>Power</th>\n",
       "      <th>Model</th>\n",
       "      <th>Kilometer</th>\n",
       "      <th>FuelType</th>\n",
       "      <th>Brand</th>\n",
       "      <th>NotRepaired</th>\n",
       "    </tr>\n",
       "  </thead>\n",
       "  <tbody>\n",
       "    <tr>\n",
       "      <td>0</td>\n",
       "      <td>480</td>\n",
       "      <td>NaN</td>\n",
       "      <td>1993</td>\n",
       "      <td>manual</td>\n",
       "      <td>0</td>\n",
       "      <td>golf</td>\n",
       "      <td>150000</td>\n",
       "      <td>petrol</td>\n",
       "      <td>volkswagen</td>\n",
       "      <td>NaN</td>\n",
       "    </tr>\n",
       "    <tr>\n",
       "      <td>1</td>\n",
       "      <td>18300</td>\n",
       "      <td>coupe</td>\n",
       "      <td>2011</td>\n",
       "      <td>manual</td>\n",
       "      <td>190</td>\n",
       "      <td>NaN</td>\n",
       "      <td>125000</td>\n",
       "      <td>gasoline</td>\n",
       "      <td>audi</td>\n",
       "      <td>yes</td>\n",
       "    </tr>\n",
       "    <tr>\n",
       "      <td>2</td>\n",
       "      <td>9800</td>\n",
       "      <td>suv</td>\n",
       "      <td>2004</td>\n",
       "      <td>auto</td>\n",
       "      <td>163</td>\n",
       "      <td>grand</td>\n",
       "      <td>125000</td>\n",
       "      <td>gasoline</td>\n",
       "      <td>jeep</td>\n",
       "      <td>NaN</td>\n",
       "    </tr>\n",
       "    <tr>\n",
       "      <td>3</td>\n",
       "      <td>1500</td>\n",
       "      <td>small</td>\n",
       "      <td>2001</td>\n",
       "      <td>manual</td>\n",
       "      <td>75</td>\n",
       "      <td>golf</td>\n",
       "      <td>150000</td>\n",
       "      <td>petrol</td>\n",
       "      <td>volkswagen</td>\n",
       "      <td>no</td>\n",
       "    </tr>\n",
       "    <tr>\n",
       "      <td>4</td>\n",
       "      <td>3600</td>\n",
       "      <td>small</td>\n",
       "      <td>2008</td>\n",
       "      <td>manual</td>\n",
       "      <td>69</td>\n",
       "      <td>fabia</td>\n",
       "      <td>90000</td>\n",
       "      <td>gasoline</td>\n",
       "      <td>skoda</td>\n",
       "      <td>no</td>\n",
       "    </tr>\n",
       "  </tbody>\n",
       "</table>\n",
       "</div>"
      ],
      "text/plain": [
       "   Price VehicleType  RegistrationYear Gearbox  Power  Model  Kilometer  \\\n",
       "0  480    NaN         1993              manual  0      golf   150000      \n",
       "1  18300  coupe       2011              manual  190    NaN    125000      \n",
       "2  9800   suv         2004              auto    163    grand  125000      \n",
       "3  1500   small       2001              manual  75     golf   150000      \n",
       "4  3600   small       2008              manual  69     fabia  90000       \n",
       "\n",
       "   FuelType       Brand NotRepaired  \n",
       "0  petrol    volkswagen  NaN         \n",
       "1  gasoline  audi        yes         \n",
       "2  gasoline  jeep        NaN         \n",
       "3  petrol    volkswagen  no          \n",
       "4  gasoline  skoda       no          "
      ]
     },
     "execution_count": 5,
     "metadata": {},
     "output_type": "execute_result"
    }
   ],
   "source": [
    "df = df.drop(['DateCrawled', 'RegistrationMonth', 'DateCreated', 'NumberOfPictures', 'PostalCode', 'LastSeen'], axis=1)\n",
    "df.head()"
   ]
  },
  {
   "cell_type": "markdown",
   "metadata": {},
   "source": [
    "Посмотрим какой процент от данных составляют пропущенные значения."
   ]
  },
  {
   "cell_type": "code",
   "execution_count": 6,
   "metadata": {},
   "outputs": [
    {
     "data": {
      "text/plain": [
       "NotRepaired         20.079297\n",
       "VehicleType         10.579487\n",
       "FuelType            9.282802 \n",
       "Gearbox             5.596772 \n",
       "Model               5.560651 \n",
       "Brand               0.000000 \n",
       "Kilometer           0.000000 \n",
       "Power               0.000000 \n",
       "RegistrationYear    0.000000 \n",
       "Price               0.000000 \n",
       "dtype: float64"
      ]
     },
     "execution_count": 6,
     "metadata": {},
     "output_type": "execute_result"
    }
   ],
   "source": [
    "df.isnull().sum().sort_values(ascending=False) / len(df) * 100"
   ]
  },
  {
   "cell_type": "markdown",
   "metadata": {},
   "source": [
    "В количественных данных отсутствуют пропущенные значения, но там есть нули. А в категориальных процент пропущенных данных составляет от 5% до 20%. Как я писал выше, заменим пропущенные значения на Nan, то есть нет данных. Nan будет новой категорией."
   ]
  },
  {
   "cell_type": "code",
   "execution_count": 7,
   "metadata": {},
   "outputs": [
    {
     "data": {
      "text/html": [
       "<div>\n",
       "<style scoped>\n",
       "    .dataframe tbody tr th:only-of-type {\n",
       "        vertical-align: middle;\n",
       "    }\n",
       "\n",
       "    .dataframe tbody tr th {\n",
       "        vertical-align: top;\n",
       "    }\n",
       "\n",
       "    .dataframe thead th {\n",
       "        text-align: right;\n",
       "    }\n",
       "</style>\n",
       "<table border=\"1\" class=\"dataframe\">\n",
       "  <thead>\n",
       "    <tr style=\"text-align: right;\">\n",
       "      <th></th>\n",
       "      <th>Price</th>\n",
       "      <th>VehicleType</th>\n",
       "      <th>RegistrationYear</th>\n",
       "      <th>Gearbox</th>\n",
       "      <th>Power</th>\n",
       "      <th>Model</th>\n",
       "      <th>Kilometer</th>\n",
       "      <th>FuelType</th>\n",
       "      <th>Brand</th>\n",
       "      <th>NotRepaired</th>\n",
       "    </tr>\n",
       "  </thead>\n",
       "  <tbody>\n",
       "    <tr>\n",
       "      <td>0</td>\n",
       "      <td>480</td>\n",
       "      <td>Nan</td>\n",
       "      <td>1993</td>\n",
       "      <td>manual</td>\n",
       "      <td>0</td>\n",
       "      <td>golf</td>\n",
       "      <td>150000</td>\n",
       "      <td>petrol</td>\n",
       "      <td>volkswagen</td>\n",
       "      <td>Nan</td>\n",
       "    </tr>\n",
       "    <tr>\n",
       "      <td>1</td>\n",
       "      <td>18300</td>\n",
       "      <td>coupe</td>\n",
       "      <td>2011</td>\n",
       "      <td>manual</td>\n",
       "      <td>190</td>\n",
       "      <td>Nan</td>\n",
       "      <td>125000</td>\n",
       "      <td>gasoline</td>\n",
       "      <td>audi</td>\n",
       "      <td>yes</td>\n",
       "    </tr>\n",
       "    <tr>\n",
       "      <td>2</td>\n",
       "      <td>9800</td>\n",
       "      <td>suv</td>\n",
       "      <td>2004</td>\n",
       "      <td>auto</td>\n",
       "      <td>163</td>\n",
       "      <td>grand</td>\n",
       "      <td>125000</td>\n",
       "      <td>gasoline</td>\n",
       "      <td>jeep</td>\n",
       "      <td>Nan</td>\n",
       "    </tr>\n",
       "    <tr>\n",
       "      <td>3</td>\n",
       "      <td>1500</td>\n",
       "      <td>small</td>\n",
       "      <td>2001</td>\n",
       "      <td>manual</td>\n",
       "      <td>75</td>\n",
       "      <td>golf</td>\n",
       "      <td>150000</td>\n",
       "      <td>petrol</td>\n",
       "      <td>volkswagen</td>\n",
       "      <td>no</td>\n",
       "    </tr>\n",
       "    <tr>\n",
       "      <td>4</td>\n",
       "      <td>3600</td>\n",
       "      <td>small</td>\n",
       "      <td>2008</td>\n",
       "      <td>manual</td>\n",
       "      <td>69</td>\n",
       "      <td>fabia</td>\n",
       "      <td>90000</td>\n",
       "      <td>gasoline</td>\n",
       "      <td>skoda</td>\n",
       "      <td>no</td>\n",
       "    </tr>\n",
       "    <tr>\n",
       "      <td>...</td>\n",
       "      <td>...</td>\n",
       "      <td>...</td>\n",
       "      <td>...</td>\n",
       "      <td>...</td>\n",
       "      <td>...</td>\n",
       "      <td>...</td>\n",
       "      <td>...</td>\n",
       "      <td>...</td>\n",
       "      <td>...</td>\n",
       "      <td>...</td>\n",
       "    </tr>\n",
       "    <tr>\n",
       "      <td>354364</td>\n",
       "      <td>0</td>\n",
       "      <td>Nan</td>\n",
       "      <td>2005</td>\n",
       "      <td>manual</td>\n",
       "      <td>0</td>\n",
       "      <td>colt</td>\n",
       "      <td>150000</td>\n",
       "      <td>petrol</td>\n",
       "      <td>mitsubishi</td>\n",
       "      <td>yes</td>\n",
       "    </tr>\n",
       "    <tr>\n",
       "      <td>354365</td>\n",
       "      <td>2200</td>\n",
       "      <td>Nan</td>\n",
       "      <td>2005</td>\n",
       "      <td>Nan</td>\n",
       "      <td>0</td>\n",
       "      <td>Nan</td>\n",
       "      <td>20000</td>\n",
       "      <td>Nan</td>\n",
       "      <td>sonstige_autos</td>\n",
       "      <td>Nan</td>\n",
       "    </tr>\n",
       "    <tr>\n",
       "      <td>354366</td>\n",
       "      <td>1199</td>\n",
       "      <td>convertible</td>\n",
       "      <td>2000</td>\n",
       "      <td>auto</td>\n",
       "      <td>101</td>\n",
       "      <td>fortwo</td>\n",
       "      <td>125000</td>\n",
       "      <td>petrol</td>\n",
       "      <td>smart</td>\n",
       "      <td>no</td>\n",
       "    </tr>\n",
       "    <tr>\n",
       "      <td>354367</td>\n",
       "      <td>9200</td>\n",
       "      <td>bus</td>\n",
       "      <td>1996</td>\n",
       "      <td>manual</td>\n",
       "      <td>102</td>\n",
       "      <td>transporter</td>\n",
       "      <td>150000</td>\n",
       "      <td>gasoline</td>\n",
       "      <td>volkswagen</td>\n",
       "      <td>no</td>\n",
       "    </tr>\n",
       "    <tr>\n",
       "      <td>354368</td>\n",
       "      <td>3400</td>\n",
       "      <td>wagon</td>\n",
       "      <td>2002</td>\n",
       "      <td>manual</td>\n",
       "      <td>100</td>\n",
       "      <td>golf</td>\n",
       "      <td>150000</td>\n",
       "      <td>gasoline</td>\n",
       "      <td>volkswagen</td>\n",
       "      <td>Nan</td>\n",
       "    </tr>\n",
       "  </tbody>\n",
       "</table>\n",
       "<p>354365 rows × 10 columns</p>\n",
       "</div>"
      ],
      "text/plain": [
       "        Price  VehicleType  RegistrationYear Gearbox  Power        Model  \\\n",
       "0       480    Nan          1993              manual  0      golf          \n",
       "1       18300  coupe        2011              manual  190    Nan           \n",
       "2       9800   suv          2004              auto    163    grand         \n",
       "3       1500   small        2001              manual  75     golf          \n",
       "4       3600   small        2008              manual  69     fabia         \n",
       "...      ...     ...         ...                 ...  ..       ...         \n",
       "354364  0      Nan          2005              manual  0      colt          \n",
       "354365  2200   Nan          2005              Nan     0      Nan           \n",
       "354366  1199   convertible  2000              auto    101    fortwo        \n",
       "354367  9200   bus          1996              manual  102    transporter   \n",
       "354368  3400   wagon        2002              manual  100    golf          \n",
       "\n",
       "        Kilometer  FuelType           Brand NotRepaired  \n",
       "0       150000     petrol    volkswagen      Nan         \n",
       "1       125000     gasoline  audi            yes         \n",
       "2       125000     gasoline  jeep            Nan         \n",
       "3       150000     petrol    volkswagen      no          \n",
       "4       90000      gasoline  skoda           no          \n",
       "...       ...           ...    ...           ..          \n",
       "354364  150000     petrol    mitsubishi      yes         \n",
       "354365  20000      Nan       sonstige_autos  Nan         \n",
       "354366  125000     petrol    smart           no          \n",
       "354367  150000     gasoline  volkswagen      no          \n",
       "354368  150000     gasoline  volkswagen      Nan         \n",
       "\n",
       "[354365 rows x 10 columns]"
      ]
     },
     "execution_count": 7,
     "metadata": {},
     "output_type": "execute_result"
    }
   ],
   "source": [
    "category_col = ['VehicleType', 'Gearbox', 'Model', 'FuelType', 'NotRepaired']\n",
    "df[category_col] = df[category_col].fillna('Nan')\n",
    "df"
   ]
  },
  {
   "cell_type": "markdown",
   "metadata": {},
   "source": [
    "Рассмотрим распределение количественных признаков."
   ]
  },
  {
   "cell_type": "code",
   "execution_count": 8,
   "metadata": {},
   "outputs": [
    {
     "data": {
      "text/html": [
       "<div>\n",
       "<style scoped>\n",
       "    .dataframe tbody tr th:only-of-type {\n",
       "        vertical-align: middle;\n",
       "    }\n",
       "\n",
       "    .dataframe tbody tr th {\n",
       "        vertical-align: top;\n",
       "    }\n",
       "\n",
       "    .dataframe thead th {\n",
       "        text-align: right;\n",
       "    }\n",
       "</style>\n",
       "<table border=\"1\" class=\"dataframe\">\n",
       "  <thead>\n",
       "    <tr style=\"text-align: right;\">\n",
       "      <th></th>\n",
       "      <th>Price</th>\n",
       "      <th>RegistrationYear</th>\n",
       "      <th>Power</th>\n",
       "      <th>Kilometer</th>\n",
       "    </tr>\n",
       "  </thead>\n",
       "  <tbody>\n",
       "    <tr>\n",
       "      <td>count</td>\n",
       "      <td>354365.000000</td>\n",
       "      <td>354365.000000</td>\n",
       "      <td>354365.000000</td>\n",
       "      <td>354365.000000</td>\n",
       "    </tr>\n",
       "    <tr>\n",
       "      <td>mean</td>\n",
       "      <td>4416.679830</td>\n",
       "      <td>2004.234481</td>\n",
       "      <td>110.093816</td>\n",
       "      <td>128211.363989</td>\n",
       "    </tr>\n",
       "    <tr>\n",
       "      <td>std</td>\n",
       "      <td>4514.176349</td>\n",
       "      <td>90.228466</td>\n",
       "      <td>189.851330</td>\n",
       "      <td>37905.083858</td>\n",
       "    </tr>\n",
       "    <tr>\n",
       "      <td>min</td>\n",
       "      <td>0.000000</td>\n",
       "      <td>1000.000000</td>\n",
       "      <td>0.000000</td>\n",
       "      <td>5000.000000</td>\n",
       "    </tr>\n",
       "    <tr>\n",
       "      <td>25%</td>\n",
       "      <td>1050.000000</td>\n",
       "      <td>1999.000000</td>\n",
       "      <td>69.000000</td>\n",
       "      <td>125000.000000</td>\n",
       "    </tr>\n",
       "    <tr>\n",
       "      <td>50%</td>\n",
       "      <td>2700.000000</td>\n",
       "      <td>2003.000000</td>\n",
       "      <td>105.000000</td>\n",
       "      <td>150000.000000</td>\n",
       "    </tr>\n",
       "    <tr>\n",
       "      <td>75%</td>\n",
       "      <td>6400.000000</td>\n",
       "      <td>2008.000000</td>\n",
       "      <td>143.000000</td>\n",
       "      <td>150000.000000</td>\n",
       "    </tr>\n",
       "    <tr>\n",
       "      <td>max</td>\n",
       "      <td>20000.000000</td>\n",
       "      <td>9999.000000</td>\n",
       "      <td>20000.000000</td>\n",
       "      <td>150000.000000</td>\n",
       "    </tr>\n",
       "  </tbody>\n",
       "</table>\n",
       "</div>"
      ],
      "text/plain": [
       "               Price  RegistrationYear          Power      Kilometer\n",
       "count  354365.000000  354365.000000     354365.000000  354365.000000\n",
       "mean   4416.679830    2004.234481       110.093816     128211.363989\n",
       "std    4514.176349    90.228466         189.851330     37905.083858 \n",
       "min    0.000000       1000.000000       0.000000       5000.000000  \n",
       "25%    1050.000000    1999.000000       69.000000      125000.000000\n",
       "50%    2700.000000    2003.000000       105.000000     150000.000000\n",
       "75%    6400.000000    2008.000000       143.000000     150000.000000\n",
       "max    20000.000000   9999.000000       20000.000000   150000.000000"
      ]
     },
     "execution_count": 8,
     "metadata": {},
     "output_type": "execute_result"
    }
   ],
   "source": [
    "df.describe()"
   ]
  },
  {
   "cell_type": "markdown",
   "metadata": {},
   "source": [
    "Стоит избавиться от аномально низких и высоких значений количественных признаков. Рассмотрим их поподробнее."
   ]
  },
  {
   "cell_type": "code",
   "execution_count": 9,
   "metadata": {
    "scrolled": false
   },
   "outputs": [],
   "source": [
    "# напишем функцию для визуализации количественных признаков\n",
    "def visual_column(df, column, bins):\n",
    "    plt.figure(figsize=(14, 6))\n",
    "    plt.title('График распределения колонки ' + column, fontsize=16)\n",
    "    plt.ylabel('Count')\n",
    "    sns.distplot(df[column], kde=False, bins=bins)\n",
    "    plt.show()\n",
    "    plt.figure(figsize=(14, 6))\n",
    "    plt.ylabel(column)\n",
    "    sns.boxplot(data=df[column], palette='rainbow')\n",
    "    plt.show()"
   ]
  },
  {
   "cell_type": "code",
   "execution_count": 10,
   "metadata": {},
   "outputs": [
    {
     "data": {
      "image/png": "[encoded data removed]",
      "text/plain": [
       "<Figure size 1008x432 with 1 Axes>"
      ]
     },
     "metadata": {
      "needs_background": "light"
     },
     "output_type": "display_data"
    },
    {
     "data": {
      "image/png": "[encoded data removed]",
      "text/plain": [
       "<Figure size 1008x432 with 1 Axes>"
      ]
     },
     "metadata": {
      "needs_background": "light"
     },
     "output_type": "display_data"
    }
   ],
   "source": [
    "visual_column(df, 'Price', 100)"
   ]
  },
  {
   "cell_type": "markdown",
   "metadata": {},
   "source": [
    "Так как на современных сайтах домена ру нет машин с ценой равной 0, то удалим только нулевые значения. Остальные значения оставим как есть, чтобы не удалять лишние данные, тем более это целевой признак."
   ]
  },
  {
   "cell_type": "code",
   "execution_count": 11,
   "metadata": {},
   "outputs": [
    {
     "data": {
      "text/html": [
       "<div>\n",
       "<style scoped>\n",
       "    .dataframe tbody tr th:only-of-type {\n",
       "        vertical-align: middle;\n",
       "    }\n",
       "\n",
       "    .dataframe tbody tr th {\n",
       "        vertical-align: top;\n",
       "    }\n",
       "\n",
       "    .dataframe thead th {\n",
       "        text-align: right;\n",
       "    }\n",
       "</style>\n",
       "<table border=\"1\" class=\"dataframe\">\n",
       "  <thead>\n",
       "    <tr style=\"text-align: right;\">\n",
       "      <th></th>\n",
       "      <th>Price</th>\n",
       "      <th>VehicleType</th>\n",
       "      <th>RegistrationYear</th>\n",
       "      <th>Gearbox</th>\n",
       "      <th>Power</th>\n",
       "      <th>Model</th>\n",
       "      <th>Kilometer</th>\n",
       "      <th>FuelType</th>\n",
       "      <th>Brand</th>\n",
       "      <th>NotRepaired</th>\n",
       "    </tr>\n",
       "  </thead>\n",
       "  <tbody>\n",
       "    <tr>\n",
       "      <td>0</td>\n",
       "      <td>480</td>\n",
       "      <td>Nan</td>\n",
       "      <td>1993</td>\n",
       "      <td>manual</td>\n",
       "      <td>0</td>\n",
       "      <td>golf</td>\n",
       "      <td>150000</td>\n",
       "      <td>petrol</td>\n",
       "      <td>volkswagen</td>\n",
       "      <td>Nan</td>\n",
       "    </tr>\n",
       "    <tr>\n",
       "      <td>1</td>\n",
       "      <td>18300</td>\n",
       "      <td>coupe</td>\n",
       "      <td>2011</td>\n",
       "      <td>manual</td>\n",
       "      <td>190</td>\n",
       "      <td>Nan</td>\n",
       "      <td>125000</td>\n",
       "      <td>gasoline</td>\n",
       "      <td>audi</td>\n",
       "      <td>yes</td>\n",
       "    </tr>\n",
       "    <tr>\n",
       "      <td>2</td>\n",
       "      <td>9800</td>\n",
       "      <td>suv</td>\n",
       "      <td>2004</td>\n",
       "      <td>auto</td>\n",
       "      <td>163</td>\n",
       "      <td>grand</td>\n",
       "      <td>125000</td>\n",
       "      <td>gasoline</td>\n",
       "      <td>jeep</td>\n",
       "      <td>Nan</td>\n",
       "    </tr>\n",
       "    <tr>\n",
       "      <td>3</td>\n",
       "      <td>1500</td>\n",
       "      <td>small</td>\n",
       "      <td>2001</td>\n",
       "      <td>manual</td>\n",
       "      <td>75</td>\n",
       "      <td>golf</td>\n",
       "      <td>150000</td>\n",
       "      <td>petrol</td>\n",
       "      <td>volkswagen</td>\n",
       "      <td>no</td>\n",
       "    </tr>\n",
       "    <tr>\n",
       "      <td>4</td>\n",
       "      <td>3600</td>\n",
       "      <td>small</td>\n",
       "      <td>2008</td>\n",
       "      <td>manual</td>\n",
       "      <td>69</td>\n",
       "      <td>fabia</td>\n",
       "      <td>90000</td>\n",
       "      <td>gasoline</td>\n",
       "      <td>skoda</td>\n",
       "      <td>no</td>\n",
       "    </tr>\n",
       "    <tr>\n",
       "      <td>...</td>\n",
       "      <td>...</td>\n",
       "      <td>...</td>\n",
       "      <td>...</td>\n",
       "      <td>...</td>\n",
       "      <td>...</td>\n",
       "      <td>...</td>\n",
       "      <td>...</td>\n",
       "      <td>...</td>\n",
       "      <td>...</td>\n",
       "      <td>...</td>\n",
       "    </tr>\n",
       "    <tr>\n",
       "      <td>343588</td>\n",
       "      <td>1150</td>\n",
       "      <td>bus</td>\n",
       "      <td>2000</td>\n",
       "      <td>manual</td>\n",
       "      <td>0</td>\n",
       "      <td>zafira</td>\n",
       "      <td>150000</td>\n",
       "      <td>petrol</td>\n",
       "      <td>opel</td>\n",
       "      <td>no</td>\n",
       "    </tr>\n",
       "    <tr>\n",
       "      <td>343589</td>\n",
       "      <td>2200</td>\n",
       "      <td>Nan</td>\n",
       "      <td>2005</td>\n",
       "      <td>Nan</td>\n",
       "      <td>0</td>\n",
       "      <td>Nan</td>\n",
       "      <td>20000</td>\n",
       "      <td>Nan</td>\n",
       "      <td>sonstige_autos</td>\n",
       "      <td>Nan</td>\n",
       "    </tr>\n",
       "    <tr>\n",
       "      <td>343590</td>\n",
       "      <td>1199</td>\n",
       "      <td>convertible</td>\n",
       "      <td>2000</td>\n",
       "      <td>auto</td>\n",
       "      <td>101</td>\n",
       "      <td>fortwo</td>\n",
       "      <td>125000</td>\n",
       "      <td>petrol</td>\n",
       "      <td>smart</td>\n",
       "      <td>no</td>\n",
       "    </tr>\n",
       "    <tr>\n",
       "      <td>343591</td>\n",
       "      <td>9200</td>\n",
       "      <td>bus</td>\n",
       "      <td>1996</td>\n",
       "      <td>manual</td>\n",
       "      <td>102</td>\n",
       "      <td>transporter</td>\n",
       "      <td>150000</td>\n",
       "      <td>gasoline</td>\n",
       "      <td>volkswagen</td>\n",
       "      <td>no</td>\n",
       "    </tr>\n",
       "    <tr>\n",
       "      <td>343592</td>\n",
       "      <td>3400</td>\n",
       "      <td>wagon</td>\n",
       "      <td>2002</td>\n",
       "      <td>manual</td>\n",
       "      <td>100</td>\n",
       "      <td>golf</td>\n",
       "      <td>150000</td>\n",
       "      <td>gasoline</td>\n",
       "      <td>volkswagen</td>\n",
       "      <td>Nan</td>\n",
       "    </tr>\n",
       "  </tbody>\n",
       "</table>\n",
       "<p>343593 rows × 10 columns</p>\n",
       "</div>"
      ],
      "text/plain": [
       "        Price  VehicleType  RegistrationYear Gearbox  Power        Model  \\\n",
       "0       480    Nan          1993              manual  0      golf          \n",
       "1       18300  coupe        2011              manual  190    Nan           \n",
       "2       9800   suv          2004              auto    163    grand         \n",
       "3       1500   small        2001              manual  75     golf          \n",
       "4       3600   small        2008              manual  69     fabia         \n",
       "...      ...     ...         ...                 ...  ..       ...         \n",
       "343588  1150   bus          2000              manual  0      zafira        \n",
       "343589  2200   Nan          2005              Nan     0      Nan           \n",
       "343590  1199   convertible  2000              auto    101    fortwo        \n",
       "343591  9200   bus          1996              manual  102    transporter   \n",
       "343592  3400   wagon        2002              manual  100    golf          \n",
       "\n",
       "        Kilometer  FuelType           Brand NotRepaired  \n",
       "0       150000     petrol    volkswagen      Nan         \n",
       "1       125000     gasoline  audi            yes         \n",
       "2       125000     gasoline  jeep            Nan         \n",
       "3       150000     petrol    volkswagen      no          \n",
       "4       90000      gasoline  skoda           no          \n",
       "...       ...           ...    ...           ..          \n",
       "343588  150000     petrol    opel            no          \n",
       "343589  20000      Nan       sonstige_autos  Nan         \n",
       "343590  125000     petrol    smart           no          \n",
       "343591  150000     gasoline  volkswagen      no          \n",
       "343592  150000     gasoline  volkswagen      Nan         \n",
       "\n",
       "[343593 rows x 10 columns]"
      ]
     },
     "execution_count": 11,
     "metadata": {},
     "output_type": "execute_result"
    }
   ],
   "source": [
    "df_good = df[df['Price'] > 0].reset_index(drop=True)\n",
    "df_good"
   ]
  },
  {
   "cell_type": "markdown",
   "metadata": {},
   "source": [
    "Далее рассмотрим колонку RegistrationYear."
   ]
  },
  {
   "cell_type": "code",
   "execution_count": 12,
   "metadata": {},
   "outputs": [
    {
     "data": {
      "text/plain": [
       "(1599.933, 2199.867]    343463\n",
       "(991.0, 1599.933]       45    \n",
       "(9399.067, 9999.0]      19    \n",
       "(4599.6, 5199.533]      17    \n",
       "(2799.8, 3399.733]      9     \n",
       "(5799.467, 6399.4]      8     \n",
       "(3999.667, 4599.6]      6     \n",
       "(2199.867, 2799.8]      6     \n",
       "(6999.333, 7599.267]    5     \n",
       "(5199.533, 5799.467]    4     \n",
       "(8799.133, 9399.067]    3     \n",
       "(7599.267, 8199.2]      3     \n",
       "(8199.2, 8799.133]      2     \n",
       "(3399.733, 3999.667]    2     \n",
       "(6399.4, 6999.333]      1     \n",
       "Name: RegistrationYear, dtype: int64"
      ]
     },
     "execution_count": 12,
     "metadata": {},
     "output_type": "execute_result"
    }
   ],
   "source": [
    "df_good['RegistrationYear'].value_counts(bins=15)"
   ]
  },
  {
   "cell_type": "markdown",
   "metadata": {},
   "source": [
    "БОльшая часть данных находится в диапазоне [1599.933, 2199.867], логично будет сузить его с 1900 года до 2020 года."
   ]
  },
  {
   "cell_type": "code",
   "execution_count": 13,
   "metadata": {},
   "outputs": [
    {
     "name": "stdout",
     "output_type": "stream",
     "text": [
      "Минимальный год регистрации: 1910\n",
      "Максимальный год регистрации: 2019\n"
     ]
    }
   ],
   "source": [
    "df_good = df_good.query('RegistrationYear > 1900 and RegistrationYear < 2021').copy()\n",
    "print('Минимальный год регистрации:', df_good['RegistrationYear'].min())\n",
    "print('Максимальный год регистрации:', df_good['RegistrationYear'].max())"
   ]
  },
  {
   "cell_type": "markdown",
   "metadata": {},
   "source": [
    "Рассмотрим колонку Power."
   ]
  },
  {
   "cell_type": "code",
   "execution_count": 14,
   "metadata": {},
   "outputs": [
    {
     "data": {
      "text/plain": [
       "(-20.001, 1333.333]       343237\n",
       "(1333.333, 2666.667]      126   \n",
       "(5333.333, 6666.667]      16    \n",
       "(8000.0, 9333.333]        10    \n",
       "(10666.667, 12000.0]      9     \n",
       "(6666.667, 8000.0]        9     \n",
       "(2666.667, 4000.0]        9     \n",
       "(12000.0, 13333.333]      7     \n",
       "(9333.333, 10666.667]     7     \n",
       "(16000.0, 17333.333]      6     \n",
       "(18666.667, 20000.0]      4     \n",
       "(14666.667, 16000.0]      4     \n",
       "(4000.0, 5333.333]        4     \n",
       "(17333.333, 18666.667]    3     \n",
       "(13333.333, 14666.667]    3     \n",
       "Name: Power, dtype: int64"
      ]
     },
     "execution_count": 14,
     "metadata": {},
     "output_type": "execute_result"
    }
   ],
   "source": [
    "df_good['Power'].value_counts(bins=15)"
   ]
  },
  {
   "cell_type": "code",
   "execution_count": 15,
   "metadata": {},
   "outputs": [
    {
     "data": {
      "text/plain": [
       "36259"
      ]
     },
     "execution_count": 15,
     "metadata": {},
     "output_type": "execute_result"
    }
   ],
   "source": [
    "df_good.query('Power == 0')['Power'].count()"
   ]
  },
  {
   "cell_type": "code",
   "execution_count": 16,
   "metadata": {},
   "outputs": [
    {
     "data": {
      "image/png": "[encoded data removed]",
      "text/plain": [
       "<Figure size 1008x432 with 1 Axes>"
      ]
     },
     "metadata": {
      "needs_background": "light"
     },
     "output_type": "display_data"
    },
    {
     "data": {
      "image/png": "[encoded data removed]",
      "text/plain": [
       "<Figure size 1008x432 with 1 Axes>"
      ]
     },
     "metadata": {
      "needs_background": "light"
     },
     "output_type": "display_data"
    }
   ],
   "source": [
    "visual_column(df_good, 'Power', 100)"
   ]
  },
  {
   "cell_type": "markdown",
   "metadata": {},
   "source": [
    "Очень много нулей а так же аномально высоких значений в колонке Power. Нули заменим медианой в зависимости от других значений. А так же удалим значения, которые превышают 700 л.с., чтобы не исключать дорогие машины."
   ]
  },
  {
   "cell_type": "code",
   "execution_count": 17,
   "metadata": {},
   "outputs": [
    {
     "name": "stdout",
     "output_type": "stream",
     "text": [
      "К-во пропусков: 846\n"
     ]
    }
   ],
   "source": [
    "df_good['Power'] = df_good['Power'].replace(0, np.nan)\n",
    "median_power = df_good.groupby(['Brand', 'Model', 'FuelType', 'Kilometer'])['Power'].transform('median')\n",
    "df_good['Power'] = df_good['Power'].fillna(median_power)\n",
    "print('К-во пропусков:', df_good['Power'].isnull().sum())"
   ]
  },
  {
   "cell_type": "markdown",
   "metadata": {},
   "source": [
    "Удалим незаполненные значения и значения больше 700 л.с."
   ]
  },
  {
   "cell_type": "code",
   "execution_count": 18,
   "metadata": {},
   "outputs": [
    {
     "data": {
      "text/plain": [
       "Price               0\n",
       "VehicleType         0\n",
       "RegistrationYear    0\n",
       "Gearbox             0\n",
       "Power               0\n",
       "Model               0\n",
       "Kilometer           0\n",
       "FuelType            0\n",
       "Brand               0\n",
       "NotRepaired         0\n",
       "dtype: int64"
      ]
     },
     "execution_count": 18,
     "metadata": {},
     "output_type": "execute_result"
    }
   ],
   "source": [
    "df_good.dropna(inplace=True)\n",
    "df_good.isnull().sum()"
   ]
  },
  {
   "cell_type": "code",
   "execution_count": 19,
   "metadata": {},
   "outputs": [
    {
     "data": {
      "image/png": "[encoded data removed]",
      "text/plain": [
       "<Figure size 1008x432 with 1 Axes>"
      ]
     },
     "metadata": {
      "needs_background": "light"
     },
     "output_type": "display_data"
    },
    {
     "data": {
      "image/png": "[encoded data removed]",
      "text/plain": [
       "<Figure size 1008x432 with 1 Axes>"
      ]
     },
     "metadata": {
      "needs_background": "light"
     },
     "output_type": "display_data"
    }
   ],
   "source": [
    "df_good = df_good.query('Power < 700').copy()\n",
    "visual_column(df_good, 'Power', 100)"
   ]
  },
  {
   "cell_type": "markdown",
   "metadata": {},
   "source": [
    "Рассмотрим колонку Kilometer."
   ]
  },
  {
   "cell_type": "code",
   "execution_count": 20,
   "metadata": {},
   "outputs": [
    {
     "data": {
      "image/png": "[encoded data removed]",
      "text/plain": [
       "<Figure size 1008x432 with 1 Axes>"
      ]
     },
     "metadata": {
      "needs_background": "light"
     },
     "output_type": "display_data"
    },
    {
     "data": {
      "image/png": "[encoded data removed]",
      "text/plain": [
       "<Figure size 1008x432 with 1 Axes>"
      ]
     },
     "metadata": {
      "needs_background": "light"
     },
     "output_type": "display_data"
    }
   ],
   "source": [
    "visual_column(df_good, 'Kilometer', 100)"
   ]
  },
  {
   "cell_type": "markdown",
   "metadata": {},
   "source": [
    "В данных есть как новые так и старые автомобили, так что лучше оставим данные как есть."
   ]
  },
  {
   "cell_type": "markdown",
   "metadata": {},
   "source": [
    "Мы проанализировали данные, удалили дубликаты, аномальные значения и в категориальных данных ввели новую категорию Nan, чтобы сохранить большую часть данных. Можно приступать к обучению модели."
   ]
  },
  {
   "cell_type": "markdown",
   "metadata": {},
   "source": [
    "## Обучение моделей"
   ]
  },
  {
   "cell_type": "markdown",
   "metadata": {},
   "source": [
    "Для обучения LGBMRegressor'а преобразуем тип категориальных данных."
   ]
  },
  {
   "cell_type": "code",
   "execution_count": 21,
   "metadata": {},
   "outputs": [],
   "source": [
    "df_good_cat_col = ['NotRepaired', 'VehicleType', 'FuelType', 'Gearbox', 'Model', 'Brand']\n",
    "df_good[df_good_cat_col] = df_good[df_good_cat_col].astype('category')"
   ]
  },
  {
   "cell_type": "code",
   "execution_count": 22,
   "metadata": {},
   "outputs": [
    {
     "data": {
      "text/plain": [
       "Price               int64   \n",
       "VehicleType         category\n",
       "RegistrationYear    int64   \n",
       "Gearbox             category\n",
       "Power               float64 \n",
       "Model               category\n",
       "Kilometer           int64   \n",
       "FuelType            category\n",
       "Brand               category\n",
       "NotRepaired         category\n",
       "dtype: object"
      ]
     },
     "execution_count": 22,
     "metadata": {},
     "output_type": "execute_result"
    }
   ],
   "source": [
    "df_good.dtypes"
   ]
  },
  {
   "cell_type": "markdown",
   "metadata": {},
   "source": [
    "Преобразуем категориальные признаки в численные с помощью get_dummies(). используем drop_first, чтобы не попасть в дамми-ловушку."
   ]
  },
  {
   "cell_type": "code",
   "execution_count": 23,
   "metadata": {},
   "outputs": [
    {
     "data": {
      "text/html": [
       "<div>\n",
       "<style scoped>\n",
       "    .dataframe tbody tr th:only-of-type {\n",
       "        vertical-align: middle;\n",
       "    }\n",
       "\n",
       "    .dataframe tbody tr th {\n",
       "        vertical-align: top;\n",
       "    }\n",
       "\n",
       "    .dataframe thead th {\n",
       "        text-align: right;\n",
       "    }\n",
       "</style>\n",
       "<table border=\"1\" class=\"dataframe\">\n",
       "  <thead>\n",
       "    <tr style=\"text-align: right;\">\n",
       "      <th></th>\n",
       "      <th>Price</th>\n",
       "      <th>RegistrationYear</th>\n",
       "      <th>Power</th>\n",
       "      <th>Kilometer</th>\n",
       "      <th>VehicleType_bus</th>\n",
       "      <th>VehicleType_convertible</th>\n",
       "      <th>VehicleType_coupe</th>\n",
       "      <th>VehicleType_other</th>\n",
       "      <th>VehicleType_sedan</th>\n",
       "      <th>VehicleType_small</th>\n",
       "      <th>...</th>\n",
       "      <th>Brand_smart</th>\n",
       "      <th>Brand_sonstige_autos</th>\n",
       "      <th>Brand_subaru</th>\n",
       "      <th>Brand_suzuki</th>\n",
       "      <th>Brand_toyota</th>\n",
       "      <th>Brand_trabant</th>\n",
       "      <th>Brand_volkswagen</th>\n",
       "      <th>Brand_volvo</th>\n",
       "      <th>NotRepaired_no</th>\n",
       "      <th>NotRepaired_yes</th>\n",
       "    </tr>\n",
       "  </thead>\n",
       "  <tbody>\n",
       "    <tr>\n",
       "      <td>0</td>\n",
       "      <td>480</td>\n",
       "      <td>1993</td>\n",
       "      <td>90.0</td>\n",
       "      <td>150000</td>\n",
       "      <td>0</td>\n",
       "      <td>0</td>\n",
       "      <td>0</td>\n",
       "      <td>0</td>\n",
       "      <td>0</td>\n",
       "      <td>0</td>\n",
       "      <td>...</td>\n",
       "      <td>0</td>\n",
       "      <td>0</td>\n",
       "      <td>0</td>\n",
       "      <td>0</td>\n",
       "      <td>0</td>\n",
       "      <td>0</td>\n",
       "      <td>1</td>\n",
       "      <td>0</td>\n",
       "      <td>0</td>\n",
       "      <td>0</td>\n",
       "    </tr>\n",
       "    <tr>\n",
       "      <td>1</td>\n",
       "      <td>18300</td>\n",
       "      <td>2011</td>\n",
       "      <td>190.0</td>\n",
       "      <td>125000</td>\n",
       "      <td>0</td>\n",
       "      <td>0</td>\n",
       "      <td>1</td>\n",
       "      <td>0</td>\n",
       "      <td>0</td>\n",
       "      <td>0</td>\n",
       "      <td>...</td>\n",
       "      <td>0</td>\n",
       "      <td>0</td>\n",
       "      <td>0</td>\n",
       "      <td>0</td>\n",
       "      <td>0</td>\n",
       "      <td>0</td>\n",
       "      <td>0</td>\n",
       "      <td>0</td>\n",
       "      <td>0</td>\n",
       "      <td>1</td>\n",
       "    </tr>\n",
       "    <tr>\n",
       "      <td>2</td>\n",
       "      <td>9800</td>\n",
       "      <td>2004</td>\n",
       "      <td>163.0</td>\n",
       "      <td>125000</td>\n",
       "      <td>0</td>\n",
       "      <td>0</td>\n",
       "      <td>0</td>\n",
       "      <td>0</td>\n",
       "      <td>0</td>\n",
       "      <td>0</td>\n",
       "      <td>...</td>\n",
       "      <td>0</td>\n",
       "      <td>0</td>\n",
       "      <td>0</td>\n",
       "      <td>0</td>\n",
       "      <td>0</td>\n",
       "      <td>0</td>\n",
       "      <td>0</td>\n",
       "      <td>0</td>\n",
       "      <td>0</td>\n",
       "      <td>0</td>\n",
       "    </tr>\n",
       "    <tr>\n",
       "      <td>3</td>\n",
       "      <td>1500</td>\n",
       "      <td>2001</td>\n",
       "      <td>75.0</td>\n",
       "      <td>150000</td>\n",
       "      <td>0</td>\n",
       "      <td>0</td>\n",
       "      <td>0</td>\n",
       "      <td>0</td>\n",
       "      <td>0</td>\n",
       "      <td>1</td>\n",
       "      <td>...</td>\n",
       "      <td>0</td>\n",
       "      <td>0</td>\n",
       "      <td>0</td>\n",
       "      <td>0</td>\n",
       "      <td>0</td>\n",
       "      <td>0</td>\n",
       "      <td>1</td>\n",
       "      <td>0</td>\n",
       "      <td>1</td>\n",
       "      <td>0</td>\n",
       "    </tr>\n",
       "    <tr>\n",
       "      <td>4</td>\n",
       "      <td>3600</td>\n",
       "      <td>2008</td>\n",
       "      <td>69.0</td>\n",
       "      <td>90000</td>\n",
       "      <td>0</td>\n",
       "      <td>0</td>\n",
       "      <td>0</td>\n",
       "      <td>0</td>\n",
       "      <td>0</td>\n",
       "      <td>1</td>\n",
       "      <td>...</td>\n",
       "      <td>0</td>\n",
       "      <td>0</td>\n",
       "      <td>0</td>\n",
       "      <td>0</td>\n",
       "      <td>0</td>\n",
       "      <td>0</td>\n",
       "      <td>0</td>\n",
       "      <td>0</td>\n",
       "      <td>1</td>\n",
       "      <td>0</td>\n",
       "    </tr>\n",
       "  </tbody>\n",
       "</table>\n",
       "<p>5 rows × 311 columns</p>\n",
       "</div>"
      ],
      "text/plain": [
       "   Price  RegistrationYear  Power  Kilometer  VehicleType_bus  \\\n",
       "0  480    1993              90.0   150000     0                 \n",
       "1  18300  2011              190.0  125000     0                 \n",
       "2  9800   2004              163.0  125000     0                 \n",
       "3  1500   2001              75.0   150000     0                 \n",
       "4  3600   2008              69.0   90000      0                 \n",
       "\n",
       "   VehicleType_convertible  VehicleType_coupe  VehicleType_other  \\\n",
       "0  0                        0                  0                   \n",
       "1  0                        1                  0                   \n",
       "2  0                        0                  0                   \n",
       "3  0                        0                  0                   \n",
       "4  0                        0                  0                   \n",
       "\n",
       "   VehicleType_sedan  VehicleType_small  ...  Brand_smart  \\\n",
       "0  0                  0                  ...  0             \n",
       "1  0                  0                  ...  0             \n",
       "2  0                  0                  ...  0             \n",
       "3  0                  1                  ...  0             \n",
       "4  0                  1                  ...  0             \n",
       "\n",
       "   Brand_sonstige_autos  Brand_subaru  Brand_suzuki  Brand_toyota  \\\n",
       "0  0                     0             0             0              \n",
       "1  0                     0             0             0              \n",
       "2  0                     0             0             0              \n",
       "3  0                     0             0             0              \n",
       "4  0                     0             0             0              \n",
       "\n",
       "   Brand_trabant  Brand_volkswagen  Brand_volvo  NotRepaired_no  \\\n",
       "0  0              1                 0            0                \n",
       "1  0              0                 0            0                \n",
       "2  0              0                 0            0                \n",
       "3  0              1                 0            1                \n",
       "4  0              0                 0            1                \n",
       "\n",
       "   NotRepaired_yes  \n",
       "0  0                \n",
       "1  1                \n",
       "2  0                \n",
       "3  0                \n",
       "4  0                \n",
       "\n",
       "[5 rows x 311 columns]"
      ]
     },
     "execution_count": 23,
     "metadata": {},
     "output_type": "execute_result"
    }
   ],
   "source": [
    "df_good_ohe = pd.get_dummies(df_good, drop_first=True).copy()\n",
    "df_good_ohe.head()"
   ]
  },
  {
   "cell_type": "markdown",
   "metadata": {},
   "source": [
    "Разобьем данные на выборки: обучающую, валидационную и тестову в соотношении 3:1:1."
   ]
  },
  {
   "cell_type": "code",
   "execution_count": 24,
   "metadata": {},
   "outputs": [],
   "source": [
    "features = df_good_ohe.drop('Price', axis=1).copy()\n",
    "target = df_good_ohe['Price'].copy()\n",
    "features_train, features_valid, target_train, target_valid = train_test_split(features, \n",
    "                                                                              target, \n",
    "                                                                              train_size=0.60, \n",
    "                                                                              test_size=0.40, \n",
    "                                                                              random_state=RANDOM_STATE)\n",
    "features_valid, features_test, target_valid, target_test = train_test_split(features_valid, \n",
    "                                                                            target_valid, \n",
    "                                                                            train_size=0.50, \n",
    "                                                                            test_size=0.50, \n",
    "                                                                            random_state=RANDOM_STATE)"
   ]
  },
  {
   "cell_type": "code",
   "execution_count": 25,
   "metadata": {},
   "outputs": [
    {
     "name": "stdout",
     "output_type": "stream",
     "text": [
      "Размер выборки features_train: (205368, 310)\n",
      "Размер выборки target_train: (205368,)\n",
      "Размер выборки features_valid: (68456, 310)\n",
      "Размер выборки target_valid: (68456,)\n",
      "Размер выборки features_test: (68456, 310)\n",
      "Размер выборки target_test: (68456,)\n"
     ]
    }
   ],
   "source": [
    "print('Размер выборки features_train:', features_train.shape)\n",
    "print('Размер выборки target_train:', target_train.shape)\n",
    "print('Размер выборки features_valid:', features_valid.shape)\n",
    "print('Размер выборки target_valid:', target_valid.shape)\n",
    "print('Размер выборки features_test:', features_test.shape)\n",
    "print('Размер выборки target_test:', target_test.shape)"
   ]
  },
  {
   "cell_type": "markdown",
   "metadata": {},
   "source": [
    "Разбили данные успешно."
   ]
  },
  {
   "cell_type": "markdown",
   "metadata": {},
   "source": [
    "Масштабируем признаки с помощью StandardScaler()."
   ]
  },
  {
   "cell_type": "code",
   "execution_count": 26,
   "metadata": {},
   "outputs": [
    {
     "data": {
      "text/plain": [
       "StandardScaler(copy=True, with_mean=True, with_std=True)"
      ]
     },
     "execution_count": 26,
     "metadata": {},
     "output_type": "execute_result"
    }
   ],
   "source": [
    "numeric = ['RegistrationYear', 'Power', 'Kilometer']\n",
    "scaler = StandardScaler()\n",
    "scaler.fit(features_train[numeric])"
   ]
  },
  {
   "cell_type": "code",
   "execution_count": 27,
   "metadata": {},
   "outputs": [],
   "source": [
    "features_train[numeric] = scaler.transform(features_train[numeric]).copy()\n",
    "features_valid[numeric] = scaler.transform(features_valid[numeric]).copy()\n",
    "features_test[numeric] = scaler.transform(features_test[numeric]).copy()"
   ]
  },
  {
   "cell_type": "code",
   "execution_count": 28,
   "metadata": {},
   "outputs": [
    {
     "data": {
      "text/html": [
       "<div>\n",
       "<style scoped>\n",
       "    .dataframe tbody tr th:only-of-type {\n",
       "        vertical-align: middle;\n",
       "    }\n",
       "\n",
       "    .dataframe tbody tr th {\n",
       "        vertical-align: top;\n",
       "    }\n",
       "\n",
       "    .dataframe thead th {\n",
       "        text-align: right;\n",
       "    }\n",
       "</style>\n",
       "<table border=\"1\" class=\"dataframe\">\n",
       "  <thead>\n",
       "    <tr style=\"text-align: right;\">\n",
       "      <th></th>\n",
       "      <th>RegistrationYear</th>\n",
       "      <th>Power</th>\n",
       "      <th>Kilometer</th>\n",
       "      <th>VehicleType_bus</th>\n",
       "      <th>VehicleType_convertible</th>\n",
       "      <th>VehicleType_coupe</th>\n",
       "      <th>VehicleType_other</th>\n",
       "      <th>VehicleType_sedan</th>\n",
       "      <th>VehicleType_small</th>\n",
       "      <th>VehicleType_suv</th>\n",
       "      <th>...</th>\n",
       "      <th>Brand_smart</th>\n",
       "      <th>Brand_sonstige_autos</th>\n",
       "      <th>Brand_subaru</th>\n",
       "      <th>Brand_suzuki</th>\n",
       "      <th>Brand_toyota</th>\n",
       "      <th>Brand_trabant</th>\n",
       "      <th>Brand_volkswagen</th>\n",
       "      <th>Brand_volvo</th>\n",
       "      <th>NotRepaired_no</th>\n",
       "      <th>NotRepaired_yes</th>\n",
       "    </tr>\n",
       "  </thead>\n",
       "  <tbody>\n",
       "    <tr>\n",
       "      <td>308835</td>\n",
       "      <td>-0.711336</td>\n",
       "      <td>0.532111</td>\n",
       "      <td>0.576776</td>\n",
       "      <td>0</td>\n",
       "      <td>0</td>\n",
       "      <td>1</td>\n",
       "      <td>0</td>\n",
       "      <td>0</td>\n",
       "      <td>0</td>\n",
       "      <td>0</td>\n",
       "      <td>...</td>\n",
       "      <td>0</td>\n",
       "      <td>0</td>\n",
       "      <td>0</td>\n",
       "      <td>0</td>\n",
       "      <td>0</td>\n",
       "      <td>0</td>\n",
       "      <td>0</td>\n",
       "      <td>0</td>\n",
       "      <td>0</td>\n",
       "      <td>1</td>\n",
       "    </tr>\n",
       "    <tr>\n",
       "      <td>136872</td>\n",
       "      <td>1.741520</td>\n",
       "      <td>-1.105491</td>\n",
       "      <td>0.576776</td>\n",
       "      <td>0</td>\n",
       "      <td>0</td>\n",
       "      <td>0</td>\n",
       "      <td>0</td>\n",
       "      <td>0</td>\n",
       "      <td>0</td>\n",
       "      <td>0</td>\n",
       "      <td>...</td>\n",
       "      <td>0</td>\n",
       "      <td>0</td>\n",
       "      <td>0</td>\n",
       "      <td>0</td>\n",
       "      <td>0</td>\n",
       "      <td>0</td>\n",
       "      <td>1</td>\n",
       "      <td>0</td>\n",
       "      <td>0</td>\n",
       "      <td>0</td>\n",
       "    </tr>\n",
       "    <tr>\n",
       "      <td>97758</td>\n",
       "      <td>-1.120146</td>\n",
       "      <td>-0.823145</td>\n",
       "      <td>0.576776</td>\n",
       "      <td>0</td>\n",
       "      <td>0</td>\n",
       "      <td>0</td>\n",
       "      <td>0</td>\n",
       "      <td>1</td>\n",
       "      <td>0</td>\n",
       "      <td>0</td>\n",
       "      <td>...</td>\n",
       "      <td>0</td>\n",
       "      <td>0</td>\n",
       "      <td>0</td>\n",
       "      <td>0</td>\n",
       "      <td>0</td>\n",
       "      <td>0</td>\n",
       "      <td>0</td>\n",
       "      <td>0</td>\n",
       "      <td>1</td>\n",
       "      <td>0</td>\n",
       "    </tr>\n",
       "    <tr>\n",
       "      <td>165041</td>\n",
       "      <td>0.106282</td>\n",
       "      <td>0.023890</td>\n",
       "      <td>0.576776</td>\n",
       "      <td>1</td>\n",
       "      <td>0</td>\n",
       "      <td>0</td>\n",
       "      <td>0</td>\n",
       "      <td>0</td>\n",
       "      <td>0</td>\n",
       "      <td>0</td>\n",
       "      <td>...</td>\n",
       "      <td>0</td>\n",
       "      <td>0</td>\n",
       "      <td>0</td>\n",
       "      <td>0</td>\n",
       "      <td>0</td>\n",
       "      <td>0</td>\n",
       "      <td>0</td>\n",
       "      <td>0</td>\n",
       "      <td>0</td>\n",
       "      <td>0</td>\n",
       "    </tr>\n",
       "    <tr>\n",
       "      <td>49833</td>\n",
       "      <td>-0.438797</td>\n",
       "      <td>-0.333747</td>\n",
       "      <td>0.576776</td>\n",
       "      <td>0</td>\n",
       "      <td>0</td>\n",
       "      <td>0</td>\n",
       "      <td>0</td>\n",
       "      <td>1</td>\n",
       "      <td>0</td>\n",
       "      <td>0</td>\n",
       "      <td>...</td>\n",
       "      <td>0</td>\n",
       "      <td>0</td>\n",
       "      <td>0</td>\n",
       "      <td>0</td>\n",
       "      <td>0</td>\n",
       "      <td>0</td>\n",
       "      <td>1</td>\n",
       "      <td>0</td>\n",
       "      <td>1</td>\n",
       "      <td>0</td>\n",
       "    </tr>\n",
       "  </tbody>\n",
       "</table>\n",
       "<p>5 rows × 310 columns</p>\n",
       "</div>"
      ],
      "text/plain": [
       "        RegistrationYear     Power  Kilometer  VehicleType_bus  \\\n",
       "308835 -0.711336          0.532111  0.576776   0                 \n",
       "136872  1.741520         -1.105491  0.576776   0                 \n",
       "97758  -1.120146         -0.823145  0.576776   0                 \n",
       "165041  0.106282          0.023890  0.576776   1                 \n",
       "49833  -0.438797         -0.333747  0.576776   0                 \n",
       "\n",
       "        VehicleType_convertible  VehicleType_coupe  VehicleType_other  \\\n",
       "308835  0                        1                  0                   \n",
       "136872  0                        0                  0                   \n",
       "97758   0                        0                  0                   \n",
       "165041  0                        0                  0                   \n",
       "49833   0                        0                  0                   \n",
       "\n",
       "        VehicleType_sedan  VehicleType_small  VehicleType_suv  ...  \\\n",
       "308835  0                  0                  0                ...   \n",
       "136872  0                  0                  0                ...   \n",
       "97758   1                  0                  0                ...   \n",
       "165041  0                  0                  0                ...   \n",
       "49833   1                  0                  0                ...   \n",
       "\n",
       "        Brand_smart  Brand_sonstige_autos  Brand_subaru  Brand_suzuki  \\\n",
       "308835  0            0                     0             0              \n",
       "136872  0            0                     0             0              \n",
       "97758   0            0                     0             0              \n",
       "165041  0            0                     0             0              \n",
       "49833   0            0                     0             0              \n",
       "\n",
       "        Brand_toyota  Brand_trabant  Brand_volkswagen  Brand_volvo  \\\n",
       "308835  0             0              0                 0             \n",
       "136872  0             0              1                 0             \n",
       "97758   0             0              0                 0             \n",
       "165041  0             0              0                 0             \n",
       "49833   0             0              1                 0             \n",
       "\n",
       "        NotRepaired_no  NotRepaired_yes  \n",
       "308835  0               1                \n",
       "136872  0               0                \n",
       "97758   1               0                \n",
       "165041  0               0                \n",
       "49833   1               0                \n",
       "\n",
       "[5 rows x 310 columns]"
      ]
     },
     "execution_count": 28,
     "metadata": {},
     "output_type": "execute_result"
    }
   ],
   "source": [
    "features_train.head()"
   ]
  },
  {
   "cell_type": "markdown",
   "metadata": {},
   "source": [
    "Данные отмасштабированы."
   ]
  },
  {
   "cell_type": "markdown",
   "metadata": {},
   "source": [
    "### Линейная регрессия"
   ]
  },
  {
   "cell_type": "markdown",
   "metadata": {},
   "source": [
    "Начнем с линейной регрессии."
   ]
  },
  {
   "cell_type": "code",
   "execution_count": 29,
   "metadata": {},
   "outputs": [],
   "source": [
    "model_lr = LinearRegression()"
   ]
  },
  {
   "cell_type": "code",
   "execution_count": 30,
   "metadata": {},
   "outputs": [
    {
     "name": "stdout",
     "output_type": "stream",
     "text": [
      "End time fit:  25.57855248451233\n"
     ]
    }
   ],
   "source": [
    "start = time.time() \n",
    "model_lr.fit(features_train, target_train)\n",
    "end_time_fit = time.time() - start\n",
    "print('End time fit: ', end_time_fit)"
   ]
  },
  {
   "cell_type": "code",
   "execution_count": 31,
   "metadata": {},
   "outputs": [
    {
     "name": "stdout",
     "output_type": "stream",
     "text": [
      "End time predict:  0.19343280792236328\n"
     ]
    }
   ],
   "source": [
    "start = time.time() \n",
    "predictions_lr = model_lr.predict(features_valid)\n",
    "end_time_predict = time.time() - start\n",
    "print('End time predict: ', end_time_predict)"
   ]
  },
  {
   "cell_type": "code",
   "execution_count": 32,
   "metadata": {},
   "outputs": [
    {
     "data": {
      "text/html": [
       "<div>\n",
       "<style scoped>\n",
       "    .dataframe tbody tr th:only-of-type {\n",
       "        vertical-align: middle;\n",
       "    }\n",
       "\n",
       "    .dataframe tbody tr th {\n",
       "        vertical-align: top;\n",
       "    }\n",
       "\n",
       "    .dataframe thead th {\n",
       "        text-align: right;\n",
       "    }\n",
       "</style>\n",
       "<table border=\"1\" class=\"dataframe\">\n",
       "  <thead>\n",
       "    <tr style=\"text-align: right;\">\n",
       "      <th></th>\n",
       "      <th>Модель</th>\n",
       "      <th>Параметры</th>\n",
       "      <th>Время обучения</th>\n",
       "      <th>Время предсказания</th>\n",
       "      <th>RMSE</th>\n",
       "    </tr>\n",
       "  </thead>\n",
       "  <tbody>\n",
       "    <tr>\n",
       "      <td>0</td>\n",
       "      <td>LinearRegression</td>\n",
       "      <td>NaN</td>\n",
       "      <td>25.578552</td>\n",
       "      <td>0.193433</td>\n",
       "      <td>2656.608242</td>\n",
       "    </tr>\n",
       "  </tbody>\n",
       "</table>\n",
       "</div>"
      ],
      "text/plain": [
       "             Модель  Параметры  Время обучения  Время предсказания  \\\n",
       "0  LinearRegression NaN         25.578552       0.193433             \n",
       "\n",
       "          RMSE  \n",
       "0  2656.608242  "
      ]
     },
     "execution_count": 32,
     "metadata": {},
     "output_type": "execute_result"
    }
   ],
   "source": [
    "results = []\n",
    "results.append({'Модель': 'LinearRegression', \n",
    "                'Параметры': np.nan, \n",
    "                'Время обучения': end_time_fit, \n",
    "                'Время предсказания': end_time_predict, \n",
    "                'RMSE': sqrt(mean_squared_error(target_valid, predictions_lr))})\n",
    "\n",
    "pd.DataFrame(results)"
   ]
  },
  {
   "cell_type": "markdown",
   "metadata": {},
   "source": [
    "Очень большая RMSE, но время обучения и предсказания небольшие. Рассмотрим модели дальше и сравним."
   ]
  },
  {
   "cell_type": "markdown",
   "metadata": {},
   "source": [
    "### Случайный лес"
   ]
  },
  {
   "cell_type": "code",
   "execution_count": 33,
   "metadata": {},
   "outputs": [],
   "source": [
    "model_rf = RandomForestRegressor()"
   ]
  },
  {
   "cell_type": "code",
   "execution_count": 34,
   "metadata": {},
   "outputs": [
    {
     "name": "stdout",
     "output_type": "stream",
     "text": [
      "End time fit:  59.119484186172485\n"
     ]
    }
   ],
   "source": [
    "start = time.time() \n",
    "model_rf.fit(features_train, target_train)\n",
    "end_time_fit = time.time() - start\n",
    "print('End time fit: ', end_time_fit)"
   ]
  },
  {
   "cell_type": "code",
   "execution_count": 35,
   "metadata": {},
   "outputs": [
    {
     "name": "stdout",
     "output_type": "stream",
     "text": [
      "End time predict: 0.6453680992126465\n"
     ]
    }
   ],
   "source": [
    "start = time.time() \n",
    "predictions_rf = model_rf.predict(features_valid)\n",
    "end_time_predict = time.time() - start\n",
    "print('End time predict:', end_time_predict)"
   ]
  },
  {
   "cell_type": "code",
   "execution_count": 36,
   "metadata": {},
   "outputs": [
    {
     "data": {
      "text/html": [
       "<div>\n",
       "<style scoped>\n",
       "    .dataframe tbody tr th:only-of-type {\n",
       "        vertical-align: middle;\n",
       "    }\n",
       "\n",
       "    .dataframe tbody tr th {\n",
       "        vertical-align: top;\n",
       "    }\n",
       "\n",
       "    .dataframe thead th {\n",
       "        text-align: right;\n",
       "    }\n",
       "</style>\n",
       "<table border=\"1\" class=\"dataframe\">\n",
       "  <thead>\n",
       "    <tr style=\"text-align: right;\">\n",
       "      <th></th>\n",
       "      <th>Модель</th>\n",
       "      <th>Параметры</th>\n",
       "      <th>Время обучения</th>\n",
       "      <th>Время предсказания</th>\n",
       "      <th>RMSE</th>\n",
       "    </tr>\n",
       "  </thead>\n",
       "  <tbody>\n",
       "    <tr>\n",
       "      <td>0</td>\n",
       "      <td>LinearRegression</td>\n",
       "      <td>NaN</td>\n",
       "      <td>25.578552</td>\n",
       "      <td>0.193433</td>\n",
       "      <td>2656.608242</td>\n",
       "    </tr>\n",
       "    <tr>\n",
       "      <td>1</td>\n",
       "      <td>RandomForestRegressor</td>\n",
       "      <td>NaN</td>\n",
       "      <td>59.119484</td>\n",
       "      <td>0.645368</td>\n",
       "      <td>1702.510632</td>\n",
       "    </tr>\n",
       "  </tbody>\n",
       "</table>\n",
       "</div>"
      ],
      "text/plain": [
       "                  Модель  Параметры  Время обучения  Время предсказания  \\\n",
       "0  LinearRegression      NaN         25.578552       0.193433             \n",
       "1  RandomForestRegressor NaN         59.119484       0.645368             \n",
       "\n",
       "          RMSE  \n",
       "0  2656.608242  \n",
       "1  1702.510632  "
      ]
     },
     "execution_count": 36,
     "metadata": {},
     "output_type": "execute_result"
    }
   ],
   "source": [
    "results.append({'Модель': 'RandomForestRegressor', \n",
    "                'Параметры': np.nan, \n",
    "                'Время обучения': end_time_fit, \n",
    "                'Время предсказания': end_time_predict, \n",
    "                'RMSE': sqrt(mean_squared_error(target_valid, predictions_rf))})\n",
    "\n",
    "pd.DataFrame(results)"
   ]
  },
  {
   "cell_type": "code",
   "execution_count": 37,
   "metadata": {},
   "outputs": [],
   "source": [
    "#for depth in range(1,16):\n",
    "#    \n",
    "#    for estimator in range(10, 121, 10):\n",
    "#        \n",
    "#        model_rf = RandomForestRegressor(n_estimators=estimator, max_depth=depth)\n",
    "#        start = time.time() \n",
    "#        model_rf.fit(features_train, target_train)\n",
    "#        end_time_fit = time.time() - start\n",
    "#        start = time.time() \n",
    "#        predictions_rf = model_rf.predict(features_valid)\n",
    "#        end_time_predict = time.time() - start\n",
    "#        results.append({'Модель': 'RandomForestRegressor', \n",
    "#                'Параметры': estimator, \n",
    "#                'Время обучения': end_time_fit, \n",
    "#                'Время предсказания': end_time_predict, \n",
    "#                'RMSE': sqrt(mean_squared_error(target_valid, predictions_rf))})\n",
    "#\n",
    "#pd.DataFrame(results)"
   ]
  },
  {
   "cell_type": "markdown",
   "metadata": {},
   "source": [
    "В результате обучения модели случайного леса с различными параметрами (закоменченый код выше) было выявлено, что лучший результат RMSE составляет 1912,6 при количестве деревьев 90, глубине 11. При этом время предсказания составила 0,739, а время обучения - 268,68 секунд. Не будем добавлять эти данные в нашу результирующую таблицу, так как модель случайного леса без параметров показала лучший результат за более короткое время."
   ]
  },
  {
   "cell_type": "markdown",
   "metadata": {},
   "source": [
    "### LGBMRegressor"
   ]
  },
  {
   "cell_type": "code",
   "execution_count": 38,
   "metadata": {},
   "outputs": [],
   "source": [
    "params = {'boosting_type': 'gbdt', \n",
    "          'max_depth': 11, \n",
    "          'n_estimators': 210}\n",
    "model_lgbm = LGBMRegressor(**params)"
   ]
  },
  {
   "cell_type": "code",
   "execution_count": 39,
   "metadata": {},
   "outputs": [
    {
     "name": "stdout",
     "output_type": "stream",
     "text": [
      "End time fit:  18.229863166809082\n"
     ]
    }
   ],
   "source": [
    "start = time.time() \n",
    "model_lgbm.fit(features_train, target_train)\n",
    "end_time_fit = time.time() - start\n",
    "print('End time fit: ', end_time_fit)"
   ]
  },
  {
   "cell_type": "code",
   "execution_count": 40,
   "metadata": {},
   "outputs": [
    {
     "name": "stdout",
     "output_type": "stream",
     "text": [
      "End time predict:  2.098247766494751\n"
     ]
    }
   ],
   "source": [
    "start = time.time() \n",
    "predictions_lgbm = model_lgbm.predict(features_valid)\n",
    "end_time_predict = time.time() - start\n",
    "print('End time predict: ', end_time_predict)"
   ]
  },
  {
   "cell_type": "code",
   "execution_count": 41,
   "metadata": {},
   "outputs": [
    {
     "data": {
      "text/html": [
       "<div>\n",
       "<style scoped>\n",
       "    .dataframe tbody tr th:only-of-type {\n",
       "        vertical-align: middle;\n",
       "    }\n",
       "\n",
       "    .dataframe tbody tr th {\n",
       "        vertical-align: top;\n",
       "    }\n",
       "\n",
       "    .dataframe thead th {\n",
       "        text-align: right;\n",
       "    }\n",
       "</style>\n",
       "<table border=\"1\" class=\"dataframe\">\n",
       "  <thead>\n",
       "    <tr style=\"text-align: right;\">\n",
       "      <th></th>\n",
       "      <th>Модель</th>\n",
       "      <th>Параметры</th>\n",
       "      <th>Время обучения</th>\n",
       "      <th>Время предсказания</th>\n",
       "      <th>RMSE</th>\n",
       "    </tr>\n",
       "  </thead>\n",
       "  <tbody>\n",
       "    <tr>\n",
       "      <td>0</td>\n",
       "      <td>LinearRegression</td>\n",
       "      <td>NaN</td>\n",
       "      <td>25.578552</td>\n",
       "      <td>0.193433</td>\n",
       "      <td>2656.608242</td>\n",
       "    </tr>\n",
       "    <tr>\n",
       "      <td>1</td>\n",
       "      <td>RandomForestRegressor</td>\n",
       "      <td>NaN</td>\n",
       "      <td>59.119484</td>\n",
       "      <td>0.645368</td>\n",
       "      <td>1702.510632</td>\n",
       "    </tr>\n",
       "    <tr>\n",
       "      <td>2</td>\n",
       "      <td>LGBMRegressor</td>\n",
       "      <td>{'boosting_type': 'gbdt', 'max_depth': 11, 'n_estimators': 210}</td>\n",
       "      <td>18.229863</td>\n",
       "      <td>2.098248</td>\n",
       "      <td>1696.452824</td>\n",
       "    </tr>\n",
       "  </tbody>\n",
       "</table>\n",
       "</div>"
      ],
      "text/plain": [
       "                  Модель  \\\n",
       "0  LinearRegression        \n",
       "1  RandomForestRegressor   \n",
       "2  LGBMRegressor           \n",
       "\n",
       "                                                         Параметры  \\\n",
       "0  NaN                                                               \n",
       "1  NaN                                                               \n",
       "2  {'boosting_type': 'gbdt', 'max_depth': 11, 'n_estimators': 210}   \n",
       "\n",
       "   Время обучения  Время предсказания         RMSE  \n",
       "0  25.578552       0.193433            2656.608242  \n",
       "1  59.119484       0.645368            1702.510632  \n",
       "2  18.229863       2.098248            1696.452824  "
      ]
     },
     "execution_count": 41,
     "metadata": {},
     "output_type": "execute_result"
    }
   ],
   "source": [
    "results.append({'Модель': 'LGBMRegressor', \n",
    "                'Параметры': params, \n",
    "                'Время обучения': end_time_fit, \n",
    "                'Время предсказания': end_time_predict, \n",
    "                'RMSE': sqrt(mean_squared_error(target_valid, predictions_lgbm))})\n",
    "\n",
    "pd.DataFrame(results)"
   ]
  },
  {
   "cell_type": "markdown",
   "metadata": {},
   "source": [
    "LGBMRegressor улучшил показатель RMSE, но время обучения и время предсказания значительно выше."
   ]
  },
  {
   "cell_type": "markdown",
   "metadata": {},
   "source": [
    "### CatBoostRegressor"
   ]
  },
  {
   "cell_type": "code",
   "execution_count": 42,
   "metadata": {
    "scrolled": true
   },
   "outputs": [
    {
     "name": "stdout",
     "output_type": "stream",
     "text": [
      "0:\tlearn: 4425.9993480\ttotal: 2.74s\tremaining: 10m 55s\n",
      "1:\tlearn: 4327.9264018\ttotal: 5.14s\tremaining: 10m 11s\n",
      "2:\tlearn: 4234.3500179\ttotal: 7.44s\tremaining: 9m 47s\n",
      "3:\tlearn: 4143.4034493\ttotal: 9.65s\tremaining: 9m 29s\n",
      "4:\tlearn: 4055.3575748\ttotal: 12.1s\tremaining: 9m 30s\n",
      "5:\tlearn: 3970.1419889\ttotal: 14.4s\tremaining: 9m 22s\n",
      "6:\tlearn: 3888.7559973\ttotal: 16.6s\tremaining: 9m 13s\n",
      "7:\tlearn: 3809.5094269\ttotal: 18.9s\tremaining: 9m 8s\n",
      "8:\tlearn: 3734.3888887\ttotal: 21s\tremaining: 9m\n",
      "9:\tlearn: 3662.4220084\ttotal: 23.3s\tremaining: 8m 56s\n",
      "10:\tlearn: 3592.3097990\ttotal: 25.5s\tremaining: 8m 51s\n",
      "11:\tlearn: 3524.1456035\ttotal: 27.8s\tremaining: 8m 48s\n",
      "12:\tlearn: 3458.6011566\ttotal: 30.2s\tremaining: 8m 47s\n",
      "13:\tlearn: 3394.3032717\ttotal: 32.6s\tremaining: 8m 46s\n",
      "14:\tlearn: 3331.7980722\ttotal: 34.7s\tremaining: 8m 40s\n",
      "15:\tlearn: 3272.7919409\ttotal: 36.9s\tremaining: 8m 36s\n",
      "16:\tlearn: 3215.1262888\ttotal: 39.2s\tremaining: 8m 34s\n",
      "17:\tlearn: 3160.1668840\ttotal: 41.4s\tremaining: 8m 30s\n",
      "18:\tlearn: 3107.5040766\ttotal: 43.5s\tremaining: 8m 26s\n",
      "19:\tlearn: 3055.8367741\ttotal: 45.9s\tremaining: 8m 24s\n",
      "20:\tlearn: 3006.6700801\ttotal: 48s\tremaining: 8m 20s\n",
      "21:\tlearn: 2958.7007033\ttotal: 50.1s\tremaining: 8m 16s\n",
      "22:\tlearn: 2913.0298543\ttotal: 52.5s\tremaining: 8m 15s\n",
      "23:\tlearn: 2868.3314291\ttotal: 54.8s\tremaining: 8m 13s\n",
      "24:\tlearn: 2824.9836441\ttotal: 57.1s\tremaining: 8m 11s\n",
      "25:\tlearn: 2782.9204549\ttotal: 59.2s\tremaining: 8m 7s\n",
      "26:\tlearn: 2743.4954345\ttotal: 1m 1s\tremaining: 8m 6s\n",
      "27:\tlearn: 2706.4193535\ttotal: 1m 3s\tremaining: 8m 4s\n",
      "28:\tlearn: 2670.4095313\ttotal: 1m 6s\tremaining: 8m 1s\n",
      "29:\tlearn: 2635.0789373\ttotal: 1m 8s\tremaining: 7m 58s\n",
      "30:\tlearn: 2600.2322636\ttotal: 1m 10s\tremaining: 7m 56s\n",
      "31:\tlearn: 2567.6012993\ttotal: 1m 13s\tremaining: 7m 54s\n",
      "32:\tlearn: 2537.0143234\ttotal: 1m 15s\tremaining: 7m 51s\n",
      "33:\tlearn: 2507.7124179\ttotal: 1m 17s\tremaining: 7m 50s\n",
      "34:\tlearn: 2479.2919559\ttotal: 1m 19s\tremaining: 7m 48s\n",
      "35:\tlearn: 2451.0310613\ttotal: 1m 22s\tremaining: 7m 45s\n",
      "36:\tlearn: 2423.8488317\ttotal: 1m 24s\tremaining: 7m 43s\n",
      "37:\tlearn: 2398.2589763\ttotal: 1m 26s\tremaining: 7m 40s\n",
      "38:\tlearn: 2373.0496626\ttotal: 1m 28s\tremaining: 7m 38s\n",
      "39:\tlearn: 2348.9294143\ttotal: 1m 31s\tremaining: 7m 36s\n",
      "40:\tlearn: 2326.0781290\ttotal: 1m 33s\tremaining: 7m 33s\n",
      "41:\tlearn: 2304.2591336\ttotal: 1m 35s\tremaining: 7m 32s\n",
      "42:\tlearn: 2283.0334514\ttotal: 1m 38s\tremaining: 7m 29s\n",
      "43:\tlearn: 2262.9138055\ttotal: 1m 40s\tremaining: 7m 27s\n",
      "44:\tlearn: 2243.6773310\ttotal: 1m 42s\tremaining: 7m 24s\n",
      "45:\tlearn: 2224.6637226\ttotal: 1m 44s\tremaining: 7m 22s\n",
      "46:\tlearn: 2207.0780511\ttotal: 1m 47s\tremaining: 7m 20s\n",
      "47:\tlearn: 2189.8075498\ttotal: 1m 49s\tremaining: 7m 18s\n",
      "48:\tlearn: 2173.5187147\ttotal: 1m 51s\tremaining: 7m 16s\n",
      "49:\tlearn: 2156.2611544\ttotal: 1m 54s\tremaining: 7m 13s\n",
      "50:\tlearn: 2139.7694908\ttotal: 1m 56s\tremaining: 7m 12s\n",
      "51:\tlearn: 2122.9974361\ttotal: 1m 59s\tremaining: 7m 10s\n",
      "52:\tlearn: 2107.6784526\ttotal: 2m 1s\tremaining: 7m 8s\n",
      "53:\tlearn: 2093.7431231\ttotal: 2m 3s\tremaining: 7m 6s\n",
      "54:\tlearn: 2078.9813285\ttotal: 2m 6s\tremaining: 7m 4s\n",
      "55:\tlearn: 2065.3770876\ttotal: 2m 8s\tremaining: 7m 2s\n",
      "56:\tlearn: 2051.7688370\ttotal: 2m 11s\tremaining: 7m\n",
      "57:\tlearn: 2039.6329453\ttotal: 2m 13s\tremaining: 6m 58s\n",
      "58:\tlearn: 2026.9769859\ttotal: 2m 15s\tremaining: 6m 56s\n",
      "59:\tlearn: 2015.2303930\ttotal: 2m 17s\tremaining: 6m 53s\n",
      "60:\tlearn: 2004.5117775\ttotal: 2m 20s\tremaining: 6m 51s\n",
      "61:\tlearn: 1994.2665796\ttotal: 2m 22s\tremaining: 6m 49s\n",
      "62:\tlearn: 1983.7447568\ttotal: 2m 24s\tremaining: 6m 46s\n",
      "63:\tlearn: 1973.4855817\ttotal: 2m 26s\tremaining: 6m 44s\n",
      "64:\tlearn: 1963.7332906\ttotal: 2m 29s\tremaining: 6m 42s\n",
      "65:\tlearn: 1954.5031627\ttotal: 2m 32s\tremaining: 6m 41s\n",
      "66:\tlearn: 1945.7004308\ttotal: 2m 34s\tremaining: 6m 39s\n",
      "67:\tlearn: 1937.3067377\ttotal: 2m 37s\tremaining: 6m 37s\n",
      "68:\tlearn: 1929.2674040\ttotal: 2m 39s\tremaining: 6m 35s\n",
      "69:\tlearn: 1921.5728519\ttotal: 2m 42s\tremaining: 6m 33s\n",
      "70:\tlearn: 1914.1430326\ttotal: 2m 44s\tremaining: 6m 31s\n",
      "71:\tlearn: 1906.6435446\ttotal: 2m 46s\tremaining: 6m 29s\n",
      "72:\tlearn: 1899.5729787\ttotal: 2m 49s\tremaining: 6m 27s\n",
      "73:\tlearn: 1893.0519299\ttotal: 2m 51s\tremaining: 6m 25s\n",
      "74:\tlearn: 1886.4260887\ttotal: 2m 54s\tremaining: 6m 23s\n",
      "75:\tlearn: 1879.6430721\ttotal: 2m 56s\tremaining: 6m 21s\n",
      "76:\tlearn: 1873.3919521\ttotal: 2m 59s\tremaining: 6m 19s\n",
      "77:\tlearn: 1867.4474766\ttotal: 3m 1s\tremaining: 6m 17s\n",
      "78:\tlearn: 1861.8854190\ttotal: 3m 3s\tremaining: 6m 14s\n",
      "79:\tlearn: 1856.5606836\ttotal: 3m 6s\tremaining: 6m 12s\n",
      "80:\tlearn: 1851.0559364\ttotal: 3m 8s\tremaining: 6m 9s\n",
      "81:\tlearn: 1845.8185851\ttotal: 3m 10s\tremaining: 6m 7s\n",
      "82:\tlearn: 1840.2734918\ttotal: 3m 13s\tremaining: 6m 5s\n",
      "83:\tlearn: 1834.3074097\ttotal: 3m 15s\tremaining: 6m 3s\n",
      "84:\tlearn: 1829.4271956\ttotal: 3m 17s\tremaining: 6m\n",
      "85:\tlearn: 1823.9551340\ttotal: 3m 20s\tremaining: 5m 58s\n",
      "86:\tlearn: 1818.6790346\ttotal: 3m 22s\tremaining: 5m 56s\n",
      "87:\tlearn: 1814.4644544\ttotal: 3m 25s\tremaining: 5m 54s\n",
      "88:\tlearn: 1809.8028720\ttotal: 3m 27s\tremaining: 5m 51s\n",
      "89:\tlearn: 1806.3465350\ttotal: 3m 29s\tremaining: 5m 49s\n",
      "90:\tlearn: 1802.1327966\ttotal: 3m 32s\tremaining: 5m 47s\n",
      "91:\tlearn: 1798.1457749\ttotal: 3m 34s\tremaining: 5m 44s\n",
      "92:\tlearn: 1793.8177865\ttotal: 3m 36s\tremaining: 5m 42s\n",
      "93:\tlearn: 1789.6952127\ttotal: 3m 39s\tremaining: 5m 40s\n",
      "94:\tlearn: 1785.7733785\ttotal: 3m 41s\tremaining: 5m 38s\n",
      "95:\tlearn: 1781.8936682\ttotal: 3m 44s\tremaining: 5m 36s\n",
      "96:\tlearn: 1778.4900753\ttotal: 3m 47s\tremaining: 5m 34s\n",
      "97:\tlearn: 1775.6053913\ttotal: 3m 49s\tremaining: 5m 32s\n",
      "98:\tlearn: 1772.2939186\ttotal: 3m 52s\tremaining: 5m 30s\n",
      "99:\tlearn: 1768.5354386\ttotal: 3m 54s\tremaining: 5m 28s\n",
      "100:\tlearn: 1764.6503530\ttotal: 3m 57s\tremaining: 5m 26s\n",
      "101:\tlearn: 1761.7438666\ttotal: 3m 59s\tremaining: 5m 24s\n",
      "102:\tlearn: 1758.5602511\ttotal: 4m 2s\tremaining: 5m 22s\n",
      "103:\tlearn: 1755.6285816\ttotal: 4m 5s\tremaining: 5m 20s\n",
      "104:\tlearn: 1752.9591698\ttotal: 4m 7s\tremaining: 5m 17s\n",
      "105:\tlearn: 1749.4616006\ttotal: 4m 9s\tremaining: 5m 15s\n",
      "106:\tlearn: 1747.2295781\ttotal: 4m 12s\tremaining: 5m 13s\n",
      "107:\tlearn: 1744.8541183\ttotal: 4m 14s\tremaining: 5m 11s\n",
      "108:\tlearn: 1742.3428137\ttotal: 4m 17s\tremaining: 5m 9s\n",
      "109:\tlearn: 1739.1968975\ttotal: 4m 20s\tremaining: 5m 7s\n",
      "110:\tlearn: 1736.5969747\ttotal: 4m 22s\tremaining: 5m 4s\n",
      "111:\tlearn: 1733.7520711\ttotal: 4m 24s\tremaining: 5m 2s\n",
      "112:\tlearn: 1731.1731007\ttotal: 4m 27s\tremaining: 5m\n",
      "113:\tlearn: 1728.9788353\ttotal: 4m 29s\tremaining: 4m 58s\n",
      "114:\tlearn: 1726.5319295\ttotal: 4m 32s\tremaining: 4m 56s\n",
      "115:\tlearn: 1724.1602851\ttotal: 4m 35s\tremaining: 4m 53s\n",
      "116:\tlearn: 1722.5326962\ttotal: 4m 37s\tremaining: 4m 51s\n",
      "117:\tlearn: 1720.3221953\ttotal: 4m 40s\tremaining: 4m 49s\n",
      "118:\tlearn: 1718.6460173\ttotal: 4m 42s\tremaining: 4m 47s\n",
      "119:\tlearn: 1716.1527791\ttotal: 4m 44s\tremaining: 4m 44s\n",
      "120:\tlearn: 1714.2039653\ttotal: 4m 47s\tremaining: 4m 42s\n",
      "121:\tlearn: 1711.7617085\ttotal: 4m 49s\tremaining: 4m 40s\n",
      "122:\tlearn: 1709.7242558\ttotal: 4m 52s\tremaining: 4m 37s\n",
      "123:\tlearn: 1707.2453080\ttotal: 4m 54s\tremaining: 4m 35s\n",
      "124:\tlearn: 1705.5597501\ttotal: 4m 57s\tremaining: 4m 33s\n",
      "125:\tlearn: 1703.4153478\ttotal: 4m 59s\tremaining: 4m 31s\n",
      "126:\tlearn: 1701.9819607\ttotal: 5m 2s\tremaining: 4m 28s\n",
      "127:\tlearn: 1700.2523518\ttotal: 5m 5s\tremaining: 4m 26s\n",
      "128:\tlearn: 1698.5906916\ttotal: 5m 7s\tremaining: 4m 24s\n",
      "129:\tlearn: 1696.8196343\ttotal: 5m 10s\tremaining: 4m 22s\n",
      "130:\tlearn: 1694.6316822\ttotal: 5m 12s\tremaining: 4m 20s\n",
      "131:\tlearn: 1693.0621971\ttotal: 5m 15s\tremaining: 4m 17s\n",
      "132:\tlearn: 1691.6555258\ttotal: 5m 17s\tremaining: 4m 15s\n",
      "133:\tlearn: 1690.1449421\ttotal: 5m 20s\tremaining: 4m 13s\n",
      "134:\tlearn: 1688.2483233\ttotal: 5m 22s\tremaining: 4m 10s\n",
      "135:\tlearn: 1686.7646664\ttotal: 5m 24s\tremaining: 4m 8s\n",
      "136:\tlearn: 1685.4066986\ttotal: 5m 27s\tremaining: 4m 6s\n",
      "137:\tlearn: 1683.9689516\ttotal: 5m 29s\tremaining: 4m 3s\n",
      "138:\tlearn: 1682.6930357\ttotal: 5m 32s\tremaining: 4m 1s\n",
      "139:\tlearn: 1681.3360582\ttotal: 5m 34s\tremaining: 3m 58s\n",
      "140:\tlearn: 1679.5905186\ttotal: 5m 36s\tremaining: 3m 56s\n",
      "141:\tlearn: 1678.2872320\ttotal: 5m 38s\tremaining: 3m 53s\n",
      "142:\tlearn: 1677.1848398\ttotal: 5m 41s\tremaining: 3m 51s\n",
      "143:\tlearn: 1675.7565225\ttotal: 5m 43s\tremaining: 3m 49s\n",
      "144:\tlearn: 1674.6949439\ttotal: 5m 46s\tremaining: 3m 46s\n",
      "145:\tlearn: 1673.7035590\ttotal: 5m 48s\tremaining: 3m 44s\n",
      "146:\tlearn: 1672.7668192\ttotal: 5m 50s\tremaining: 3m 41s\n",
      "147:\tlearn: 1671.7245980\ttotal: 5m 53s\tremaining: 3m 39s\n",
      "148:\tlearn: 1670.3932041\ttotal: 5m 55s\tremaining: 3m 37s\n",
      "149:\tlearn: 1669.1518310\ttotal: 5m 58s\tremaining: 3m 35s\n",
      "150:\tlearn: 1667.6780112\ttotal: 6m\tremaining: 3m 32s\n",
      "151:\tlearn: 1666.3746549\ttotal: 6m 3s\tremaining: 3m 30s\n",
      "152:\tlearn: 1665.3272753\ttotal: 6m 5s\tremaining: 3m 27s\n",
      "153:\tlearn: 1664.4483582\ttotal: 6m 8s\tremaining: 3m 25s\n",
      "154:\tlearn: 1663.5126639\ttotal: 6m 10s\tremaining: 3m 23s\n",
      "155:\tlearn: 1662.2970573\ttotal: 6m 13s\tremaining: 3m 20s\n",
      "156:\tlearn: 1660.8632992\ttotal: 6m 15s\tremaining: 3m 18s\n",
      "157:\tlearn: 1659.6584285\ttotal: 6m 18s\tremaining: 3m 16s\n",
      "158:\tlearn: 1658.8851352\ttotal: 6m 20s\tremaining: 3m 13s\n",
      "159:\tlearn: 1657.7220520\ttotal: 6m 22s\tremaining: 3m 11s\n",
      "160:\tlearn: 1656.7530583\ttotal: 6m 24s\tremaining: 3m 8s\n",
      "161:\tlearn: 1655.7953289\ttotal: 6m 26s\tremaining: 3m 6s\n",
      "162:\tlearn: 1655.0477901\ttotal: 6m 29s\tremaining: 3m 4s\n",
      "163:\tlearn: 1653.9192629\ttotal: 6m 32s\tremaining: 3m 1s\n",
      "164:\tlearn: 1652.7387901\ttotal: 6m 35s\tremaining: 2m 59s\n",
      "165:\tlearn: 1651.5525409\ttotal: 6m 37s\tremaining: 2m 57s\n",
      "166:\tlearn: 1650.4467472\ttotal: 6m 40s\tremaining: 2m 54s\n",
      "167:\tlearn: 1649.2105186\ttotal: 6m 43s\tremaining: 2m 52s\n",
      "168:\tlearn: 1647.7363345\ttotal: 6m 45s\tremaining: 2m 50s\n",
      "169:\tlearn: 1645.9719157\ttotal: 6m 47s\tremaining: 2m 47s\n",
      "170:\tlearn: 1644.8358027\ttotal: 6m 49s\tremaining: 2m 45s\n",
      "171:\tlearn: 1643.7258785\ttotal: 6m 51s\tremaining: 2m 42s\n",
      "172:\tlearn: 1642.8711330\ttotal: 6m 54s\tremaining: 2m 40s\n",
      "173:\tlearn: 1642.0665648\ttotal: 6m 56s\tremaining: 2m 38s\n",
      "174:\tlearn: 1641.1413413\ttotal: 6m 59s\tremaining: 2m 35s\n",
      "175:\tlearn: 1640.2747487\ttotal: 7m 2s\tremaining: 2m 33s\n",
      "176:\tlearn: 1639.6544918\ttotal: 7m 5s\tremaining: 2m 31s\n",
      "177:\tlearn: 1638.9781842\ttotal: 7m 7s\tremaining: 2m 29s\n",
      "178:\tlearn: 1637.7444857\ttotal: 7m 10s\tremaining: 2m 26s\n",
      "179:\tlearn: 1636.6977986\ttotal: 7m 13s\tremaining: 2m 24s\n",
      "180:\tlearn: 1635.8004070\ttotal: 7m 15s\tremaining: 2m 21s\n",
      "181:\tlearn: 1634.6669620\ttotal: 7m 18s\tremaining: 2m 19s\n",
      "182:\tlearn: 1634.1650170\ttotal: 7m 20s\tremaining: 2m 17s\n",
      "183:\tlearn: 1633.1843975\ttotal: 7m 23s\tremaining: 2m 14s\n",
      "184:\tlearn: 1632.4376780\ttotal: 7m 25s\tremaining: 2m 12s\n",
      "185:\tlearn: 1631.3454416\ttotal: 7m 28s\tremaining: 2m 10s\n",
      "186:\tlearn: 1630.4047108\ttotal: 7m 31s\tremaining: 2m 7s\n",
      "187:\tlearn: 1629.6515776\ttotal: 7m 33s\tremaining: 2m 5s\n",
      "188:\tlearn: 1628.4713976\ttotal: 7m 36s\tremaining: 2m 3s\n",
      "189:\tlearn: 1627.7618523\ttotal: 7m 38s\tremaining: 2m\n",
      "190:\tlearn: 1626.6700583\ttotal: 7m 40s\tremaining: 1m 58s\n",
      "191:\tlearn: 1625.7056358\ttotal: 7m 43s\tremaining: 1m 55s\n",
      "192:\tlearn: 1624.6352386\ttotal: 7m 46s\tremaining: 1m 53s\n",
      "193:\tlearn: 1623.7798982\ttotal: 7m 48s\tremaining: 1m 51s\n",
      "194:\tlearn: 1623.2089969\ttotal: 7m 51s\tremaining: 1m 48s\n",
      "195:\tlearn: 1622.7000549\ttotal: 7m 53s\tremaining: 1m 46s\n",
      "196:\tlearn: 1622.0772375\ttotal: 7m 56s\tremaining: 1m 43s\n",
      "197:\tlearn: 1621.0493981\ttotal: 7m 59s\tremaining: 1m 41s\n",
      "198:\tlearn: 1620.2402077\ttotal: 8m 2s\tremaining: 1m 39s\n",
      "199:\tlearn: 1619.3858413\ttotal: 8m 4s\tremaining: 1m 36s\n",
      "200:\tlearn: 1618.6502914\ttotal: 8m 7s\tremaining: 1m 34s\n",
      "201:\tlearn: 1617.9186887\ttotal: 8m 10s\tremaining: 1m 32s\n",
      "202:\tlearn: 1617.0259671\ttotal: 8m 12s\tremaining: 1m 29s\n",
      "203:\tlearn: 1616.3315189\ttotal: 8m 15s\tremaining: 1m 27s\n",
      "204:\tlearn: 1615.8480670\ttotal: 8m 18s\tremaining: 1m 25s\n",
      "205:\tlearn: 1614.9170734\ttotal: 8m 20s\tremaining: 1m 22s\n",
      "206:\tlearn: 1614.1206849\ttotal: 8m 22s\tremaining: 1m 20s\n",
      "207:\tlearn: 1613.1668006\ttotal: 8m 25s\tremaining: 1m 17s\n",
      "208:\tlearn: 1612.4038965\ttotal: 8m 27s\tremaining: 1m 15s\n",
      "209:\tlearn: 1611.5211830\ttotal: 8m 30s\tremaining: 1m 12s\n",
      "210:\tlearn: 1610.2043260\ttotal: 8m 33s\tremaining: 1m 10s\n",
      "211:\tlearn: 1609.5319532\ttotal: 8m 36s\tremaining: 1m 8s\n",
      "212:\tlearn: 1608.7165503\ttotal: 8m 38s\tremaining: 1m 5s\n",
      "213:\tlearn: 1607.8087605\ttotal: 8m 41s\tremaining: 1m 3s\n",
      "214:\tlearn: 1606.9425916\ttotal: 8m 44s\tremaining: 1m\n",
      "215:\tlearn: 1606.1204070\ttotal: 8m 47s\tremaining: 58.6s\n",
      "216:\tlearn: 1605.5323148\ttotal: 8m 49s\tremaining: 56.1s\n",
      "217:\tlearn: 1604.4505224\ttotal: 8m 51s\tremaining: 53.7s\n",
      "218:\tlearn: 1603.8196661\ttotal: 8m 54s\tremaining: 51.3s\n",
      "219:\tlearn: 1602.9386454\ttotal: 8m 57s\tremaining: 48.8s\n",
      "220:\tlearn: 1602.5443378\ttotal: 9m\tremaining: 46.4s\n",
      "221:\tlearn: 1601.9396736\ttotal: 9m 2s\tremaining: 44s\n",
      "222:\tlearn: 1600.9738863\ttotal: 9m 5s\tremaining: 41.6s\n",
      "223:\tlearn: 1600.0078273\ttotal: 9m 8s\tremaining: 39.2s\n",
      "224:\tlearn: 1599.3162785\ttotal: 9m 11s\tremaining: 36.8s\n",
      "225:\tlearn: 1598.4934383\ttotal: 9m 13s\tremaining: 34.3s\n",
      "226:\tlearn: 1597.6803022\ttotal: 9m 15s\tremaining: 31.8s\n",
      "227:\tlearn: 1596.7579242\ttotal: 9m 18s\tremaining: 29.4s\n",
      "228:\tlearn: 1596.0109331\ttotal: 9m 21s\tremaining: 27s\n",
      "229:\tlearn: 1595.2697695\ttotal: 9m 24s\tremaining: 24.5s\n",
      "230:\tlearn: 1594.8199195\ttotal: 9m 26s\tremaining: 22.1s\n",
      "231:\tlearn: 1593.8424484\ttotal: 9m 29s\tremaining: 19.6s\n",
      "232:\tlearn: 1593.0590249\ttotal: 9m 31s\tremaining: 17.2s\n",
      "233:\tlearn: 1592.2730129\ttotal: 9m 34s\tremaining: 14.7s\n",
      "234:\tlearn: 1591.3549879\ttotal: 9m 37s\tremaining: 12.3s\n",
      "235:\tlearn: 1590.9211243\ttotal: 9m 39s\tremaining: 9.83s\n",
      "236:\tlearn: 1590.4220822\ttotal: 9m 42s\tremaining: 7.37s\n",
      "237:\tlearn: 1589.9173929\ttotal: 9m 45s\tremaining: 4.92s\n",
      "238:\tlearn: 1589.4064137\ttotal: 9m 47s\tremaining: 2.46s\n",
      "239:\tlearn: 1588.6842444\ttotal: 9m 50s\tremaining: 0us\n"
     ]
    }
   ],
   "source": [
    "features = df_good.drop('Price', axis=1).copy()\n",
    "target = df_good['Price'].copy()\n",
    "features_train, features_valid, target_train, target_valid = train_test_split(features, \n",
    "                                                                              target, \n",
    "                                                                              train_size=0.60, \n",
    "                                                                              test_size=0.40, \n",
    "                                                                              random_state=RANDOM_STATE)\n",
    "features_valid, features_test, target_valid, target_test = train_test_split(features_valid, \n",
    "                                                                            target_valid, \n",
    "                                                                            train_size=0.50, \n",
    "                                                                            test_size=0.50, \n",
    "                                                                            random_state=RANDOM_STATE)\n",
    "\n",
    "model_cbr = CatBoostRegressor(iterations=240, loss_function='RMSE', depth=13, cat_features=df_good_cat_col)\n",
    "    \n",
    "start = time.time() \n",
    "model_cbr.fit(features_train, target_train)\n",
    "end_time_fit = time.time() - start\n",
    "\n",
    "start = time.time() \n",
    "predictions_cbr = model_cbr.predict(features_valid, verbose=1)\n",
    "end_time_predict = time.time() - start\n",
    "\n",
    "results.append({'Модель': 'CatBoostRegressor', \n",
    "                        'Параметры': {'iterations': '240', \n",
    "                                      'loss_function': 'RMSE', \n",
    "                                      'depth': '13'}, \n",
    "                        'Время обучения': end_time_fit, \n",
    "                        'Время предсказания': end_time_predict, \n",
    "                        'RMSE': sqrt(mean_squared_error(target_valid, predictions_cbr))})"
   ]
  },
  {
   "cell_type": "code",
   "execution_count": 43,
   "metadata": {},
   "outputs": [
    {
     "data": {
      "text/html": [
       "<div>\n",
       "<style scoped>\n",
       "    .dataframe tbody tr th:only-of-type {\n",
       "        vertical-align: middle;\n",
       "    }\n",
       "\n",
       "    .dataframe tbody tr th {\n",
       "        vertical-align: top;\n",
       "    }\n",
       "\n",
       "    .dataframe thead th {\n",
       "        text-align: right;\n",
       "    }\n",
       "</style>\n",
       "<table border=\"1\" class=\"dataframe\">\n",
       "  <thead>\n",
       "    <tr style=\"text-align: right;\">\n",
       "      <th></th>\n",
       "      <th>Модель</th>\n",
       "      <th>Параметры</th>\n",
       "      <th>Время обучения</th>\n",
       "      <th>Время предсказания</th>\n",
       "      <th>RMSE</th>\n",
       "    </tr>\n",
       "  </thead>\n",
       "  <tbody>\n",
       "    <tr>\n",
       "      <td>0</td>\n",
       "      <td>LinearRegression</td>\n",
       "      <td>NaN</td>\n",
       "      <td>25.578552</td>\n",
       "      <td>0.193433</td>\n",
       "      <td>2656.608242</td>\n",
       "    </tr>\n",
       "    <tr>\n",
       "      <td>1</td>\n",
       "      <td>RandomForestRegressor</td>\n",
       "      <td>NaN</td>\n",
       "      <td>59.119484</td>\n",
       "      <td>0.645368</td>\n",
       "      <td>1702.510632</td>\n",
       "    </tr>\n",
       "    <tr>\n",
       "      <td>2</td>\n",
       "      <td>LGBMRegressor</td>\n",
       "      <td>{'boosting_type': 'gbdt', 'max_depth': 11, 'n_estimators': 210}</td>\n",
       "      <td>18.229863</td>\n",
       "      <td>2.098248</td>\n",
       "      <td>1696.452824</td>\n",
       "    </tr>\n",
       "    <tr>\n",
       "      <td>3</td>\n",
       "      <td>CatBoostRegressor</td>\n",
       "      <td>{'iterations': '240', 'loss_function': 'RMSE', 'depth': '13'}</td>\n",
       "      <td>594.069760</td>\n",
       "      <td>0.532727</td>\n",
       "      <td>1678.712935</td>\n",
       "    </tr>\n",
       "  </tbody>\n",
       "</table>\n",
       "</div>"
      ],
      "text/plain": [
       "                  Модель  \\\n",
       "0  LinearRegression        \n",
       "1  RandomForestRegressor   \n",
       "2  LGBMRegressor           \n",
       "3  CatBoostRegressor       \n",
       "\n",
       "                                                         Параметры  \\\n",
       "0  NaN                                                               \n",
       "1  NaN                                                               \n",
       "2  {'boosting_type': 'gbdt', 'max_depth': 11, 'n_estimators': 210}   \n",
       "3  {'iterations': '240', 'loss_function': 'RMSE', 'depth': '13'}     \n",
       "\n",
       "   Время обучения  Время предсказания         RMSE  \n",
       "0  25.578552       0.193433            2656.608242  \n",
       "1  59.119484       0.645368            1702.510632  \n",
       "2  18.229863       2.098248            1696.452824  \n",
       "3  594.069760      0.532727            1678.712935  "
      ]
     },
     "execution_count": 43,
     "metadata": {},
     "output_type": "execute_result"
    }
   ],
   "source": [
    "pd.DataFrame(results)"
   ]
  },
  {
   "cell_type": "markdown",
   "metadata": {},
   "source": [
    "CatBoostRegressor имеет лучший показатель RMSE, время предсказания меньше чем у случайного леса и LGBMRegressor'а, но время на обучение во много раз превышает RandomForestRegressor и LGBMRegressor."
   ]
  },
  {
   "cell_type": "markdown",
   "metadata": {},
   "source": [
    "## Анализ моделей"
   ]
  },
  {
   "cell_type": "markdown",
   "metadata": {},
   "source": [
    "Лучшей по показателю RMSE и времени обучения стала модель LGBMRegressor'а, но время предсказания у неё очень высокое. При выборе оптимальной модели нужно отталкиваться от цели и задачи. Если нужна скорость обучения и предсказания выше, а RMSE не так важна, то лучше взять линейную регрессию. CatBoostRegressor на большом количестве данных будет очень долго обучаться, но время предсказания у него одно из лучших. Но если смотреть в совокупности на все параметры, то лучше использовать LGBMRegressor: при лучшей RMSE, самая высокая скорость обучения и небольшое время на предсказание."
   ]
  },
  {
   "cell_type": "code",
   "execution_count": 44,
   "metadata": {},
   "outputs": [],
   "source": [
    "model = LGBMRegressor(boosting_type='gbdt', max_depth = 11, n_estimators = 210)"
   ]
  },
  {
   "cell_type": "code",
   "execution_count": 45,
   "metadata": {},
   "outputs": [
    {
     "name": "stdout",
     "output_type": "stream",
     "text": [
      "End time fit:  32.26772999763489\n"
     ]
    }
   ],
   "source": [
    "start = time.time() \n",
    "model.fit(features_train, target_train)\n",
    "end_time_fit = time.time() - start\n",
    "print('End time fit: ', end_time_fit)"
   ]
  },
  {
   "cell_type": "code",
   "execution_count": 46,
   "metadata": {},
   "outputs": [
    {
     "name": "stdout",
     "output_type": "stream",
     "text": [
      "End time predict:  2.2001397609710693\n"
     ]
    }
   ],
   "source": [
    "start = time.time() \n",
    "predictions = model.predict(features_test)\n",
    "end_time_predict = time.time() - start\n",
    "print('End time predict: ', end_time_predict)"
   ]
  },
  {
   "cell_type": "code",
   "execution_count": 47,
   "metadata": {},
   "outputs": [
    {
     "name": "stdout",
     "output_type": "stream",
     "text": [
      "1646.6200949964189\n"
     ]
    }
   ],
   "source": [
    "print(sqrt(mean_squared_error(target_test, predictions)))"
   ]
  },
  {
   "cell_type": "markdown",
   "metadata": {},
   "source": [
    "На тестовых данных модель показала себя еще лучше."
   ]
  },
  {
   "cell_type": "markdown",
   "metadata": {},
   "source": [
    "Сравним работу нашей итоговой модели с работой случайной модели."
   ]
  },
  {
   "cell_type": "code",
   "execution_count": 48,
   "metadata": {},
   "outputs": [
    {
     "name": "stdout",
     "output_type": "stream",
     "text": [
      "RMSE dummy: 4501.135271329311\n"
     ]
    }
   ],
   "source": [
    "dummy = DummyRegressor(strategy='mean')\n",
    "\n",
    "dummy.fit(features_train, target_train)\n",
    "\n",
    "predictions_dummy = dummy.predict(features_test)\n",
    "print('RMSE dummy:', sqrt(mean_squared_error(target_test, predictions_dummy)))"
   ]
  },
  {
   "cell_type": "code",
   "execution_count": 49,
   "metadata": {},
   "outputs": [
    {
     "name": "stdout",
     "output_type": "stream",
     "text": [
      "RMSE dummy: 4790.837990596376\n"
     ]
    }
   ],
   "source": [
    "dummy = DummyRegressor(strategy='median')\n",
    "\n",
    "dummy.fit(features_train, target_train)\n",
    "\n",
    "predictions_dummy = dummy.predict(features_test)\n",
    "print('RMSE dummy:', sqrt(mean_squared_error(target_test, predictions_dummy)))"
   ]
  },
  {
   "cell_type": "markdown",
   "metadata": {},
   "source": [
    "Наша модель по качеству предсказаний оказалась гораздо лучше."
   ]
  },
  {
   "cell_type": "markdown",
   "metadata": {},
   "source": [
    "## Вывод"
   ]
  },
  {
   "cell_type": "markdown",
   "metadata": {},
   "source": [
    "Итак, в процессе построения модели для предсказания цены на автомобили мы преобразовали данные, удалив выбросы, частично заполнив пустые значения и удалили дубликаты в данных, а так же удалили столбцы с данными, которые никак не влияют на цену автомобиля. В качестве моделей были использованы линейная регрессия, случайный лес, LGBMRegressor и CatBoostRegressor. После обучения моделей сверили основные параметры, которые важны заказчику: это время на обучение/предсказание и качество предсказания. В результате для финальной модели была выбрана модель LGBMRegressor'а, которая в совокупности показала наилучшие характеристики на валидационных данных: самое низкое время обучения, RMSE немного больше, чем у CatBoostRegressor'а, лишь время предсказания выше в 3-4 раза."
   ]
  }
 ],
 "metadata": {
  "kernelspec": {
   "display_name": "Python 3",
   "language": "python",
   "name": "python3"
  },
  "language_info": {
   "codemirror_mode": {
    "name": "ipython",
    "version": 3
   },
   "file_extension": ".py",
   "mimetype": "text/x-python",
   "name": "python",
   "nbconvert_exporter": "python",
   "pygments_lexer": "ipython3",
   "version": "3.7.8"
  },
  "toc": {
   "base_numbering": 1,
   "nav_menu": {},
   "number_sections": true,
   "sideBar": true,
   "skip_h1_title": true,
   "title_cell": "Table of Contents",
   "title_sidebar": "Contents",
   "toc_cell": false,
   "toc_position": {},
   "toc_section_display": true,
   "toc_window_display": false
  }
 },
 "nbformat": 4,
 "nbformat_minor": 2
}
