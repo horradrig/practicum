{
 "cells": [
  {
   "cell_type": "markdown",
   "metadata": {},
   "source": [
    "# Описание проекта\n",
    "\n",
    "Подготовьте прототип модели машинного обучения для «Цифры». Компания разрабатывает решения для эффективной работы промышленных предприятий.\n",
    "\n",
    "Модель должна предсказать коэффициент восстановления золота из золотосодержащей руды. В вашем распоряжении данные с параметрами добычи и очистки. \n",
    "\n",
    "Модель поможет оптимизировать производство, чтобы не запускать предприятие с убыточными характеристиками.\n",
    "\n",
    "Вам нужно:\n",
    "\n",
    "1. Подготовить данные;\n",
    "2. Провести исследовательский анализ данных;\n",
    "3. Построить и обучить модель.\n",
    "\n",
    "Чтобы выполнить проект, обращайтесь к библиотекам *pandas*, *matplotlib* и *sklearn.* Вам поможет их документация."
   ]
  },
  {
   "cell_type": "markdown",
   "metadata": {},
   "source": [
    "# Изучение и подготовка  данных"
   ]
  },
  {
   "cell_type": "code",
   "execution_count": 1,
   "metadata": {},
   "outputs": [],
   "source": [
    "import matplotlib.pyplot as plt\n",
    "import numpy as np\n",
    "import pandas as pd\n",
    "import seaborn as sns\n",
    "\n",
    "from sklearn.tree import DecisionTreeRegressor\n",
    "from sklearn.ensemble import RandomForestRegressor\n",
    "from sklearn.linear_model import LinearRegression\n",
    "from sklearn.dummy import DummyRegressor\n",
    "from sklearn.metrics import mean_absolute_error\n",
    "from sklearn.metrics.scorer import make_scorer\n",
    "from sklearn.model_selection import cross_val_score, KFold, StratifiedKFold\n",
    "from sklearn.preprocessing import StandardScaler\n",
    "\n",
    "import warnings\n",
    "warnings.filterwarnings(\"ignore\")\n",
    "\n",
    "RANDOM_STATE = 12345"
   ]
  },
  {
   "cell_type": "code",
   "execution_count": 2,
   "metadata": {},
   "outputs": [],
   "source": [
    "full = pd.read_csv('/datasets/gold_recovery_full.csv')\n",
    "train = pd.read_csv('/datasets/gold_recovery_train.csv')\n",
    "test = pd.read_csv('/datasets/gold_recovery_test.csv')"
   ]
  },
  {
   "cell_type": "markdown",
   "metadata": {},
   "source": [
    "Напишем функцию для получения информации о данных."
   ]
  },
  {
   "cell_type": "code",
   "execution_count": 3,
   "metadata": {},
   "outputs": [],
   "source": [
    "def info_dataset(dataset):\n",
    "    print('Общая информация о столбцах регирна')\n",
    "    display(dataset.info())\n",
    "    print()\n",
    "    print('Пропущенные значения')\n",
    "    display(dataset.isna().sum().sum())\n",
    "    print()\n",
    "    print('Количество повторяющихся строк')\n",
    "    display(dataset.duplicated().sum())\n",
    "    print()\n",
    "    print('Первые 10 строк датасета')\n",
    "    display(dataset.head(10))\n",
    "def shape_dataset(dataset):\n",
    "    print(dataset.shape)"
   ]
  },
  {
   "cell_type": "code",
   "execution_count": 4,
   "metadata": {},
   "outputs": [
    {
     "name": "stdout",
     "output_type": "stream",
     "text": [
      "Общая информация о столбцах регирна\n",
      "<class 'pandas.core.frame.DataFrame'>\n",
      "RangeIndex: 22716 entries, 0 to 22715\n",
      "Data columns (total 87 columns):\n",
      "date                                                  22716 non-null object\n",
      "final.output.concentrate_ag                           22627 non-null float64\n",
      "final.output.concentrate_pb                           22629 non-null float64\n",
      "final.output.concentrate_sol                          22331 non-null float64\n",
      "final.output.concentrate_au                           22630 non-null float64\n",
      "final.output.recovery                                 20753 non-null float64\n",
      "final.output.tail_ag                                  22633 non-null float64\n",
      "final.output.tail_pb                                  22516 non-null float64\n",
      "final.output.tail_sol                                 22445 non-null float64\n",
      "final.output.tail_au                                  22635 non-null float64\n",
      "primary_cleaner.input.sulfate                         21107 non-null float64\n",
      "primary_cleaner.input.depressant                      21170 non-null float64\n",
      "primary_cleaner.input.feed_size                       22716 non-null float64\n",
      "primary_cleaner.input.xanthate                        21565 non-null float64\n",
      "primary_cleaner.output.concentrate_ag                 22618 non-null float64\n",
      "primary_cleaner.output.concentrate_pb                 22268 non-null float64\n",
      "primary_cleaner.output.concentrate_sol                21918 non-null float64\n",
      "primary_cleaner.output.concentrate_au                 22618 non-null float64\n",
      "primary_cleaner.output.tail_ag                        22614 non-null float64\n",
      "primary_cleaner.output.tail_pb                        22594 non-null float64\n",
      "primary_cleaner.output.tail_sol                       22365 non-null float64\n",
      "primary_cleaner.output.tail_au                        22617 non-null float64\n",
      "primary_cleaner.state.floatbank8_a_air                22660 non-null float64\n",
      "primary_cleaner.state.floatbank8_a_level              22667 non-null float64\n",
      "primary_cleaner.state.floatbank8_b_air                22660 non-null float64\n",
      "primary_cleaner.state.floatbank8_b_level              22673 non-null float64\n",
      "primary_cleaner.state.floatbank8_c_air                22662 non-null float64\n",
      "primary_cleaner.state.floatbank8_c_level              22673 non-null float64\n",
      "primary_cleaner.state.floatbank8_d_air                22661 non-null float64\n",
      "primary_cleaner.state.floatbank8_d_level              22673 non-null float64\n",
      "rougher.calculation.sulfate_to_au_concentrate         22672 non-null float64\n",
      "rougher.calculation.floatbank10_sulfate_to_au_feed    22672 non-null float64\n",
      "rougher.calculation.floatbank11_sulfate_to_au_feed    22672 non-null float64\n",
      "rougher.calculation.au_pb_ratio                       21089 non-null float64\n",
      "rougher.input.feed_ag                                 22618 non-null float64\n",
      "rougher.input.feed_pb                                 22472 non-null float64\n",
      "rougher.input.feed_rate                               22163 non-null float64\n",
      "rougher.input.feed_size                               22277 non-null float64\n",
      "rougher.input.feed_sol                                22357 non-null float64\n",
      "rougher.input.feed_au                                 22617 non-null float64\n",
      "rougher.input.floatbank10_sulfate                     21415 non-null float64\n",
      "rougher.input.floatbank10_xanthate                    22247 non-null float64\n",
      "rougher.input.floatbank11_sulfate                     22038 non-null float64\n",
      "rougher.input.floatbank11_xanthate                    20459 non-null float64\n",
      "rougher.output.concentrate_ag                         22618 non-null float64\n",
      "rougher.output.concentrate_pb                         22618 non-null float64\n",
      "rougher.output.concentrate_sol                        22526 non-null float64\n",
      "rougher.output.concentrate_au                         22618 non-null float64\n",
      "rougher.output.recovery                               19597 non-null float64\n",
      "rougher.output.tail_ag                                19979 non-null float64\n",
      "rougher.output.tail_pb                                22618 non-null float64\n",
      "rougher.output.tail_sol                               19980 non-null float64\n",
      "rougher.output.tail_au                                19980 non-null float64\n",
      "rougher.state.floatbank10_a_air                       22646 non-null float64\n",
      "rougher.state.floatbank10_a_level                     22647 non-null float64\n",
      "rougher.state.floatbank10_b_air                       22646 non-null float64\n",
      "rougher.state.floatbank10_b_level                     22647 non-null float64\n",
      "rougher.state.floatbank10_c_air                       22646 non-null float64\n",
      "rougher.state.floatbank10_c_level                     22654 non-null float64\n",
      "rougher.state.floatbank10_d_air                       22641 non-null float64\n",
      "rougher.state.floatbank10_d_level                     22649 non-null float64\n",
      "rougher.state.floatbank10_e_air                       22096 non-null float64\n",
      "rougher.state.floatbank10_e_level                     22649 non-null float64\n",
      "rougher.state.floatbank10_f_air                       22641 non-null float64\n",
      "rougher.state.floatbank10_f_level                     22642 non-null float64\n",
      "secondary_cleaner.output.tail_ag                      22616 non-null float64\n",
      "secondary_cleaner.output.tail_pb                      22600 non-null float64\n",
      "secondary_cleaner.output.tail_sol                     20501 non-null float64\n",
      "secondary_cleaner.output.tail_au                      22618 non-null float64\n",
      "secondary_cleaner.state.floatbank2_a_air              22333 non-null float64\n",
      "secondary_cleaner.state.floatbank2_a_level            22591 non-null float64\n",
      "secondary_cleaner.state.floatbank2_b_air              22538 non-null float64\n",
      "secondary_cleaner.state.floatbank2_b_level            22588 non-null float64\n",
      "secondary_cleaner.state.floatbank3_a_air              22585 non-null float64\n",
      "secondary_cleaner.state.floatbank3_a_level            22587 non-null float64\n",
      "secondary_cleaner.state.floatbank3_b_air              22592 non-null float64\n",
      "secondary_cleaner.state.floatbank3_b_level            22590 non-null float64\n",
      "secondary_cleaner.state.floatbank4_a_air              22571 non-null float64\n",
      "secondary_cleaner.state.floatbank4_a_level            22587 non-null float64\n",
      "secondary_cleaner.state.floatbank4_b_air              22608 non-null float64\n",
      "secondary_cleaner.state.floatbank4_b_level            22607 non-null float64\n",
      "secondary_cleaner.state.floatbank5_a_air              22615 non-null float64\n",
      "secondary_cleaner.state.floatbank5_a_level            22615 non-null float64\n",
      "secondary_cleaner.state.floatbank5_b_air              22615 non-null float64\n",
      "secondary_cleaner.state.floatbank5_b_level            22616 non-null float64\n",
      "secondary_cleaner.state.floatbank6_a_air              22597 non-null float64\n",
      "secondary_cleaner.state.floatbank6_a_level            22615 non-null float64\n",
      "dtypes: float64(86), object(1)\n",
      "memory usage: 15.1+ MB\n"
     ]
    },
    {
     "data": {
      "text/plain": [
       "None"
      ]
     },
     "metadata": {},
     "output_type": "display_data"
    },
    {
     "name": "stdout",
     "output_type": "stream",
     "text": [
      "\n",
      "Пропущенные значения\n"
     ]
    },
    {
     "data": {
      "text/plain": [
       "36587"
      ]
     },
     "metadata": {},
     "output_type": "display_data"
    },
    {
     "name": "stdout",
     "output_type": "stream",
     "text": [
      "\n",
      "Количество повторяющихся строк\n"
     ]
    },
    {
     "data": {
      "text/plain": [
       "0"
      ]
     },
     "metadata": {},
     "output_type": "display_data"
    },
    {
     "name": "stdout",
     "output_type": "stream",
     "text": [
      "\n",
      "Первые 10 строк датасета\n"
     ]
    },
    {
     "data": {
      "text/html": [
       "<div>\n",
       "<style scoped>\n",
       "    .dataframe tbody tr th:only-of-type {\n",
       "        vertical-align: middle;\n",
       "    }\n",
       "\n",
       "    .dataframe tbody tr th {\n",
       "        vertical-align: top;\n",
       "    }\n",
       "\n",
       "    .dataframe thead th {\n",
       "        text-align: right;\n",
       "    }\n",
       "</style>\n",
       "<table border=\"1\" class=\"dataframe\">\n",
       "  <thead>\n",
       "    <tr style=\"text-align: right;\">\n",
       "      <th></th>\n",
       "      <th>date</th>\n",
       "      <th>final.output.concentrate_ag</th>\n",
       "      <th>final.output.concentrate_pb</th>\n",
       "      <th>final.output.concentrate_sol</th>\n",
       "      <th>final.output.concentrate_au</th>\n",
       "      <th>final.output.recovery</th>\n",
       "      <th>final.output.tail_ag</th>\n",
       "      <th>final.output.tail_pb</th>\n",
       "      <th>final.output.tail_sol</th>\n",
       "      <th>final.output.tail_au</th>\n",
       "      <th>...</th>\n",
       "      <th>secondary_cleaner.state.floatbank4_a_air</th>\n",
       "      <th>secondary_cleaner.state.floatbank4_a_level</th>\n",
       "      <th>secondary_cleaner.state.floatbank4_b_air</th>\n",
       "      <th>secondary_cleaner.state.floatbank4_b_level</th>\n",
       "      <th>secondary_cleaner.state.floatbank5_a_air</th>\n",
       "      <th>secondary_cleaner.state.floatbank5_a_level</th>\n",
       "      <th>secondary_cleaner.state.floatbank5_b_air</th>\n",
       "      <th>secondary_cleaner.state.floatbank5_b_level</th>\n",
       "      <th>secondary_cleaner.state.floatbank6_a_air</th>\n",
       "      <th>secondary_cleaner.state.floatbank6_a_level</th>\n",
       "    </tr>\n",
       "  </thead>\n",
       "  <tbody>\n",
       "    <tr>\n",
       "      <td>0</td>\n",
       "      <td>2016-01-15 00:00:00</td>\n",
       "      <td>6.055403</td>\n",
       "      <td>9.889648</td>\n",
       "      <td>5.507324</td>\n",
       "      <td>42.192020</td>\n",
       "      <td>70.541216</td>\n",
       "      <td>10.411962</td>\n",
       "      <td>0.895447</td>\n",
       "      <td>16.904297</td>\n",
       "      <td>2.143149</td>\n",
       "      <td>...</td>\n",
       "      <td>14.016835</td>\n",
       "      <td>-502.488007</td>\n",
       "      <td>12.099931</td>\n",
       "      <td>-504.715942</td>\n",
       "      <td>9.925633</td>\n",
       "      <td>-498.310211</td>\n",
       "      <td>8.079666</td>\n",
       "      <td>-500.470978</td>\n",
       "      <td>14.151341</td>\n",
       "      <td>-605.841980</td>\n",
       "    </tr>\n",
       "    <tr>\n",
       "      <td>1</td>\n",
       "      <td>2016-01-15 01:00:00</td>\n",
       "      <td>6.029369</td>\n",
       "      <td>9.968944</td>\n",
       "      <td>5.257781</td>\n",
       "      <td>42.701629</td>\n",
       "      <td>69.266198</td>\n",
       "      <td>10.462676</td>\n",
       "      <td>0.927452</td>\n",
       "      <td>16.634514</td>\n",
       "      <td>2.224930</td>\n",
       "      <td>...</td>\n",
       "      <td>13.992281</td>\n",
       "      <td>-505.503262</td>\n",
       "      <td>11.950531</td>\n",
       "      <td>-501.331529</td>\n",
       "      <td>10.039245</td>\n",
       "      <td>-500.169983</td>\n",
       "      <td>7.984757</td>\n",
       "      <td>-500.582168</td>\n",
       "      <td>13.998353</td>\n",
       "      <td>-599.787184</td>\n",
       "    </tr>\n",
       "    <tr>\n",
       "      <td>2</td>\n",
       "      <td>2016-01-15 02:00:00</td>\n",
       "      <td>6.055926</td>\n",
       "      <td>10.213995</td>\n",
       "      <td>5.383759</td>\n",
       "      <td>42.657501</td>\n",
       "      <td>68.116445</td>\n",
       "      <td>10.507046</td>\n",
       "      <td>0.953716</td>\n",
       "      <td>16.208849</td>\n",
       "      <td>2.257889</td>\n",
       "      <td>...</td>\n",
       "      <td>14.015015</td>\n",
       "      <td>-502.520901</td>\n",
       "      <td>11.912783</td>\n",
       "      <td>-501.133383</td>\n",
       "      <td>10.070913</td>\n",
       "      <td>-500.129135</td>\n",
       "      <td>8.013877</td>\n",
       "      <td>-500.517572</td>\n",
       "      <td>14.028663</td>\n",
       "      <td>-601.427363</td>\n",
       "    </tr>\n",
       "    <tr>\n",
       "      <td>3</td>\n",
       "      <td>2016-01-15 03:00:00</td>\n",
       "      <td>6.047977</td>\n",
       "      <td>9.977019</td>\n",
       "      <td>4.858634</td>\n",
       "      <td>42.689819</td>\n",
       "      <td>68.347543</td>\n",
       "      <td>10.422762</td>\n",
       "      <td>0.883763</td>\n",
       "      <td>16.532835</td>\n",
       "      <td>2.146849</td>\n",
       "      <td>...</td>\n",
       "      <td>14.036510</td>\n",
       "      <td>-500.857308</td>\n",
       "      <td>11.999550</td>\n",
       "      <td>-501.193686</td>\n",
       "      <td>9.970366</td>\n",
       "      <td>-499.201640</td>\n",
       "      <td>7.977324</td>\n",
       "      <td>-500.255908</td>\n",
       "      <td>14.005551</td>\n",
       "      <td>-599.996129</td>\n",
       "    </tr>\n",
       "    <tr>\n",
       "      <td>4</td>\n",
       "      <td>2016-01-15 04:00:00</td>\n",
       "      <td>6.148599</td>\n",
       "      <td>10.142511</td>\n",
       "      <td>4.939416</td>\n",
       "      <td>42.774141</td>\n",
       "      <td>66.927016</td>\n",
       "      <td>10.360302</td>\n",
       "      <td>0.792826</td>\n",
       "      <td>16.525686</td>\n",
       "      <td>2.055292</td>\n",
       "      <td>...</td>\n",
       "      <td>14.027298</td>\n",
       "      <td>-499.838632</td>\n",
       "      <td>11.953070</td>\n",
       "      <td>-501.053894</td>\n",
       "      <td>9.925709</td>\n",
       "      <td>-501.686727</td>\n",
       "      <td>7.894242</td>\n",
       "      <td>-500.356035</td>\n",
       "      <td>13.996647</td>\n",
       "      <td>-601.496691</td>\n",
       "    </tr>\n",
       "    <tr>\n",
       "      <td>5</td>\n",
       "      <td>2016-01-15 05:00:00</td>\n",
       "      <td>6.482968</td>\n",
       "      <td>10.049416</td>\n",
       "      <td>5.480257</td>\n",
       "      <td>41.633678</td>\n",
       "      <td>69.465816</td>\n",
       "      <td>10.182708</td>\n",
       "      <td>0.664118</td>\n",
       "      <td>16.999638</td>\n",
       "      <td>1.918586</td>\n",
       "      <td>...</td>\n",
       "      <td>13.938497</td>\n",
       "      <td>-500.970168</td>\n",
       "      <td>11.883350</td>\n",
       "      <td>-500.395298</td>\n",
       "      <td>10.054147</td>\n",
       "      <td>-496.374715</td>\n",
       "      <td>7.965083</td>\n",
       "      <td>-499.364752</td>\n",
       "      <td>14.017067</td>\n",
       "      <td>-599.707915</td>\n",
       "    </tr>\n",
       "    <tr>\n",
       "      <td>6</td>\n",
       "      <td>2016-01-15 06:00:00</td>\n",
       "      <td>6.533849</td>\n",
       "      <td>10.058141</td>\n",
       "      <td>4.569100</td>\n",
       "      <td>41.995316</td>\n",
       "      <td>69.300835</td>\n",
       "      <td>10.304598</td>\n",
       "      <td>0.807342</td>\n",
       "      <td>16.723575</td>\n",
       "      <td>2.058913</td>\n",
       "      <td>...</td>\n",
       "      <td>14.046819</td>\n",
       "      <td>-500.971133</td>\n",
       "      <td>12.091543</td>\n",
       "      <td>-500.501426</td>\n",
       "      <td>10.003247</td>\n",
       "      <td>-497.083180</td>\n",
       "      <td>8.010890</td>\n",
       "      <td>-500.002423</td>\n",
       "      <td>14.029649</td>\n",
       "      <td>-600.905470</td>\n",
       "    </tr>\n",
       "    <tr>\n",
       "      <td>7</td>\n",
       "      <td>2016-01-15 07:00:00</td>\n",
       "      <td>6.130823</td>\n",
       "      <td>9.935481</td>\n",
       "      <td>4.389813</td>\n",
       "      <td>42.452727</td>\n",
       "      <td>70.230976</td>\n",
       "      <td>10.443288</td>\n",
       "      <td>0.949346</td>\n",
       "      <td>16.689959</td>\n",
       "      <td>2.143437</td>\n",
       "      <td>...</td>\n",
       "      <td>13.974691</td>\n",
       "      <td>-501.819696</td>\n",
       "      <td>12.101324</td>\n",
       "      <td>-500.583446</td>\n",
       "      <td>9.873169</td>\n",
       "      <td>-499.171928</td>\n",
       "      <td>7.993381</td>\n",
       "      <td>-499.794518</td>\n",
       "      <td>13.984498</td>\n",
       "      <td>-600.411070</td>\n",
       "    </tr>\n",
       "    <tr>\n",
       "      <td>8</td>\n",
       "      <td>2016-01-15 08:00:00</td>\n",
       "      <td>5.834140</td>\n",
       "      <td>10.071156</td>\n",
       "      <td>4.876389</td>\n",
       "      <td>43.404078</td>\n",
       "      <td>69.688595</td>\n",
       "      <td>10.420140</td>\n",
       "      <td>1.065453</td>\n",
       "      <td>17.201948</td>\n",
       "      <td>2.209881</td>\n",
       "      <td>...</td>\n",
       "      <td>13.964030</td>\n",
       "      <td>-504.252450</td>\n",
       "      <td>12.060738</td>\n",
       "      <td>-501.174549</td>\n",
       "      <td>10.033838</td>\n",
       "      <td>-501.178133</td>\n",
       "      <td>7.881604</td>\n",
       "      <td>-499.729434</td>\n",
       "      <td>13.967135</td>\n",
       "      <td>-599.061188</td>\n",
       "    </tr>\n",
       "    <tr>\n",
       "      <td>9</td>\n",
       "      <td>2016-01-15 09:00:00</td>\n",
       "      <td>5.687063</td>\n",
       "      <td>9.980404</td>\n",
       "      <td>5.282514</td>\n",
       "      <td>43.235220</td>\n",
       "      <td>70.279619</td>\n",
       "      <td>10.487013</td>\n",
       "      <td>1.159805</td>\n",
       "      <td>17.483979</td>\n",
       "      <td>2.209593</td>\n",
       "      <td>...</td>\n",
       "      <td>13.989632</td>\n",
       "      <td>-503.195299</td>\n",
       "      <td>12.052233</td>\n",
       "      <td>-500.928547</td>\n",
       "      <td>9.962574</td>\n",
       "      <td>-502.986357</td>\n",
       "      <td>7.979219</td>\n",
       "      <td>-500.146835</td>\n",
       "      <td>13.981614</td>\n",
       "      <td>-598.070855</td>\n",
       "    </tr>\n",
       "  </tbody>\n",
       "</table>\n",
       "<p>10 rows × 87 columns</p>\n",
       "</div>"
      ],
      "text/plain": [
       "                  date  final.output.concentrate_ag  \\\n",
       "0  2016-01-15 00:00:00                     6.055403   \n",
       "1  2016-01-15 01:00:00                     6.029369   \n",
       "2  2016-01-15 02:00:00                     6.055926   \n",
       "3  2016-01-15 03:00:00                     6.047977   \n",
       "4  2016-01-15 04:00:00                     6.148599   \n",
       "5  2016-01-15 05:00:00                     6.482968   \n",
       "6  2016-01-15 06:00:00                     6.533849   \n",
       "7  2016-01-15 07:00:00                     6.130823   \n",
       "8  2016-01-15 08:00:00                     5.834140   \n",
       "9  2016-01-15 09:00:00                     5.687063   \n",
       "\n",
       "   final.output.concentrate_pb  final.output.concentrate_sol  \\\n",
       "0                     9.889648                      5.507324   \n",
       "1                     9.968944                      5.257781   \n",
       "2                    10.213995                      5.383759   \n",
       "3                     9.977019                      4.858634   \n",
       "4                    10.142511                      4.939416   \n",
       "5                    10.049416                      5.480257   \n",
       "6                    10.058141                      4.569100   \n",
       "7                     9.935481                      4.389813   \n",
       "8                    10.071156                      4.876389   \n",
       "9                     9.980404                      5.282514   \n",
       "\n",
       "   final.output.concentrate_au  final.output.recovery  final.output.tail_ag  \\\n",
       "0                    42.192020              70.541216             10.411962   \n",
       "1                    42.701629              69.266198             10.462676   \n",
       "2                    42.657501              68.116445             10.507046   \n",
       "3                    42.689819              68.347543             10.422762   \n",
       "4                    42.774141              66.927016             10.360302   \n",
       "5                    41.633678              69.465816             10.182708   \n",
       "6                    41.995316              69.300835             10.304598   \n",
       "7                    42.452727              70.230976             10.443288   \n",
       "8                    43.404078              69.688595             10.420140   \n",
       "9                    43.235220              70.279619             10.487013   \n",
       "\n",
       "   final.output.tail_pb  final.output.tail_sol  final.output.tail_au  ...  \\\n",
       "0              0.895447              16.904297              2.143149  ...   \n",
       "1              0.927452              16.634514              2.224930  ...   \n",
       "2              0.953716              16.208849              2.257889  ...   \n",
       "3              0.883763              16.532835              2.146849  ...   \n",
       "4              0.792826              16.525686              2.055292  ...   \n",
       "5              0.664118              16.999638              1.918586  ...   \n",
       "6              0.807342              16.723575              2.058913  ...   \n",
       "7              0.949346              16.689959              2.143437  ...   \n",
       "8              1.065453              17.201948              2.209881  ...   \n",
       "9              1.159805              17.483979              2.209593  ...   \n",
       "\n",
       "   secondary_cleaner.state.floatbank4_a_air  \\\n",
       "0                                 14.016835   \n",
       "1                                 13.992281   \n",
       "2                                 14.015015   \n",
       "3                                 14.036510   \n",
       "4                                 14.027298   \n",
       "5                                 13.938497   \n",
       "6                                 14.046819   \n",
       "7                                 13.974691   \n",
       "8                                 13.964030   \n",
       "9                                 13.989632   \n",
       "\n",
       "   secondary_cleaner.state.floatbank4_a_level  \\\n",
       "0                                 -502.488007   \n",
       "1                                 -505.503262   \n",
       "2                                 -502.520901   \n",
       "3                                 -500.857308   \n",
       "4                                 -499.838632   \n",
       "5                                 -500.970168   \n",
       "6                                 -500.971133   \n",
       "7                                 -501.819696   \n",
       "8                                 -504.252450   \n",
       "9                                 -503.195299   \n",
       "\n",
       "   secondary_cleaner.state.floatbank4_b_air  \\\n",
       "0                                 12.099931   \n",
       "1                                 11.950531   \n",
       "2                                 11.912783   \n",
       "3                                 11.999550   \n",
       "4                                 11.953070   \n",
       "5                                 11.883350   \n",
       "6                                 12.091543   \n",
       "7                                 12.101324   \n",
       "8                                 12.060738   \n",
       "9                                 12.052233   \n",
       "\n",
       "   secondary_cleaner.state.floatbank4_b_level  \\\n",
       "0                                 -504.715942   \n",
       "1                                 -501.331529   \n",
       "2                                 -501.133383   \n",
       "3                                 -501.193686   \n",
       "4                                 -501.053894   \n",
       "5                                 -500.395298   \n",
       "6                                 -500.501426   \n",
       "7                                 -500.583446   \n",
       "8                                 -501.174549   \n",
       "9                                 -500.928547   \n",
       "\n",
       "   secondary_cleaner.state.floatbank5_a_air  \\\n",
       "0                                  9.925633   \n",
       "1                                 10.039245   \n",
       "2                                 10.070913   \n",
       "3                                  9.970366   \n",
       "4                                  9.925709   \n",
       "5                                 10.054147   \n",
       "6                                 10.003247   \n",
       "7                                  9.873169   \n",
       "8                                 10.033838   \n",
       "9                                  9.962574   \n",
       "\n",
       "   secondary_cleaner.state.floatbank5_a_level  \\\n",
       "0                                 -498.310211   \n",
       "1                                 -500.169983   \n",
       "2                                 -500.129135   \n",
       "3                                 -499.201640   \n",
       "4                                 -501.686727   \n",
       "5                                 -496.374715   \n",
       "6                                 -497.083180   \n",
       "7                                 -499.171928   \n",
       "8                                 -501.178133   \n",
       "9                                 -502.986357   \n",
       "\n",
       "   secondary_cleaner.state.floatbank5_b_air  \\\n",
       "0                                  8.079666   \n",
       "1                                  7.984757   \n",
       "2                                  8.013877   \n",
       "3                                  7.977324   \n",
       "4                                  7.894242   \n",
       "5                                  7.965083   \n",
       "6                                  8.010890   \n",
       "7                                  7.993381   \n",
       "8                                  7.881604   \n",
       "9                                  7.979219   \n",
       "\n",
       "   secondary_cleaner.state.floatbank5_b_level  \\\n",
       "0                                 -500.470978   \n",
       "1                                 -500.582168   \n",
       "2                                 -500.517572   \n",
       "3                                 -500.255908   \n",
       "4                                 -500.356035   \n",
       "5                                 -499.364752   \n",
       "6                                 -500.002423   \n",
       "7                                 -499.794518   \n",
       "8                                 -499.729434   \n",
       "9                                 -500.146835   \n",
       "\n",
       "   secondary_cleaner.state.floatbank6_a_air  \\\n",
       "0                                 14.151341   \n",
       "1                                 13.998353   \n",
       "2                                 14.028663   \n",
       "3                                 14.005551   \n",
       "4                                 13.996647   \n",
       "5                                 14.017067   \n",
       "6                                 14.029649   \n",
       "7                                 13.984498   \n",
       "8                                 13.967135   \n",
       "9                                 13.981614   \n",
       "\n",
       "   secondary_cleaner.state.floatbank6_a_level  \n",
       "0                                 -605.841980  \n",
       "1                                 -599.787184  \n",
       "2                                 -601.427363  \n",
       "3                                 -599.996129  \n",
       "4                                 -601.496691  \n",
       "5                                 -599.707915  \n",
       "6                                 -600.905470  \n",
       "7                                 -600.411070  \n",
       "8                                 -599.061188  \n",
       "9                                 -598.070855  \n",
       "\n",
       "[10 rows x 87 columns]"
      ]
     },
     "metadata": {},
     "output_type": "display_data"
    }
   ],
   "source": [
    "info_dataset(full)"
   ]
  },
  {
   "cell_type": "markdown",
   "metadata": {},
   "source": [
    "Почти в каждом столбце есть пропущенные значения - примерно 1,85% от всего объема данных. Возможно это просто нулевые значения, то есть отсутствие какого-либо элемента в концентрате. Датасет содержит 86 количественных признаков и лишь один категориальный - дата. Если потребуется, заменим её формат на datetime."
   ]
  },
  {
   "cell_type": "code",
   "execution_count": 5,
   "metadata": {},
   "outputs": [
    {
     "name": "stdout",
     "output_type": "stream",
     "text": [
      "(22716, 87)\n",
      "(16860, 87)\n",
      "(5856, 53)\n"
     ]
    }
   ],
   "source": [
    "shape_dataset(full)\n",
    "shape_dataset(train)\n",
    "shape_dataset(test)"
   ]
  },
  {
   "cell_type": "markdown",
   "metadata": {},
   "source": [
    "Как сказано в задаче, что некоторые признаки расчитываются во время процесса и тестовые данные не содержат 34 столбца."
   ]
  },
  {
   "cell_type": "markdown",
   "metadata": {},
   "source": [
    "## Расчитаем эффективность обогащения."
   ]
  },
  {
   "cell_type": "markdown",
   "metadata": {},
   "source": [
    "Она находится по формуле: Recovery = ((C × (F-T)) / (F × (C-T))) × 100%, где C — доля золота в концентрате после флотации/очистки; F — доля золота в сырье/концентрате до флотации/очистки; T — доля золота в отвальных хвостах после флотации/очистки. Вычислим её на обучающей выборке."
   ]
  },
  {
   "cell_type": "markdown",
   "metadata": {},
   "source": [
    "Получается, будем использовать следующие столбцы для подсчета: C — rougher.output.concentrate_au, F — rougher.input.feed_au, T — rougher.output.tail_au."
   ]
  },
  {
   "cell_type": "code",
   "execution_count": 6,
   "metadata": {},
   "outputs": [],
   "source": [
    "train_temp = train.copy(deep=True)"
   ]
  },
  {
   "cell_type": "code",
   "execution_count": 7,
   "metadata": {},
   "outputs": [
    {
     "data": {
      "text/plain": [
       "0    87.107763\n",
       "1    86.843261\n",
       "2    86.842308\n",
       "3    87.226430\n",
       "4    86.688794\n",
       "Name: rougher.output.recovery.checked, dtype: float64"
      ]
     },
     "execution_count": 7,
     "metadata": {},
     "output_type": "execute_result"
    }
   ],
   "source": [
    "C = train_temp['rougher.output.concentrate_au']\n",
    "F = train_temp['rougher.input.feed_au']\n",
    "T = train_temp['rougher.output.tail_au']\n",
    "\n",
    "train_temp['rougher.output.recovery.checked'] = (C * (F - T)) / (F * (C - T)) * 100\n",
    "train_temp['rougher.output.recovery.checked'].head()"
   ]
  },
  {
   "cell_type": "markdown",
   "metadata": {},
   "source": [
    "Почитаем среднюю абсолютную ошибку MAE."
   ]
  },
  {
   "cell_type": "code",
   "execution_count": 8,
   "metadata": {},
   "outputs": [
    {
     "name": "stdout",
     "output_type": "stream",
     "text": [
      "MAE: 9.555596961987514e-15\n"
     ]
    }
   ],
   "source": [
    "train_temp.dropna(inplace=True)\n",
    "print('MAE:',mean_absolute_error(train_temp['rougher.output.recovery'],\\\n",
    "                                 train_temp['rougher.output.recovery.checked']))"
   ]
  },
  {
   "cell_type": "markdown",
   "metadata": {},
   "source": [
    "Ошибка очень мала, значит мы посчитали всё правильно."
   ]
  },
  {
   "cell_type": "markdown",
   "metadata": {},
   "source": [
    "Изучим признаки, которые отсутствуют в тестовой выборке, но есть в обучающей."
   ]
  },
  {
   "cell_type": "code",
   "execution_count": 9,
   "metadata": {},
   "outputs": [
    {
     "data": {
      "text/plain": [
       "{'final.output.concentrate_ag',\n",
       " 'final.output.concentrate_au',\n",
       " 'final.output.concentrate_pb',\n",
       " 'final.output.concentrate_sol',\n",
       " 'final.output.recovery',\n",
       " 'final.output.tail_ag',\n",
       " 'final.output.tail_au',\n",
       " 'final.output.tail_pb',\n",
       " 'final.output.tail_sol',\n",
       " 'primary_cleaner.output.concentrate_ag',\n",
       " 'primary_cleaner.output.concentrate_au',\n",
       " 'primary_cleaner.output.concentrate_pb',\n",
       " 'primary_cleaner.output.concentrate_sol',\n",
       " 'primary_cleaner.output.tail_ag',\n",
       " 'primary_cleaner.output.tail_au',\n",
       " 'primary_cleaner.output.tail_pb',\n",
       " 'primary_cleaner.output.tail_sol',\n",
       " 'rougher.calculation.au_pb_ratio',\n",
       " 'rougher.calculation.floatbank10_sulfate_to_au_feed',\n",
       " 'rougher.calculation.floatbank11_sulfate_to_au_feed',\n",
       " 'rougher.calculation.sulfate_to_au_concentrate',\n",
       " 'rougher.output.concentrate_ag',\n",
       " 'rougher.output.concentrate_au',\n",
       " 'rougher.output.concentrate_pb',\n",
       " 'rougher.output.concentrate_sol',\n",
       " 'rougher.output.recovery',\n",
       " 'rougher.output.tail_ag',\n",
       " 'rougher.output.tail_au',\n",
       " 'rougher.output.tail_pb',\n",
       " 'rougher.output.tail_sol',\n",
       " 'secondary_cleaner.output.tail_ag',\n",
       " 'secondary_cleaner.output.tail_au',\n",
       " 'secondary_cleaner.output.tail_pb',\n",
       " 'secondary_cleaner.output.tail_sol'}"
      ]
     },
     "execution_count": 9,
     "metadata": {},
     "output_type": "execute_result"
    }
   ],
   "source": [
    "set(train.columns) - set(test.columns)"
   ]
  },
  {
   "cell_type": "markdown",
   "metadata": {},
   "source": [
    "Это финальные параметры продукта, параметры продукта после первичной/вторичной очистки, различные характеристики, которые вычисляются во время флотации, а так же параметры продукта после вторичной очистки. По логике все эти параметры расчитываются непосредственно во время самого процесса."
   ]
  },
  {
   "cell_type": "markdown",
   "metadata": {},
   "source": [
    "# Предобработка данных."
   ]
  },
  {
   "cell_type": "markdown",
   "metadata": {},
   "source": [
    "Создадим копии датасетов."
   ]
  },
  {
   "cell_type": "code",
   "execution_count": 10,
   "metadata": {},
   "outputs": [],
   "source": [
    "full_copy = full.copy(deep=True)\n",
    "train_copy = train.copy(deep=True)\n",
    "test_copy = test.copy(deep=True)\n",
    "datasets_copy = {'Исходные данные': full_copy, \n",
    "                 'Обучающая выборка': train_copy, \n",
    "                 'Тестовая выборка': test_copy}"
   ]
  },
  {
   "cell_type": "markdown",
   "metadata": {},
   "source": [
    "Добавим в тестовую копию целевые признаки."
   ]
  },
  {
   "cell_type": "code",
   "execution_count": 11,
   "metadata": {},
   "outputs": [
    {
     "data": {
      "text/plain": [
       "(5856, 55)"
      ]
     },
     "execution_count": 11,
     "metadata": {},
     "output_type": "execute_result"
    }
   ],
   "source": [
    "test_copy = test_copy.merge(full_copy[['date', 'rougher.output.recovery', 'final.output.recovery']], \n",
    "                           how = 'left', on = 'date')\n",
    "test_copy.shape"
   ]
  },
  {
   "cell_type": "markdown",
   "metadata": {},
   "source": [
    "Удалим строки с пропусками из целевых признаков."
   ]
  },
  {
   "cell_type": "code",
   "execution_count": 12,
   "metadata": {},
   "outputs": [],
   "source": [
    "cols = ['rougher.output.recovery', 'final.output.recovery']\n",
    "\n",
    "full_copy.dropna(subset=cols, inplace=True)\n",
    "train_copy.dropna(subset=cols, inplace=True)\n",
    "test_copy.dropna(subset=cols, inplace=True)"
   ]
  },
  {
   "cell_type": "markdown",
   "metadata": {},
   "source": [
    "Заполним пропуски в остальных признаках."
   ]
  },
  {
   "cell_type": "code",
   "execution_count": 13,
   "metadata": {},
   "outputs": [
    {
     "name": "stdout",
     "output_type": "stream",
     "text": [
      "False\n",
      "False\n",
      "False\n"
     ]
    }
   ],
   "source": [
    "for key, value in datasets_copy.items():\n",
    "    value.ffill(inplace=True)\n",
    "    print(value.isnull().values.any())"
   ]
  },
  {
   "cell_type": "markdown",
   "metadata": {},
   "source": [
    "В обучающей выборке удалим признаки, которых нет в тестовой."
   ]
  },
  {
   "cell_type": "code",
   "execution_count": 14,
   "metadata": {},
   "outputs": [],
   "source": [
    "useful_cols = list(test_copy.columns)\n",
    "train_copy = train_copy[useful_cols]"
   ]
  },
  {
   "cell_type": "code",
   "execution_count": 15,
   "metadata": {},
   "outputs": [
    {
     "name": "stdout",
     "output_type": "stream",
     "text": [
      "Размер выборки train_copy: (14149, 55)\n",
      "Размер выборки test_copy: (5290, 55)\n"
     ]
    }
   ],
   "source": [
    "print('Размер выборки train_copy:', train_copy.shape)\n",
    "print('Размер выборки test_copy:', test_copy.shape)"
   ]
  },
  {
   "cell_type": "markdown",
   "metadata": {},
   "source": [
    "Количество признаков выборок совпадает. В обучающей и тестовой выборках только те признаки, которые нужны нам для обучения."
   ]
  },
  {
   "cell_type": "markdown",
   "metadata": {},
   "source": [
    "# Анализ данных"
   ]
  },
  {
   "cell_type": "markdown",
   "metadata": {},
   "source": [
    "## Изучим, как меняется концентрация металлов (au, ag, pb) на различных этапах очистки."
   ]
  },
  {
   "cell_type": "markdown",
   "metadata": {},
   "source": [
    "Для этого напишем функцию для визуализации."
   ]
  },
  {
   "cell_type": "code",
   "execution_count": 16,
   "metadata": {},
   "outputs": [],
   "source": [
    "def visual_metal_conc(metal):\n",
    "    cols = ['rougher.input.feed_'+metal, 'rougher.output.concentrate_'+metal, \n",
    "            'primary_cleaner.output.concentrate_'+metal, 'final.output.concentrate_'+metal]\n",
    "    concentrate = full_copy[cols]\n",
    "    plt.figure(figsize=(14, 6))\n",
    "    sns.boxplot(data=full_copy[cols], palette='rainbow')\n",
    "    plt.title('Концентрация металла ' + metal + ' на различных этапах очистки', fontsize=16)\n",
    "    plt.xlabel('Стадия')\n",
    "    plt.ylabel('Концентрация')\n",
    "    plt.show()"
   ]
  },
  {
   "cell_type": "code",
   "execution_count": 17,
   "metadata": {},
   "outputs": [
    {
     "data": {
      "image/png": "[encoded data removed]",
      "text/plain": [
       "<Figure size 1008x432 with 1 Axes>"
      ]
     },
     "metadata": {
      "needs_background": "light"
     },
     "output_type": "display_data"
    }
   ],
   "source": [
    "visual_metal_conc('au')"
   ]
  },
  {
   "cell_type": "markdown",
   "metadata": {},
   "source": [
    "На каждом этапе очень много выбросов. Концентрация золота растёт с каждым этапом очистки, это логично, так как это целевой металл."
   ]
  },
  {
   "cell_type": "code",
   "execution_count": 18,
   "metadata": {},
   "outputs": [
    {
     "data": {
      "image/png": "[encoded data removed]",
      "text/plain": [
       "<Figure size 1008x432 with 1 Axes>"
      ]
     },
     "metadata": {
      "needs_background": "light"
     },
     "output_type": "display_data"
    }
   ],
   "source": [
    "visual_metal_conc('ag')"
   ]
  },
  {
   "cell_type": "markdown",
   "metadata": {},
   "source": [
    "Так же есть выбросы. Концентрация серебра сначала высокая, но потом постепенно снижается."
   ]
  },
  {
   "cell_type": "code",
   "execution_count": 19,
   "metadata": {},
   "outputs": [
    {
     "data": {
      "image/png": "[encoded data removed]",
      "text/plain": [
       "<Figure size 1008x432 with 1 Axes>"
      ]
     },
     "metadata": {
      "needs_background": "light"
     },
     "output_type": "display_data"
    }
   ],
   "source": [
    "visual_metal_conc('pb')"
   ]
  },
  {
   "cell_type": "markdown",
   "metadata": {},
   "source": [
    "Выбросы присутствуют. На первых трёх этапах концентрация свинца растёт, на четвёртом этапе медиана почти равна медиане третьего этапа, но разброс значений меньше."
   ]
  },
  {
   "cell_type": "markdown",
   "metadata": {},
   "source": [
    "## Сравним распределения размеров гранул сырья на обучающей и тестовой выборках."
   ]
  },
  {
   "cell_type": "markdown",
   "metadata": {},
   "source": [
    "Размер гранул хранится в колонках primary_cleaner.input.feed_size и rougher.input.feed_size."
   ]
  },
  {
   "cell_type": "code",
   "execution_count": 20,
   "metadata": {},
   "outputs": [
    {
     "data": {
      "text/html": [
       "<div>\n",
       "<style scoped>\n",
       "    .dataframe tbody tr th:only-of-type {\n",
       "        vertical-align: middle;\n",
       "    }\n",
       "\n",
       "    .dataframe tbody tr th {\n",
       "        vertical-align: top;\n",
       "    }\n",
       "\n",
       "    .dataframe thead th {\n",
       "        text-align: right;\n",
       "    }\n",
       "</style>\n",
       "<table border=\"1\" class=\"dataframe\">\n",
       "  <thead>\n",
       "    <tr style=\"text-align: right;\">\n",
       "      <th></th>\n",
       "      <th>train</th>\n",
       "      <th>test</th>\n",
       "    </tr>\n",
       "  </thead>\n",
       "  <tbody>\n",
       "    <tr>\n",
       "      <td>count</td>\n",
       "      <td>14149.000000</td>\n",
       "      <td>5289.000000</td>\n",
       "    </tr>\n",
       "    <tr>\n",
       "      <td>mean</td>\n",
       "      <td>60.239856</td>\n",
       "      <td>55.951097</td>\n",
       "    </tr>\n",
       "    <tr>\n",
       "      <td>std</td>\n",
       "      <td>23.005310</td>\n",
       "      <td>19.081758</td>\n",
       "    </tr>\n",
       "    <tr>\n",
       "      <td>min</td>\n",
       "      <td>9.659576</td>\n",
       "      <td>0.046369</td>\n",
       "    </tr>\n",
       "    <tr>\n",
       "      <td>25%</td>\n",
       "      <td>48.966751</td>\n",
       "      <td>43.906347</td>\n",
       "    </tr>\n",
       "    <tr>\n",
       "      <td>50%</td>\n",
       "      <td>55.269784</td>\n",
       "      <td>50.841029</td>\n",
       "    </tr>\n",
       "    <tr>\n",
       "      <td>75%</td>\n",
       "      <td>66.007526</td>\n",
       "      <td>62.431047</td>\n",
       "    </tr>\n",
       "    <tr>\n",
       "      <td>max</td>\n",
       "      <td>484.967466</td>\n",
       "      <td>392.494040</td>\n",
       "    </tr>\n",
       "  </tbody>\n",
       "</table>\n",
       "</div>"
      ],
      "text/plain": [
       "              train         test\n",
       "count  14149.000000  5289.000000\n",
       "mean      60.239856    55.951097\n",
       "std       23.005310    19.081758\n",
       "min        9.659576     0.046369\n",
       "25%       48.966751    43.906347\n",
       "50%       55.269784    50.841029\n",
       "75%       66.007526    62.431047\n",
       "max      484.967466   392.494040"
      ]
     },
     "execution_count": 20,
     "metadata": {},
     "output_type": "execute_result"
    }
   ],
   "source": [
    "rougher_input_feed_size = pd.concat([train_copy['rougher.input.feed_size'], \n",
    "                                     test_copy['rougher.input.feed_size']], axis=1) \n",
    "rougher_input_feed_size.columns = ['train', 'test']\n",
    "rougher_input_feed_size.describe()"
   ]
  },
  {
   "cell_type": "code",
   "execution_count": 21,
   "metadata": {},
   "outputs": [
    {
     "data": {
      "image/png": "[encoded data removed]",
      "text/plain": [
       "<Figure size 1008x432 with 1 Axes>"
      ]
     },
     "metadata": {
      "needs_background": "light"
     },
     "output_type": "display_data"
    }
   ],
   "source": [
    "plt.figure(figsize=(14, 6))\n",
    "sns.distplot(train['rougher.input.feed_size'].dropna(), label='train')\n",
    "sns.distplot(test['rougher.input.feed_size'].dropna(), label='test')\n",
    "plt.legend()\n",
    "plt.title('Размер гранул', fontsize=16)\n",
    "plt.xlabel('Размер гранул')\n",
    "plt.ylabel('Количество')\n",
    "plt.show()"
   ]
  },
  {
   "cell_type": "markdown",
   "metadata": {},
   "source": [
    "Разница в тестовом наборе и обучающем есть. В обучающем наборе все статистические данные немного выше. Но в целом они различаются слабо. Возможно это связано с различием в размере наборов данных."
   ]
  },
  {
   "cell_type": "code",
   "execution_count": 22,
   "metadata": {},
   "outputs": [
    {
     "data": {
      "text/html": [
       "<div>\n",
       "<style scoped>\n",
       "    .dataframe tbody tr th:only-of-type {\n",
       "        vertical-align: middle;\n",
       "    }\n",
       "\n",
       "    .dataframe tbody tr th {\n",
       "        vertical-align: top;\n",
       "    }\n",
       "\n",
       "    .dataframe thead th {\n",
       "        text-align: right;\n",
       "    }\n",
       "</style>\n",
       "<table border=\"1\" class=\"dataframe\">\n",
       "  <thead>\n",
       "    <tr style=\"text-align: right;\">\n",
       "      <th></th>\n",
       "      <th>train</th>\n",
       "      <th>test</th>\n",
       "    </tr>\n",
       "  </thead>\n",
       "  <tbody>\n",
       "    <tr>\n",
       "      <td>count</td>\n",
       "      <td>14149.000000</td>\n",
       "      <td>5290.000000</td>\n",
       "    </tr>\n",
       "    <tr>\n",
       "      <td>mean</td>\n",
       "      <td>7.322310</td>\n",
       "      <td>7.266339</td>\n",
       "    </tr>\n",
       "    <tr>\n",
       "      <td>std</td>\n",
       "      <td>0.614062</td>\n",
       "      <td>0.610219</td>\n",
       "    </tr>\n",
       "    <tr>\n",
       "      <td>min</td>\n",
       "      <td>1.080000</td>\n",
       "      <td>5.650000</td>\n",
       "    </tr>\n",
       "    <tr>\n",
       "      <td>25%</td>\n",
       "      <td>6.960000</td>\n",
       "      <td>6.890000</td>\n",
       "    </tr>\n",
       "    <tr>\n",
       "      <td>50%</td>\n",
       "      <td>7.290000</td>\n",
       "      <td>7.250000</td>\n",
       "    </tr>\n",
       "    <tr>\n",
       "      <td>75%</td>\n",
       "      <td>7.700000</td>\n",
       "      <td>7.600000</td>\n",
       "    </tr>\n",
       "    <tr>\n",
       "      <td>max</td>\n",
       "      <td>10.470000</td>\n",
       "      <td>15.500000</td>\n",
       "    </tr>\n",
       "  </tbody>\n",
       "</table>\n",
       "</div>"
      ],
      "text/plain": [
       "              train         test\n",
       "count  14149.000000  5290.000000\n",
       "mean       7.322310     7.266339\n",
       "std        0.614062     0.610219\n",
       "min        1.080000     5.650000\n",
       "25%        6.960000     6.890000\n",
       "50%        7.290000     7.250000\n",
       "75%        7.700000     7.600000\n",
       "max       10.470000    15.500000"
      ]
     },
     "execution_count": 22,
     "metadata": {},
     "output_type": "execute_result"
    }
   ],
   "source": [
    "primary_cleaner_input_feed_size = pd.concat([train_copy['primary_cleaner.input.feed_size'], \n",
    "                                     test_copy['primary_cleaner.input.feed_size']], axis=1) \n",
    "primary_cleaner_input_feed_size.columns = ['train', 'test']\n",
    "primary_cleaner_input_feed_size.describe()"
   ]
  },
  {
   "cell_type": "code",
   "execution_count": 23,
   "metadata": {},
   "outputs": [
    {
     "data": {
      "image/png": "[encoded data removed]",
      "text/plain": [
       "<Figure size 1008x432 with 1 Axes>"
      ]
     },
     "metadata": {
      "needs_background": "light"
     },
     "output_type": "display_data"
    }
   ],
   "source": [
    "plt.figure(figsize=(14, 6))\n",
    "sns.distplot(train['primary_cleaner.input.feed_size'].dropna(), label='train')\n",
    "sns.distplot(test['primary_cleaner.input.feed_size'].dropna(), label='test')\n",
    "plt.legend()\n",
    "plt.title('Размер гранул', fontsize=16)\n",
    "plt.xlabel('Размер гранул')\n",
    "plt.ylabel('Количество')\n",
    "plt.show()"
   ]
  },
  {
   "cell_type": "markdown",
   "metadata": {},
   "source": [
    "Здесь тоже данные почти одинаковые. Вряд ли они сильно повлияют на работу модели."
   ]
  },
  {
   "cell_type": "markdown",
   "metadata": {},
   "source": [
    "## Исследуем суммарную концентрацию всех веществ на разных стадиях: в сырье, в черновом и финальном концентратах."
   ]
  },
  {
   "cell_type": "markdown",
   "metadata": {},
   "source": [
    "Для начаала посчитаем общую концентрацию металлов на каждом этапе."
   ]
  },
  {
   "cell_type": "code",
   "execution_count": 24,
   "metadata": {},
   "outputs": [],
   "source": [
    "full_copy['сырье'] = full_copy[['rougher.input.feed_au', 'rougher.input.feed_ag',\\\n",
    "                                'rougher.input.feed_pb']].sum(axis=1)\n",
    "full_copy['черновой концентрат'] = full_copy[['rougher.output.concentrate_au',\\\n",
    "                                              'rougher.output.concentrate_ag',\\\n",
    "                                              'rougher.output.concentrate_pb']].sum(axis=1)\n",
    "full_copy['первичная очистка'] = full_copy[['primary_cleaner.output.concentrate_au',\\\n",
    "                                            'primary_cleaner.output.concentrate_ag',\\\n",
    "                                            'primary_cleaner.output.concentrate_pb']].sum(axis=1)\n",
    "full_copy['финальный концентрат'] = full_copy[['final.output.concentrate_au',\\\n",
    "                                               'final.output.concentrate_ag',\\\n",
    "                                               'final.output.concentrate_pb']].sum(axis=1)"
   ]
  },
  {
   "cell_type": "code",
   "execution_count": 25,
   "metadata": {},
   "outputs": [
    {
     "data": {
      "text/html": [
       "<div>\n",
       "<style scoped>\n",
       "    .dataframe tbody tr th:only-of-type {\n",
       "        vertical-align: middle;\n",
       "    }\n",
       "\n",
       "    .dataframe tbody tr th {\n",
       "        vertical-align: top;\n",
       "    }\n",
       "\n",
       "    .dataframe thead th {\n",
       "        text-align: right;\n",
       "    }\n",
       "</style>\n",
       "<table border=\"1\" class=\"dataframe\">\n",
       "  <thead>\n",
       "    <tr style=\"text-align: right;\">\n",
       "      <th></th>\n",
       "      <th>сырье</th>\n",
       "      <th>черновой концентрат</th>\n",
       "      <th>первичная очистка</th>\n",
       "      <th>финальный концентрат</th>\n",
       "    </tr>\n",
       "  </thead>\n",
       "  <tbody>\n",
       "    <tr>\n",
       "      <td>count</td>\n",
       "      <td>19439.000000</td>\n",
       "      <td>19439.000000</td>\n",
       "      <td>19439.000000</td>\n",
       "      <td>19439.000000</td>\n",
       "    </tr>\n",
       "    <tr>\n",
       "      <td>mean</td>\n",
       "      <td>20.646120</td>\n",
       "      <td>39.373032</td>\n",
       "      <td>50.372125</td>\n",
       "      <td>59.223721</td>\n",
       "    </tr>\n",
       "    <tr>\n",
       "      <td>std</td>\n",
       "      <td>4.480027</td>\n",
       "      <td>6.863389</td>\n",
       "      <td>7.628095</td>\n",
       "      <td>6.095138</td>\n",
       "    </tr>\n",
       "    <tr>\n",
       "      <td>min</td>\n",
       "      <td>0.030000</td>\n",
       "      <td>0.000000</td>\n",
       "      <td>0.000000</td>\n",
       "      <td>0.000000</td>\n",
       "    </tr>\n",
       "    <tr>\n",
       "      <td>25%</td>\n",
       "      <td>17.252879</td>\n",
       "      <td>38.394639</td>\n",
       "      <td>50.053899</td>\n",
       "      <td>59.298323</td>\n",
       "    </tr>\n",
       "    <tr>\n",
       "      <td>50%</td>\n",
       "      <td>20.141216</td>\n",
       "      <td>40.312648</td>\n",
       "      <td>51.909156</td>\n",
       "      <td>60.306921</td>\n",
       "    </tr>\n",
       "    <tr>\n",
       "      <td>75%</td>\n",
       "      <td>23.797381</td>\n",
       "      <td>42.365102</td>\n",
       "      <td>53.386898</td>\n",
       "      <td>61.096667</td>\n",
       "    </tr>\n",
       "    <tr>\n",
       "      <td>max</td>\n",
       "      <td>33.498784</td>\n",
       "      <td>55.568687</td>\n",
       "      <td>60.269003</td>\n",
       "      <td>64.968881</td>\n",
       "    </tr>\n",
       "  </tbody>\n",
       "</table>\n",
       "</div>"
      ],
      "text/plain": [
       "              сырье  черновой концентрат  первичная очистка  \\\n",
       "count  19439.000000         19439.000000       19439.000000   \n",
       "mean      20.646120            39.373032          50.372125   \n",
       "std        4.480027             6.863389           7.628095   \n",
       "min        0.030000             0.000000           0.000000   \n",
       "25%       17.252879            38.394639          50.053899   \n",
       "50%       20.141216            40.312648          51.909156   \n",
       "75%       23.797381            42.365102          53.386898   \n",
       "max       33.498784            55.568687          60.269003   \n",
       "\n",
       "       финальный концентрат  \n",
       "count          19439.000000  \n",
       "mean              59.223721  \n",
       "std                6.095138  \n",
       "min                0.000000  \n",
       "25%               59.298323  \n",
       "50%               60.306921  \n",
       "75%               61.096667  \n",
       "max               64.968881  "
      ]
     },
     "execution_count": 25,
     "metadata": {},
     "output_type": "execute_result"
    }
   ],
   "source": [
    "full_copy[['сырье', 'черновой концентрат', 'первичная очистка', 'финальный концентрат']].describe()"
   ]
  },
  {
   "cell_type": "markdown",
   "metadata": {},
   "source": [
    "На трёх этапах из четырех есть нулевые значения. \n",
    "Построим графики."
   ]
  },
  {
   "cell_type": "code",
   "execution_count": 26,
   "metadata": {},
   "outputs": [
    {
     "data": {
      "image/png": "[encoded data removed]",
      "text/plain": [
       "<Figure size 1008x432 with 1 Axes>"
      ]
     },
     "metadata": {
      "needs_background": "light"
     },
     "output_type": "display_data"
    }
   ],
   "source": [
    "cols = ['сырье', 'черновой концентрат', 'первичная очистка', 'финальный концентрат']\n",
    "concentrate = full_copy[cols]\n",
    "plt.figure(figsize=(14, 6))\n",
    "sns.boxplot(data=full_copy[cols], palette='rainbow')\n",
    "plt.title('Суммарная концентрация металлов на различных этапах очистки', fontsize=16)\n",
    "plt.xlabel('Стадия')\n",
    "plt.ylabel('Концентрация')\n",
    "plt.show()"
   ]
  },
  {
   "cell_type": "markdown",
   "metadata": {},
   "source": [
    "В данных присутствуют выбросы. Что бы они не повлияли на работу модели удалим их."
   ]
  },
  {
   "cell_type": "code",
   "execution_count": 27,
   "metadata": {},
   "outputs": [
    {
     "data": {
      "text/plain": [
       "(18723, 91)"
      ]
     },
     "execution_count": 27,
     "metadata": {},
     "output_type": "execute_result"
    }
   ],
   "source": [
    "full_clean = full_copy[\n",
    "    (full_copy['сырье'] >  0.5) & \n",
    "    (full_copy['черновой концентрат'] > 0.5) & \n",
    "    (full_copy['первичная очистка'] > 0.5) & \n",
    "    (full_copy['финальный концентрат'] > 0.5)\n",
    "]\n",
    "full_clean.shape"
   ]
  },
  {
   "cell_type": "code",
   "execution_count": 28,
   "metadata": {},
   "outputs": [
    {
     "data": {
      "text/html": [
       "<div>\n",
       "<style scoped>\n",
       "    .dataframe tbody tr th:only-of-type {\n",
       "        vertical-align: middle;\n",
       "    }\n",
       "\n",
       "    .dataframe tbody tr th {\n",
       "        vertical-align: top;\n",
       "    }\n",
       "\n",
       "    .dataframe thead th {\n",
       "        text-align: right;\n",
       "    }\n",
       "</style>\n",
       "<table border=\"1\" class=\"dataframe\">\n",
       "  <thead>\n",
       "    <tr style=\"text-align: right;\">\n",
       "      <th></th>\n",
       "      <th>сырье</th>\n",
       "      <th>черновой концентрат</th>\n",
       "      <th>первичная очистка</th>\n",
       "      <th>финальный концентрат</th>\n",
       "    </tr>\n",
       "  </thead>\n",
       "  <tbody>\n",
       "    <tr>\n",
       "      <td>count</td>\n",
       "      <td>18723.000000</td>\n",
       "      <td>18723.000000</td>\n",
       "      <td>18723.000000</td>\n",
       "      <td>18723.000000</td>\n",
       "    </tr>\n",
       "    <tr>\n",
       "      <td>mean</td>\n",
       "      <td>20.649942</td>\n",
       "      <td>40.211941</td>\n",
       "      <td>50.958765</td>\n",
       "      <td>59.537395</td>\n",
       "    </tr>\n",
       "    <tr>\n",
       "      <td>std</td>\n",
       "      <td>4.431152</td>\n",
       "      <td>3.823005</td>\n",
       "      <td>5.234731</td>\n",
       "      <td>4.263593</td>\n",
       "    </tr>\n",
       "    <tr>\n",
       "      <td>min</td>\n",
       "      <td>2.560855</td>\n",
       "      <td>1.137053</td>\n",
       "      <td>0.706329</td>\n",
       "      <td>1.685441</td>\n",
       "    </tr>\n",
       "    <tr>\n",
       "      <td>25%</td>\n",
       "      <td>17.237414</td>\n",
       "      <td>38.537404</td>\n",
       "      <td>50.123475</td>\n",
       "      <td>59.307605</td>\n",
       "    </tr>\n",
       "    <tr>\n",
       "      <td>50%</td>\n",
       "      <td>20.136186</td>\n",
       "      <td>40.380059</td>\n",
       "      <td>51.916928</td>\n",
       "      <td>60.303141</td>\n",
       "    </tr>\n",
       "    <tr>\n",
       "      <td>75%</td>\n",
       "      <td>23.787453</td>\n",
       "      <td>42.410854</td>\n",
       "      <td>53.362263</td>\n",
       "      <td>61.086615</td>\n",
       "    </tr>\n",
       "    <tr>\n",
       "      <td>max</td>\n",
       "      <td>33.498784</td>\n",
       "      <td>55.568687</td>\n",
       "      <td>60.106566</td>\n",
       "      <td>64.968881</td>\n",
       "    </tr>\n",
       "  </tbody>\n",
       "</table>\n",
       "</div>"
      ],
      "text/plain": [
       "              сырье  черновой концентрат  первичная очистка  \\\n",
       "count  18723.000000         18723.000000       18723.000000   \n",
       "mean      20.649942            40.211941          50.958765   \n",
       "std        4.431152             3.823005           5.234731   \n",
       "min        2.560855             1.137053           0.706329   \n",
       "25%       17.237414            38.537404          50.123475   \n",
       "50%       20.136186            40.380059          51.916928   \n",
       "75%       23.787453            42.410854          53.362263   \n",
       "max       33.498784            55.568687          60.106566   \n",
       "\n",
       "       финальный концентрат  \n",
       "count          18723.000000  \n",
       "mean              59.537395  \n",
       "std                4.263593  \n",
       "min                1.685441  \n",
       "25%               59.307605  \n",
       "50%               60.303141  \n",
       "75%               61.086615  \n",
       "max               64.968881  "
      ]
     },
     "execution_count": 28,
     "metadata": {},
     "output_type": "execute_result"
    }
   ],
   "source": [
    "full_clean[['сырье', 'черновой концентрат', 'первичная очистка', 'финальный концентрат']].describe()"
   ]
  },
  {
   "cell_type": "markdown",
   "metadata": {},
   "source": [
    "Разброс значительно уменьшился (std). Перед обучением моделей удалим из выборок данные, которые мы удалили чуть выше, используя уникальное поле date."
   ]
  },
  {
   "cell_type": "code",
   "execution_count": 29,
   "metadata": {},
   "outputs": [
    {
     "name": "stdout",
     "output_type": "stream",
     "text": [
      "Обучающая выборка (13600, 55)\n",
      "Тестовая выборка (5074, 55)\n"
     ]
    }
   ],
   "source": [
    "train_clean = train_copy[train_copy['date'].isin(full_clean['date'])]\n",
    "test_clean = test_copy[test_copy['date'].isin(full_clean['date'])]\n",
    "train_clean.dropna(inplace=True)\n",
    "test_clean.dropna(inplace=True)\n",
    "print('Обучающая выборка', train_clean.shape)\n",
    "print('Тестовая выборка', test_clean.shape)"
   ]
  },
  {
   "cell_type": "markdown",
   "metadata": {},
   "source": [
    "# Модель <a name=\"4\"></a>"
   ]
  },
  {
   "cell_type": "markdown",
   "metadata": {},
   "source": [
    "## Напишем функцию для вычисления итоговой sMAPE. <a name=\"4.1\"></a>"
   ]
  },
  {
   "attachments": {
    "image-2.png": {
     "image/png": "[encoded data removed]"
    },
    "image.png": {
     "image/png": "[encoded data removed]"
    }
   },
   "cell_type": "markdown",
   "metadata": {},
   "source": [
    "![image.png](attachment:image.png) ![image-2.png](attachment:image-2.png)"
   ]
  },
  {
   "cell_type": "code",
   "execution_count": 30,
   "metadata": {},
   "outputs": [],
   "source": [
    "def smape(target, predictions):\n",
    "    summa = (abs(predictions - target) / ((abs(target) + abs(predictions)) / 2)).sum()\n",
    "    smape = 1 / len(target) * summa * 100\n",
    "    return smape"
   ]
  },
  {
   "cell_type": "code",
   "execution_count": 31,
   "metadata": {},
   "outputs": [],
   "source": [
    "def smape_final(smape_rougher, smape_final):\n",
    "    smape_final = 0.25 * smape_rougher + 0.75 * smape_final\n",
    "    return smape_final"
   ]
  },
  {
   "cell_type": "markdown",
   "metadata": {},
   "source": [
    "## Обучение моделей <a name=\"4.2\"></a>"
   ]
  },
  {
   "cell_type": "markdown",
   "metadata": {},
   "source": [
    "Разделим данные на признаки и целевой признак."
   ]
  },
  {
   "cell_type": "code",
   "execution_count": 32,
   "metadata": {},
   "outputs": [],
   "source": [
    "target_rougher_train = train_clean['rougher.output.recovery']\n",
    "target_final_train = train_clean['final.output.recovery']\n",
    "features_train = train_clean.drop(['date', 'rougher.output.recovery', 'final.output.recovery'], axis=1)\n",
    "\n",
    "target_rougher_test = test_clean['rougher.output.recovery']\n",
    "target_final_test = test_clean['final.output.recovery']\n",
    "features_test = test_clean.drop(['date', 'rougher.output.recovery', 'final.output.recovery'], axis=1)"
   ]
  },
  {
   "cell_type": "markdown",
   "metadata": {},
   "source": [
    "Проведем проверку."
   ]
  },
  {
   "cell_type": "code",
   "execution_count": 33,
   "metadata": {},
   "outputs": [
    {
     "name": "stdout",
     "output_type": "stream",
     "text": [
      "target_rougher_train (13600,)\n",
      "target_final_train (13600,)\n",
      "features_train (13600, 52)\n",
      "target_rougher_test (5074,)\n",
      "target_final_test (5074,)\n",
      "features_test (5074, 52)\n"
     ]
    }
   ],
   "source": [
    "print('target_rougher_train', target_rougher_train.shape)\n",
    "print('target_final_train', target_final_train.shape)\n",
    "print('features_train', features_train.shape)\n",
    "print('target_rougher_test', target_rougher_test.shape)\n",
    "print('target_final_test', target_final_test.shape)\n",
    "print('features_test', features_test.shape)"
   ]
  },
  {
   "cell_type": "markdown",
   "metadata": {},
   "source": [
    "Масштабируем признаки."
   ]
  },
  {
   "cell_type": "code",
   "execution_count": 34,
   "metadata": {},
   "outputs": [],
   "source": [
    "numeric = features_train.columns\n",
    "scaler = StandardScaler()\n",
    "scaler.fit(features_train[numeric])\n",
    "features_train[numeric] = scaler.transform(features_train[numeric])\n",
    "features_test[numeric] = scaler.transform(features_test[numeric])"
   ]
  },
  {
   "cell_type": "code",
   "execution_count": 35,
   "metadata": {},
   "outputs": [
    {
     "data": {
      "text/html": [
       "<div>\n",
       "<style scoped>\n",
       "    .dataframe tbody tr th:only-of-type {\n",
       "        vertical-align: middle;\n",
       "    }\n",
       "\n",
       "    .dataframe tbody tr th {\n",
       "        vertical-align: top;\n",
       "    }\n",
       "\n",
       "    .dataframe thead th {\n",
       "        text-align: right;\n",
       "    }\n",
       "</style>\n",
       "<table border=\"1\" class=\"dataframe\">\n",
       "  <thead>\n",
       "    <tr style=\"text-align: right;\">\n",
       "      <th></th>\n",
       "      <th>primary_cleaner.input.sulfate</th>\n",
       "      <th>primary_cleaner.input.depressant</th>\n",
       "      <th>primary_cleaner.input.feed_size</th>\n",
       "      <th>primary_cleaner.input.xanthate</th>\n",
       "      <th>primary_cleaner.state.floatbank8_a_air</th>\n",
       "      <th>primary_cleaner.state.floatbank8_a_level</th>\n",
       "      <th>primary_cleaner.state.floatbank8_b_air</th>\n",
       "      <th>primary_cleaner.state.floatbank8_b_level</th>\n",
       "      <th>primary_cleaner.state.floatbank8_c_air</th>\n",
       "      <th>primary_cleaner.state.floatbank8_c_level</th>\n",
       "      <th>...</th>\n",
       "      <th>secondary_cleaner.state.floatbank4_a_air</th>\n",
       "      <th>secondary_cleaner.state.floatbank4_a_level</th>\n",
       "      <th>secondary_cleaner.state.floatbank4_b_air</th>\n",
       "      <th>secondary_cleaner.state.floatbank4_b_level</th>\n",
       "      <th>secondary_cleaner.state.floatbank5_a_air</th>\n",
       "      <th>secondary_cleaner.state.floatbank5_a_level</th>\n",
       "      <th>secondary_cleaner.state.floatbank5_b_air</th>\n",
       "      <th>secondary_cleaner.state.floatbank5_b_level</th>\n",
       "      <th>secondary_cleaner.state.floatbank6_a_air</th>\n",
       "      <th>secondary_cleaner.state.floatbank6_a_level</th>\n",
       "    </tr>\n",
       "  </thead>\n",
       "  <tbody>\n",
       "    <tr>\n",
       "      <td>0</td>\n",
       "      <td>-0.177006</td>\n",
       "      <td>0.374727</td>\n",
       "      <td>-0.12841</td>\n",
       "      <td>0.283276</td>\n",
       "      <td>-0.446623</td>\n",
       "      <td>-0.299188</td>\n",
       "      <td>-0.428710</td>\n",
       "      <td>-0.810469</td>\n",
       "      <td>-0.433448</td>\n",
       "      <td>-0.276239</td>\n",
       "      <td>...</td>\n",
       "      <td>-1.050950</td>\n",
       "      <td>-0.476193</td>\n",
       "      <td>-0.642404</td>\n",
       "      <td>-0.759964</td>\n",
       "      <td>-1.178832</td>\n",
       "      <td>-0.384055</td>\n",
       "      <td>-0.864248</td>\n",
       "      <td>-0.430515</td>\n",
       "      <td>-0.960772</td>\n",
       "      <td>-2.679974</td>\n",
       "    </tr>\n",
       "    <tr>\n",
       "      <td>1</td>\n",
       "      <td>-0.214751</td>\n",
       "      <td>0.424821</td>\n",
       "      <td>-0.12841</td>\n",
       "      <td>0.320290</td>\n",
       "      <td>-0.241348</td>\n",
       "      <td>-0.355807</td>\n",
       "      <td>-0.241935</td>\n",
       "      <td>-0.321579</td>\n",
       "      <td>-0.239037</td>\n",
       "      <td>-0.295000</td>\n",
       "      <td>...</td>\n",
       "      <td>-1.055287</td>\n",
       "      <td>-0.535543</td>\n",
       "      <td>-0.670769</td>\n",
       "      <td>-0.702090</td>\n",
       "      <td>-1.159313</td>\n",
       "      <td>-0.432735</td>\n",
       "      <td>-0.880711</td>\n",
       "      <td>-0.433357</td>\n",
       "      <td>-0.987503</td>\n",
       "      <td>-2.516272</td>\n",
       "    </tr>\n",
       "    <tr>\n",
       "      <td>2</td>\n",
       "      <td>-0.261441</td>\n",
       "      <td>0.729047</td>\n",
       "      <td>-0.12841</td>\n",
       "      <td>0.289948</td>\n",
       "      <td>-0.043863</td>\n",
       "      <td>-0.330033</td>\n",
       "      <td>-0.055771</td>\n",
       "      <td>-0.343510</td>\n",
       "      <td>-0.045451</td>\n",
       "      <td>-0.339985</td>\n",
       "      <td>...</td>\n",
       "      <td>-1.051272</td>\n",
       "      <td>-0.476841</td>\n",
       "      <td>-0.677936</td>\n",
       "      <td>-0.698701</td>\n",
       "      <td>-1.153873</td>\n",
       "      <td>-0.431666</td>\n",
       "      <td>-0.875660</td>\n",
       "      <td>-0.431706</td>\n",
       "      <td>-0.982207</td>\n",
       "      <td>-2.560617</td>\n",
       "    </tr>\n",
       "    <tr>\n",
       "      <td>3</td>\n",
       "      <td>-0.301427</td>\n",
       "      <td>0.730795</td>\n",
       "      <td>-0.12841</td>\n",
       "      <td>0.304518</td>\n",
       "      <td>-0.056210</td>\n",
       "      <td>-0.357137</td>\n",
       "      <td>-0.053695</td>\n",
       "      <td>-0.315998</td>\n",
       "      <td>-0.058100</td>\n",
       "      <td>-0.335875</td>\n",
       "      <td>...</td>\n",
       "      <td>-1.047475</td>\n",
       "      <td>-0.444096</td>\n",
       "      <td>-0.661462</td>\n",
       "      <td>-0.699733</td>\n",
       "      <td>-1.171147</td>\n",
       "      <td>-0.407389</td>\n",
       "      <td>-0.882000</td>\n",
       "      <td>-0.425018</td>\n",
       "      <td>-0.986245</td>\n",
       "      <td>-2.521922</td>\n",
       "    </tr>\n",
       "    <tr>\n",
       "      <td>4</td>\n",
       "      <td>-0.411920</td>\n",
       "      <td>0.907204</td>\n",
       "      <td>-0.12841</td>\n",
       "      <td>0.339473</td>\n",
       "      <td>-0.045547</td>\n",
       "      <td>-0.300987</td>\n",
       "      <td>-0.047763</td>\n",
       "      <td>-0.335099</td>\n",
       "      <td>-0.063475</td>\n",
       "      <td>-0.340508</td>\n",
       "      <td>...</td>\n",
       "      <td>-1.049102</td>\n",
       "      <td>-0.424045</td>\n",
       "      <td>-0.670287</td>\n",
       "      <td>-0.697342</td>\n",
       "      <td>-1.178819</td>\n",
       "      <td>-0.472437</td>\n",
       "      <td>-0.896412</td>\n",
       "      <td>-0.427578</td>\n",
       "      <td>-0.987801</td>\n",
       "      <td>-2.562492</td>\n",
       "    </tr>\n",
       "  </tbody>\n",
       "</table>\n",
       "<p>5 rows × 52 columns</p>\n",
       "</div>"
      ],
      "text/plain": [
       "   primary_cleaner.input.sulfate  primary_cleaner.input.depressant  \\\n",
       "0                      -0.177006                          0.374727   \n",
       "1                      -0.214751                          0.424821   \n",
       "2                      -0.261441                          0.729047   \n",
       "3                      -0.301427                          0.730795   \n",
       "4                      -0.411920                          0.907204   \n",
       "\n",
       "   primary_cleaner.input.feed_size  primary_cleaner.input.xanthate  \\\n",
       "0                         -0.12841                        0.283276   \n",
       "1                         -0.12841                        0.320290   \n",
       "2                         -0.12841                        0.289948   \n",
       "3                         -0.12841                        0.304518   \n",
       "4                         -0.12841                        0.339473   \n",
       "\n",
       "   primary_cleaner.state.floatbank8_a_air  \\\n",
       "0                               -0.446623   \n",
       "1                               -0.241348   \n",
       "2                               -0.043863   \n",
       "3                               -0.056210   \n",
       "4                               -0.045547   \n",
       "\n",
       "   primary_cleaner.state.floatbank8_a_level  \\\n",
       "0                                 -0.299188   \n",
       "1                                 -0.355807   \n",
       "2                                 -0.330033   \n",
       "3                                 -0.357137   \n",
       "4                                 -0.300987   \n",
       "\n",
       "   primary_cleaner.state.floatbank8_b_air  \\\n",
       "0                               -0.428710   \n",
       "1                               -0.241935   \n",
       "2                               -0.055771   \n",
       "3                               -0.053695   \n",
       "4                               -0.047763   \n",
       "\n",
       "   primary_cleaner.state.floatbank8_b_level  \\\n",
       "0                                 -0.810469   \n",
       "1                                 -0.321579   \n",
       "2                                 -0.343510   \n",
       "3                                 -0.315998   \n",
       "4                                 -0.335099   \n",
       "\n",
       "   primary_cleaner.state.floatbank8_c_air  \\\n",
       "0                               -0.433448   \n",
       "1                               -0.239037   \n",
       "2                               -0.045451   \n",
       "3                               -0.058100   \n",
       "4                               -0.063475   \n",
       "\n",
       "   primary_cleaner.state.floatbank8_c_level  ...  \\\n",
       "0                                 -0.276239  ...   \n",
       "1                                 -0.295000  ...   \n",
       "2                                 -0.339985  ...   \n",
       "3                                 -0.335875  ...   \n",
       "4                                 -0.340508  ...   \n",
       "\n",
       "   secondary_cleaner.state.floatbank4_a_air  \\\n",
       "0                                 -1.050950   \n",
       "1                                 -1.055287   \n",
       "2                                 -1.051272   \n",
       "3                                 -1.047475   \n",
       "4                                 -1.049102   \n",
       "\n",
       "   secondary_cleaner.state.floatbank4_a_level  \\\n",
       "0                                   -0.476193   \n",
       "1                                   -0.535543   \n",
       "2                                   -0.476841   \n",
       "3                                   -0.444096   \n",
       "4                                   -0.424045   \n",
       "\n",
       "   secondary_cleaner.state.floatbank4_b_air  \\\n",
       "0                                 -0.642404   \n",
       "1                                 -0.670769   \n",
       "2                                 -0.677936   \n",
       "3                                 -0.661462   \n",
       "4                                 -0.670287   \n",
       "\n",
       "   secondary_cleaner.state.floatbank4_b_level  \\\n",
       "0                                   -0.759964   \n",
       "1                                   -0.702090   \n",
       "2                                   -0.698701   \n",
       "3                                   -0.699733   \n",
       "4                                   -0.697342   \n",
       "\n",
       "   secondary_cleaner.state.floatbank5_a_air  \\\n",
       "0                                 -1.178832   \n",
       "1                                 -1.159313   \n",
       "2                                 -1.153873   \n",
       "3                                 -1.171147   \n",
       "4                                 -1.178819   \n",
       "\n",
       "   secondary_cleaner.state.floatbank5_a_level  \\\n",
       "0                                   -0.384055   \n",
       "1                                   -0.432735   \n",
       "2                                   -0.431666   \n",
       "3                                   -0.407389   \n",
       "4                                   -0.472437   \n",
       "\n",
       "   secondary_cleaner.state.floatbank5_b_air  \\\n",
       "0                                 -0.864248   \n",
       "1                                 -0.880711   \n",
       "2                                 -0.875660   \n",
       "3                                 -0.882000   \n",
       "4                                 -0.896412   \n",
       "\n",
       "   secondary_cleaner.state.floatbank5_b_level  \\\n",
       "0                                   -0.430515   \n",
       "1                                   -0.433357   \n",
       "2                                   -0.431706   \n",
       "3                                   -0.425018   \n",
       "4                                   -0.427578   \n",
       "\n",
       "   secondary_cleaner.state.floatbank6_a_air  \\\n",
       "0                                 -0.960772   \n",
       "1                                 -0.987503   \n",
       "2                                 -0.982207   \n",
       "3                                 -0.986245   \n",
       "4                                 -0.987801   \n",
       "\n",
       "   secondary_cleaner.state.floatbank6_a_level  \n",
       "0                                   -2.679974  \n",
       "1                                   -2.516272  \n",
       "2                                   -2.560617  \n",
       "3                                   -2.521922  \n",
       "4                                   -2.562492  \n",
       "\n",
       "[5 rows x 52 columns]"
      ]
     },
     "execution_count": 35,
     "metadata": {},
     "output_type": "execute_result"
    }
   ],
   "source": [
    "features_train.head()"
   ]
  },
  {
   "cell_type": "markdown",
   "metadata": {},
   "source": [
    "Используем кросс-валидацию."
   ]
  },
  {
   "cell_type": "code",
   "execution_count": 36,
   "metadata": {},
   "outputs": [],
   "source": [
    "models = [DecisionTreeRegressor(random_state=RANDOM_STATE), \n",
    "          RandomForestRegressor(random_state=RANDOM_STATE), \n",
    "          LinearRegression()]"
   ]
  },
  {
   "cell_type": "code",
   "execution_count": 37,
   "metadata": {},
   "outputs": [
    {
     "data": {
      "text/html": [
       "<div>\n",
       "<style scoped>\n",
       "    .dataframe tbody tr th:only-of-type {\n",
       "        vertical-align: middle;\n",
       "    }\n",
       "\n",
       "    .dataframe tbody tr th {\n",
       "        vertical-align: top;\n",
       "    }\n",
       "\n",
       "    .dataframe thead th {\n",
       "        text-align: right;\n",
       "    }\n",
       "</style>\n",
       "<table border=\"1\" class=\"dataframe\">\n",
       "  <thead>\n",
       "    <tr style=\"text-align: right;\">\n",
       "      <th></th>\n",
       "      <th>model name</th>\n",
       "      <th>cross_val_score_rougher</th>\n",
       "      <th>cross_val_score_final</th>\n",
       "    </tr>\n",
       "  </thead>\n",
       "  <tbody>\n",
       "    <tr>\n",
       "      <td>0</td>\n",
       "      <td>DecisionTreeRegressor</td>\n",
       "      <td>-8.907935</td>\n",
       "      <td>-16.353157</td>\n",
       "    </tr>\n",
       "    <tr>\n",
       "      <td>1</td>\n",
       "      <td>RandomForestRegressor</td>\n",
       "      <td>-6.828489</td>\n",
       "      <td>-10.359698</td>\n",
       "    </tr>\n",
       "    <tr>\n",
       "      <td>2</td>\n",
       "      <td>LinearRegression</td>\n",
       "      <td>-7.282889</td>\n",
       "      <td>-11.027247</td>\n",
       "    </tr>\n",
       "  </tbody>\n",
       "</table>\n",
       "</div>"
      ],
      "text/plain": [
       "              model name  cross_val_score_rougher  cross_val_score_final\n",
       "0  DecisionTreeRegressor                -8.907935             -16.353157\n",
       "1  RandomForestRegressor                -6.828489             -10.359698\n",
       "2       LinearRegression                -7.282889             -11.027247"
      ]
     },
     "execution_count": 37,
     "metadata": {},
     "output_type": "execute_result"
    }
   ],
   "source": [
    "results_cross_val = []\n",
    "CV = 5\n",
    "\n",
    "for model in models: \n",
    "    \n",
    "    scorer = make_scorer(smape, greater_is_better=False) \n",
    "    \n",
    "    cross_val_score_rougher = cross_val_score(model, \n",
    "                                              features_train, \n",
    "                                              target_rougher_train, \n",
    "                                              cv=CV, scoring=scorer).mean()\n",
    "    cross_val_score_final = cross_val_score(model, \n",
    "                                            features_train, \n",
    "                                            target_final_train, \n",
    "                                            cv=CV, scoring=scorer).mean()\n",
    "\n",
    "    results_cross_val.append({'model name': model.__class__.__name__, \n",
    "                              'cross_val_score_rougher': cross_val_score_rougher, \n",
    "                              'cross_val_score_final': cross_val_score_final}) \n",
    "              \n",
    "pd.DataFrame(results_cross_val)"
   ]
  },
  {
   "cell_type": "code",
   "execution_count": 38,
   "metadata": {},
   "outputs": [
    {
     "name": "stdout",
     "output_type": "stream",
     "text": [
      "CPU times: user 40min 4s, sys: 1.38 s, total: 40min 5s\n",
      "Wall time: 40min 38s\n"
     ]
    },
    {
     "data": {
      "text/html": [
       "<style  type=\"text/css\" >\n",
       "    #T_2d208468_672b_11eb_a70d_02420a397818row39_col2 {\n",
       "            background-color:  lightgreen;\n",
       "        }</style><table id=\"T_2d208468_672b_11eb_a70d_02420a397818\" ><thead>    <tr>        <th class=\"blank level0\" ></th>        <th class=\"col_heading level0 col0\" >model name</th>        <th class=\"col_heading level0 col1\" >Hyperparameters</th>        <th class=\"col_heading level0 col2\" >smape_final_result</th>    </tr></thead><tbody>\n",
       "                <tr>\n",
       "                        <th id=\"T_2d208468_672b_11eb_a70d_02420a397818level0_row0\" class=\"row_heading level0 row0\" >0</th>\n",
       "                        <td id=\"T_2d208468_672b_11eb_a70d_02420a397818row0_col0\" class=\"data row0 col0\" >RandomForestRegressor</td>\n",
       "                        <td id=\"T_2d208468_672b_11eb_a70d_02420a397818row0_col1\" class=\"data row0 col1\" >{'random_state': 12345, 'n_estimators': 10, 'max_depth': 1}</td>\n",
       "                        <td id=\"T_2d208468_672b_11eb_a70d_02420a397818row0_col2\" class=\"data row0 col2\" >-8.98955</td>\n",
       "            </tr>\n",
       "            <tr>\n",
       "                        <th id=\"T_2d208468_672b_11eb_a70d_02420a397818level0_row1\" class=\"row_heading level0 row1\" >1</th>\n",
       "                        <td id=\"T_2d208468_672b_11eb_a70d_02420a397818row1_col0\" class=\"data row1 col0\" >RandomForestRegressor</td>\n",
       "                        <td id=\"T_2d208468_672b_11eb_a70d_02420a397818row1_col1\" class=\"data row1 col1\" >{'random_state': 12345, 'n_estimators': 20, 'max_depth': 1}</td>\n",
       "                        <td id=\"T_2d208468_672b_11eb_a70d_02420a397818row1_col2\" class=\"data row1 col2\" >-8.99733</td>\n",
       "            </tr>\n",
       "            <tr>\n",
       "                        <th id=\"T_2d208468_672b_11eb_a70d_02420a397818level0_row2\" class=\"row_heading level0 row2\" >2</th>\n",
       "                        <td id=\"T_2d208468_672b_11eb_a70d_02420a397818row2_col0\" class=\"data row2 col0\" >RandomForestRegressor</td>\n",
       "                        <td id=\"T_2d208468_672b_11eb_a70d_02420a397818row2_col1\" class=\"data row2 col1\" >{'random_state': 12345, 'n_estimators': 30, 'max_depth': 1}</td>\n",
       "                        <td id=\"T_2d208468_672b_11eb_a70d_02420a397818row2_col2\" class=\"data row2 col2\" >-9.01101</td>\n",
       "            </tr>\n",
       "            <tr>\n",
       "                        <th id=\"T_2d208468_672b_11eb_a70d_02420a397818level0_row3\" class=\"row_heading level0 row3\" >3</th>\n",
       "                        <td id=\"T_2d208468_672b_11eb_a70d_02420a397818row3_col0\" class=\"data row3 col0\" >RandomForestRegressor</td>\n",
       "                        <td id=\"T_2d208468_672b_11eb_a70d_02420a397818row3_col1\" class=\"data row3 col1\" >{'random_state': 12345, 'n_estimators': 40, 'max_depth': 1}</td>\n",
       "                        <td id=\"T_2d208468_672b_11eb_a70d_02420a397818row3_col2\" class=\"data row3 col2\" >-9.02908</td>\n",
       "            </tr>\n",
       "            <tr>\n",
       "                        <th id=\"T_2d208468_672b_11eb_a70d_02420a397818level0_row4\" class=\"row_heading level0 row4\" >4</th>\n",
       "                        <td id=\"T_2d208468_672b_11eb_a70d_02420a397818row4_col0\" class=\"data row4 col0\" >RandomForestRegressor</td>\n",
       "                        <td id=\"T_2d208468_672b_11eb_a70d_02420a397818row4_col1\" class=\"data row4 col1\" >{'random_state': 12345, 'n_estimators': 50, 'max_depth': 1}</td>\n",
       "                        <td id=\"T_2d208468_672b_11eb_a70d_02420a397818row4_col2\" class=\"data row4 col2\" >-9.02787</td>\n",
       "            </tr>\n",
       "            <tr>\n",
       "                        <th id=\"T_2d208468_672b_11eb_a70d_02420a397818level0_row5\" class=\"row_heading level0 row5\" >5</th>\n",
       "                        <td id=\"T_2d208468_672b_11eb_a70d_02420a397818row5_col0\" class=\"data row5 col0\" >RandomForestRegressor</td>\n",
       "                        <td id=\"T_2d208468_672b_11eb_a70d_02420a397818row5_col1\" class=\"data row5 col1\" >{'random_state': 12345, 'n_estimators': 60, 'max_depth': 1}</td>\n",
       "                        <td id=\"T_2d208468_672b_11eb_a70d_02420a397818row5_col2\" class=\"data row5 col2\" >-9.0292</td>\n",
       "            </tr>\n",
       "            <tr>\n",
       "                        <th id=\"T_2d208468_672b_11eb_a70d_02420a397818level0_row6\" class=\"row_heading level0 row6\" >6</th>\n",
       "                        <td id=\"T_2d208468_672b_11eb_a70d_02420a397818row6_col0\" class=\"data row6 col0\" >RandomForestRegressor</td>\n",
       "                        <td id=\"T_2d208468_672b_11eb_a70d_02420a397818row6_col1\" class=\"data row6 col1\" >{'random_state': 12345, 'n_estimators': 70, 'max_depth': 1}</td>\n",
       "                        <td id=\"T_2d208468_672b_11eb_a70d_02420a397818row6_col2\" class=\"data row6 col2\" >-9.02188</td>\n",
       "            </tr>\n",
       "            <tr>\n",
       "                        <th id=\"T_2d208468_672b_11eb_a70d_02420a397818level0_row7\" class=\"row_heading level0 row7\" >7</th>\n",
       "                        <td id=\"T_2d208468_672b_11eb_a70d_02420a397818row7_col0\" class=\"data row7 col0\" >RandomForestRegressor</td>\n",
       "                        <td id=\"T_2d208468_672b_11eb_a70d_02420a397818row7_col1\" class=\"data row7 col1\" >{'random_state': 12345, 'n_estimators': 80, 'max_depth': 1}</td>\n",
       "                        <td id=\"T_2d208468_672b_11eb_a70d_02420a397818row7_col2\" class=\"data row7 col2\" >-9.01853</td>\n",
       "            </tr>\n",
       "            <tr>\n",
       "                        <th id=\"T_2d208468_672b_11eb_a70d_02420a397818level0_row8\" class=\"row_heading level0 row8\" >8</th>\n",
       "                        <td id=\"T_2d208468_672b_11eb_a70d_02420a397818row8_col0\" class=\"data row8 col0\" >RandomForestRegressor</td>\n",
       "                        <td id=\"T_2d208468_672b_11eb_a70d_02420a397818row8_col1\" class=\"data row8 col1\" >{'random_state': 12345, 'n_estimators': 10, 'max_depth': 2}</td>\n",
       "                        <td id=\"T_2d208468_672b_11eb_a70d_02420a397818row8_col2\" class=\"data row8 col2\" >-8.63246</td>\n",
       "            </tr>\n",
       "            <tr>\n",
       "                        <th id=\"T_2d208468_672b_11eb_a70d_02420a397818level0_row9\" class=\"row_heading level0 row9\" >9</th>\n",
       "                        <td id=\"T_2d208468_672b_11eb_a70d_02420a397818row9_col0\" class=\"data row9 col0\" >RandomForestRegressor</td>\n",
       "                        <td id=\"T_2d208468_672b_11eb_a70d_02420a397818row9_col1\" class=\"data row9 col1\" >{'random_state': 12345, 'n_estimators': 20, 'max_depth': 2}</td>\n",
       "                        <td id=\"T_2d208468_672b_11eb_a70d_02420a397818row9_col2\" class=\"data row9 col2\" >-8.5806</td>\n",
       "            </tr>\n",
       "            <tr>\n",
       "                        <th id=\"T_2d208468_672b_11eb_a70d_02420a397818level0_row10\" class=\"row_heading level0 row10\" >10</th>\n",
       "                        <td id=\"T_2d208468_672b_11eb_a70d_02420a397818row10_col0\" class=\"data row10 col0\" >RandomForestRegressor</td>\n",
       "                        <td id=\"T_2d208468_672b_11eb_a70d_02420a397818row10_col1\" class=\"data row10 col1\" >{'random_state': 12345, 'n_estimators': 30, 'max_depth': 2}</td>\n",
       "                        <td id=\"T_2d208468_672b_11eb_a70d_02420a397818row10_col2\" class=\"data row10 col2\" >-8.5837</td>\n",
       "            </tr>\n",
       "            <tr>\n",
       "                        <th id=\"T_2d208468_672b_11eb_a70d_02420a397818level0_row11\" class=\"row_heading level0 row11\" >11</th>\n",
       "                        <td id=\"T_2d208468_672b_11eb_a70d_02420a397818row11_col0\" class=\"data row11 col0\" >RandomForestRegressor</td>\n",
       "                        <td id=\"T_2d208468_672b_11eb_a70d_02420a397818row11_col1\" class=\"data row11 col1\" >{'random_state': 12345, 'n_estimators': 40, 'max_depth': 2}</td>\n",
       "                        <td id=\"T_2d208468_672b_11eb_a70d_02420a397818row11_col2\" class=\"data row11 col2\" >-8.59379</td>\n",
       "            </tr>\n",
       "            <tr>\n",
       "                        <th id=\"T_2d208468_672b_11eb_a70d_02420a397818level0_row12\" class=\"row_heading level0 row12\" >12</th>\n",
       "                        <td id=\"T_2d208468_672b_11eb_a70d_02420a397818row12_col0\" class=\"data row12 col0\" >RandomForestRegressor</td>\n",
       "                        <td id=\"T_2d208468_672b_11eb_a70d_02420a397818row12_col1\" class=\"data row12 col1\" >{'random_state': 12345, 'n_estimators': 50, 'max_depth': 2}</td>\n",
       "                        <td id=\"T_2d208468_672b_11eb_a70d_02420a397818row12_col2\" class=\"data row12 col2\" >-8.59218</td>\n",
       "            </tr>\n",
       "            <tr>\n",
       "                        <th id=\"T_2d208468_672b_11eb_a70d_02420a397818level0_row13\" class=\"row_heading level0 row13\" >13</th>\n",
       "                        <td id=\"T_2d208468_672b_11eb_a70d_02420a397818row13_col0\" class=\"data row13 col0\" >RandomForestRegressor</td>\n",
       "                        <td id=\"T_2d208468_672b_11eb_a70d_02420a397818row13_col1\" class=\"data row13 col1\" >{'random_state': 12345, 'n_estimators': 60, 'max_depth': 2}</td>\n",
       "                        <td id=\"T_2d208468_672b_11eb_a70d_02420a397818row13_col2\" class=\"data row13 col2\" >-8.58655</td>\n",
       "            </tr>\n",
       "            <tr>\n",
       "                        <th id=\"T_2d208468_672b_11eb_a70d_02420a397818level0_row14\" class=\"row_heading level0 row14\" >14</th>\n",
       "                        <td id=\"T_2d208468_672b_11eb_a70d_02420a397818row14_col0\" class=\"data row14 col0\" >RandomForestRegressor</td>\n",
       "                        <td id=\"T_2d208468_672b_11eb_a70d_02420a397818row14_col1\" class=\"data row14 col1\" >{'random_state': 12345, 'n_estimators': 70, 'max_depth': 2}</td>\n",
       "                        <td id=\"T_2d208468_672b_11eb_a70d_02420a397818row14_col2\" class=\"data row14 col2\" >-8.58199</td>\n",
       "            </tr>\n",
       "            <tr>\n",
       "                        <th id=\"T_2d208468_672b_11eb_a70d_02420a397818level0_row15\" class=\"row_heading level0 row15\" >15</th>\n",
       "                        <td id=\"T_2d208468_672b_11eb_a70d_02420a397818row15_col0\" class=\"data row15 col0\" >RandomForestRegressor</td>\n",
       "                        <td id=\"T_2d208468_672b_11eb_a70d_02420a397818row15_col1\" class=\"data row15 col1\" >{'random_state': 12345, 'n_estimators': 80, 'max_depth': 2}</td>\n",
       "                        <td id=\"T_2d208468_672b_11eb_a70d_02420a397818row15_col2\" class=\"data row15 col2\" >-8.57474</td>\n",
       "            </tr>\n",
       "            <tr>\n",
       "                        <th id=\"T_2d208468_672b_11eb_a70d_02420a397818level0_row16\" class=\"row_heading level0 row16\" >16</th>\n",
       "                        <td id=\"T_2d208468_672b_11eb_a70d_02420a397818row16_col0\" class=\"data row16 col0\" >RandomForestRegressor</td>\n",
       "                        <td id=\"T_2d208468_672b_11eb_a70d_02420a397818row16_col1\" class=\"data row16 col1\" >{'random_state': 12345, 'n_estimators': 10, 'max_depth': 3}</td>\n",
       "                        <td id=\"T_2d208468_672b_11eb_a70d_02420a397818row16_col2\" class=\"data row16 col2\" >-8.50938</td>\n",
       "            </tr>\n",
       "            <tr>\n",
       "                        <th id=\"T_2d208468_672b_11eb_a70d_02420a397818level0_row17\" class=\"row_heading level0 row17\" >17</th>\n",
       "                        <td id=\"T_2d208468_672b_11eb_a70d_02420a397818row17_col0\" class=\"data row17 col0\" >RandomForestRegressor</td>\n",
       "                        <td id=\"T_2d208468_672b_11eb_a70d_02420a397818row17_col1\" class=\"data row17 col1\" >{'random_state': 12345, 'n_estimators': 20, 'max_depth': 3}</td>\n",
       "                        <td id=\"T_2d208468_672b_11eb_a70d_02420a397818row17_col2\" class=\"data row17 col2\" >-8.42137</td>\n",
       "            </tr>\n",
       "            <tr>\n",
       "                        <th id=\"T_2d208468_672b_11eb_a70d_02420a397818level0_row18\" class=\"row_heading level0 row18\" >18</th>\n",
       "                        <td id=\"T_2d208468_672b_11eb_a70d_02420a397818row18_col0\" class=\"data row18 col0\" >RandomForestRegressor</td>\n",
       "                        <td id=\"T_2d208468_672b_11eb_a70d_02420a397818row18_col1\" class=\"data row18 col1\" >{'random_state': 12345, 'n_estimators': 30, 'max_depth': 3}</td>\n",
       "                        <td id=\"T_2d208468_672b_11eb_a70d_02420a397818row18_col2\" class=\"data row18 col2\" >-8.43444</td>\n",
       "            </tr>\n",
       "            <tr>\n",
       "                        <th id=\"T_2d208468_672b_11eb_a70d_02420a397818level0_row19\" class=\"row_heading level0 row19\" >19</th>\n",
       "                        <td id=\"T_2d208468_672b_11eb_a70d_02420a397818row19_col0\" class=\"data row19 col0\" >RandomForestRegressor</td>\n",
       "                        <td id=\"T_2d208468_672b_11eb_a70d_02420a397818row19_col1\" class=\"data row19 col1\" >{'random_state': 12345, 'n_estimators': 40, 'max_depth': 3}</td>\n",
       "                        <td id=\"T_2d208468_672b_11eb_a70d_02420a397818row19_col2\" class=\"data row19 col2\" >-8.43761</td>\n",
       "            </tr>\n",
       "            <tr>\n",
       "                        <th id=\"T_2d208468_672b_11eb_a70d_02420a397818level0_row20\" class=\"row_heading level0 row20\" >20</th>\n",
       "                        <td id=\"T_2d208468_672b_11eb_a70d_02420a397818row20_col0\" class=\"data row20 col0\" >RandomForestRegressor</td>\n",
       "                        <td id=\"T_2d208468_672b_11eb_a70d_02420a397818row20_col1\" class=\"data row20 col1\" >{'random_state': 12345, 'n_estimators': 50, 'max_depth': 3}</td>\n",
       "                        <td id=\"T_2d208468_672b_11eb_a70d_02420a397818row20_col2\" class=\"data row20 col2\" >-8.43169</td>\n",
       "            </tr>\n",
       "            <tr>\n",
       "                        <th id=\"T_2d208468_672b_11eb_a70d_02420a397818level0_row21\" class=\"row_heading level0 row21\" >21</th>\n",
       "                        <td id=\"T_2d208468_672b_11eb_a70d_02420a397818row21_col0\" class=\"data row21 col0\" >RandomForestRegressor</td>\n",
       "                        <td id=\"T_2d208468_672b_11eb_a70d_02420a397818row21_col1\" class=\"data row21 col1\" >{'random_state': 12345, 'n_estimators': 60, 'max_depth': 3}</td>\n",
       "                        <td id=\"T_2d208468_672b_11eb_a70d_02420a397818row21_col2\" class=\"data row21 col2\" >-8.43122</td>\n",
       "            </tr>\n",
       "            <tr>\n",
       "                        <th id=\"T_2d208468_672b_11eb_a70d_02420a397818level0_row22\" class=\"row_heading level0 row22\" >22</th>\n",
       "                        <td id=\"T_2d208468_672b_11eb_a70d_02420a397818row22_col0\" class=\"data row22 col0\" >RandomForestRegressor</td>\n",
       "                        <td id=\"T_2d208468_672b_11eb_a70d_02420a397818row22_col1\" class=\"data row22 col1\" >{'random_state': 12345, 'n_estimators': 70, 'max_depth': 3}</td>\n",
       "                        <td id=\"T_2d208468_672b_11eb_a70d_02420a397818row22_col2\" class=\"data row22 col2\" >-8.42315</td>\n",
       "            </tr>\n",
       "            <tr>\n",
       "                        <th id=\"T_2d208468_672b_11eb_a70d_02420a397818level0_row23\" class=\"row_heading level0 row23\" >23</th>\n",
       "                        <td id=\"T_2d208468_672b_11eb_a70d_02420a397818row23_col0\" class=\"data row23 col0\" >RandomForestRegressor</td>\n",
       "                        <td id=\"T_2d208468_672b_11eb_a70d_02420a397818row23_col1\" class=\"data row23 col1\" >{'random_state': 12345, 'n_estimators': 80, 'max_depth': 3}</td>\n",
       "                        <td id=\"T_2d208468_672b_11eb_a70d_02420a397818row23_col2\" class=\"data row23 col2\" >-8.41091</td>\n",
       "            </tr>\n",
       "            <tr>\n",
       "                        <th id=\"T_2d208468_672b_11eb_a70d_02420a397818level0_row24\" class=\"row_heading level0 row24\" >24</th>\n",
       "                        <td id=\"T_2d208468_672b_11eb_a70d_02420a397818row24_col0\" class=\"data row24 col0\" >RandomForestRegressor</td>\n",
       "                        <td id=\"T_2d208468_672b_11eb_a70d_02420a397818row24_col1\" class=\"data row24 col1\" >{'random_state': 12345, 'n_estimators': 10, 'max_depth': 4}</td>\n",
       "                        <td id=\"T_2d208468_672b_11eb_a70d_02420a397818row24_col2\" class=\"data row24 col2\" >-8.45661</td>\n",
       "            </tr>\n",
       "            <tr>\n",
       "                        <th id=\"T_2d208468_672b_11eb_a70d_02420a397818level0_row25\" class=\"row_heading level0 row25\" >25</th>\n",
       "                        <td id=\"T_2d208468_672b_11eb_a70d_02420a397818row25_col0\" class=\"data row25 col0\" >RandomForestRegressor</td>\n",
       "                        <td id=\"T_2d208468_672b_11eb_a70d_02420a397818row25_col1\" class=\"data row25 col1\" >{'random_state': 12345, 'n_estimators': 20, 'max_depth': 4}</td>\n",
       "                        <td id=\"T_2d208468_672b_11eb_a70d_02420a397818row25_col2\" class=\"data row25 col2\" >-8.367</td>\n",
       "            </tr>\n",
       "            <tr>\n",
       "                        <th id=\"T_2d208468_672b_11eb_a70d_02420a397818level0_row26\" class=\"row_heading level0 row26\" >26</th>\n",
       "                        <td id=\"T_2d208468_672b_11eb_a70d_02420a397818row26_col0\" class=\"data row26 col0\" >RandomForestRegressor</td>\n",
       "                        <td id=\"T_2d208468_672b_11eb_a70d_02420a397818row26_col1\" class=\"data row26 col1\" >{'random_state': 12345, 'n_estimators': 30, 'max_depth': 4}</td>\n",
       "                        <td id=\"T_2d208468_672b_11eb_a70d_02420a397818row26_col2\" class=\"data row26 col2\" >-8.38789</td>\n",
       "            </tr>\n",
       "            <tr>\n",
       "                        <th id=\"T_2d208468_672b_11eb_a70d_02420a397818level0_row27\" class=\"row_heading level0 row27\" >27</th>\n",
       "                        <td id=\"T_2d208468_672b_11eb_a70d_02420a397818row27_col0\" class=\"data row27 col0\" >RandomForestRegressor</td>\n",
       "                        <td id=\"T_2d208468_672b_11eb_a70d_02420a397818row27_col1\" class=\"data row27 col1\" >{'random_state': 12345, 'n_estimators': 40, 'max_depth': 4}</td>\n",
       "                        <td id=\"T_2d208468_672b_11eb_a70d_02420a397818row27_col2\" class=\"data row27 col2\" >-8.38312</td>\n",
       "            </tr>\n",
       "            <tr>\n",
       "                        <th id=\"T_2d208468_672b_11eb_a70d_02420a397818level0_row28\" class=\"row_heading level0 row28\" >28</th>\n",
       "                        <td id=\"T_2d208468_672b_11eb_a70d_02420a397818row28_col0\" class=\"data row28 col0\" >RandomForestRegressor</td>\n",
       "                        <td id=\"T_2d208468_672b_11eb_a70d_02420a397818row28_col1\" class=\"data row28 col1\" >{'random_state': 12345, 'n_estimators': 50, 'max_depth': 4}</td>\n",
       "                        <td id=\"T_2d208468_672b_11eb_a70d_02420a397818row28_col2\" class=\"data row28 col2\" >-8.3643</td>\n",
       "            </tr>\n",
       "            <tr>\n",
       "                        <th id=\"T_2d208468_672b_11eb_a70d_02420a397818level0_row29\" class=\"row_heading level0 row29\" >29</th>\n",
       "                        <td id=\"T_2d208468_672b_11eb_a70d_02420a397818row29_col0\" class=\"data row29 col0\" >RandomForestRegressor</td>\n",
       "                        <td id=\"T_2d208468_672b_11eb_a70d_02420a397818row29_col1\" class=\"data row29 col1\" >{'random_state': 12345, 'n_estimators': 60, 'max_depth': 4}</td>\n",
       "                        <td id=\"T_2d208468_672b_11eb_a70d_02420a397818row29_col2\" class=\"data row29 col2\" >-8.35379</td>\n",
       "            </tr>\n",
       "            <tr>\n",
       "                        <th id=\"T_2d208468_672b_11eb_a70d_02420a397818level0_row30\" class=\"row_heading level0 row30\" >30</th>\n",
       "                        <td id=\"T_2d208468_672b_11eb_a70d_02420a397818row30_col0\" class=\"data row30 col0\" >RandomForestRegressor</td>\n",
       "                        <td id=\"T_2d208468_672b_11eb_a70d_02420a397818row30_col1\" class=\"data row30 col1\" >{'random_state': 12345, 'n_estimators': 70, 'max_depth': 4}</td>\n",
       "                        <td id=\"T_2d208468_672b_11eb_a70d_02420a397818row30_col2\" class=\"data row30 col2\" >-8.36027</td>\n",
       "            </tr>\n",
       "            <tr>\n",
       "                        <th id=\"T_2d208468_672b_11eb_a70d_02420a397818level0_row31\" class=\"row_heading level0 row31\" >31</th>\n",
       "                        <td id=\"T_2d208468_672b_11eb_a70d_02420a397818row31_col0\" class=\"data row31 col0\" >RandomForestRegressor</td>\n",
       "                        <td id=\"T_2d208468_672b_11eb_a70d_02420a397818row31_col1\" class=\"data row31 col1\" >{'random_state': 12345, 'n_estimators': 80, 'max_depth': 4}</td>\n",
       "                        <td id=\"T_2d208468_672b_11eb_a70d_02420a397818row31_col2\" class=\"data row31 col2\" >-8.36014</td>\n",
       "            </tr>\n",
       "            <tr>\n",
       "                        <th id=\"T_2d208468_672b_11eb_a70d_02420a397818level0_row32\" class=\"row_heading level0 row32\" >32</th>\n",
       "                        <td id=\"T_2d208468_672b_11eb_a70d_02420a397818row32_col0\" class=\"data row32 col0\" >RandomForestRegressor</td>\n",
       "                        <td id=\"T_2d208468_672b_11eb_a70d_02420a397818row32_col1\" class=\"data row32 col1\" >{'random_state': 12345, 'n_estimators': 10, 'max_depth': 5}</td>\n",
       "                        <td id=\"T_2d208468_672b_11eb_a70d_02420a397818row32_col2\" class=\"data row32 col2\" >-8.62012</td>\n",
       "            </tr>\n",
       "            <tr>\n",
       "                        <th id=\"T_2d208468_672b_11eb_a70d_02420a397818level0_row33\" class=\"row_heading level0 row33\" >33</th>\n",
       "                        <td id=\"T_2d208468_672b_11eb_a70d_02420a397818row33_col0\" class=\"data row33 col0\" >RandomForestRegressor</td>\n",
       "                        <td id=\"T_2d208468_672b_11eb_a70d_02420a397818row33_col1\" class=\"data row33 col1\" >{'random_state': 12345, 'n_estimators': 20, 'max_depth': 5}</td>\n",
       "                        <td id=\"T_2d208468_672b_11eb_a70d_02420a397818row33_col2\" class=\"data row33 col2\" >-8.45439</td>\n",
       "            </tr>\n",
       "            <tr>\n",
       "                        <th id=\"T_2d208468_672b_11eb_a70d_02420a397818level0_row34\" class=\"row_heading level0 row34\" >34</th>\n",
       "                        <td id=\"T_2d208468_672b_11eb_a70d_02420a397818row34_col0\" class=\"data row34 col0\" >RandomForestRegressor</td>\n",
       "                        <td id=\"T_2d208468_672b_11eb_a70d_02420a397818row34_col1\" class=\"data row34 col1\" >{'random_state': 12345, 'n_estimators': 30, 'max_depth': 5}</td>\n",
       "                        <td id=\"T_2d208468_672b_11eb_a70d_02420a397818row34_col2\" class=\"data row34 col2\" >-8.40483</td>\n",
       "            </tr>\n",
       "            <tr>\n",
       "                        <th id=\"T_2d208468_672b_11eb_a70d_02420a397818level0_row35\" class=\"row_heading level0 row35\" >35</th>\n",
       "                        <td id=\"T_2d208468_672b_11eb_a70d_02420a397818row35_col0\" class=\"data row35 col0\" >RandomForestRegressor</td>\n",
       "                        <td id=\"T_2d208468_672b_11eb_a70d_02420a397818row35_col1\" class=\"data row35 col1\" >{'random_state': 12345, 'n_estimators': 40, 'max_depth': 5}</td>\n",
       "                        <td id=\"T_2d208468_672b_11eb_a70d_02420a397818row35_col2\" class=\"data row35 col2\" >-8.37497</td>\n",
       "            </tr>\n",
       "            <tr>\n",
       "                        <th id=\"T_2d208468_672b_11eb_a70d_02420a397818level0_row36\" class=\"row_heading level0 row36\" >36</th>\n",
       "                        <td id=\"T_2d208468_672b_11eb_a70d_02420a397818row36_col0\" class=\"data row36 col0\" >RandomForestRegressor</td>\n",
       "                        <td id=\"T_2d208468_672b_11eb_a70d_02420a397818row36_col1\" class=\"data row36 col1\" >{'random_state': 12345, 'n_estimators': 50, 'max_depth': 5}</td>\n",
       "                        <td id=\"T_2d208468_672b_11eb_a70d_02420a397818row36_col2\" class=\"data row36 col2\" >-8.3361</td>\n",
       "            </tr>\n",
       "            <tr>\n",
       "                        <th id=\"T_2d208468_672b_11eb_a70d_02420a397818level0_row37\" class=\"row_heading level0 row37\" >37</th>\n",
       "                        <td id=\"T_2d208468_672b_11eb_a70d_02420a397818row37_col0\" class=\"data row37 col0\" >RandomForestRegressor</td>\n",
       "                        <td id=\"T_2d208468_672b_11eb_a70d_02420a397818row37_col1\" class=\"data row37 col1\" >{'random_state': 12345, 'n_estimators': 60, 'max_depth': 5}</td>\n",
       "                        <td id=\"T_2d208468_672b_11eb_a70d_02420a397818row37_col2\" class=\"data row37 col2\" >-8.32925</td>\n",
       "            </tr>\n",
       "            <tr>\n",
       "                        <th id=\"T_2d208468_672b_11eb_a70d_02420a397818level0_row38\" class=\"row_heading level0 row38\" >38</th>\n",
       "                        <td id=\"T_2d208468_672b_11eb_a70d_02420a397818row38_col0\" class=\"data row38 col0\" >RandomForestRegressor</td>\n",
       "                        <td id=\"T_2d208468_672b_11eb_a70d_02420a397818row38_col1\" class=\"data row38 col1\" >{'random_state': 12345, 'n_estimators': 70, 'max_depth': 5}</td>\n",
       "                        <td id=\"T_2d208468_672b_11eb_a70d_02420a397818row38_col2\" class=\"data row38 col2\" >-8.34537</td>\n",
       "            </tr>\n",
       "            <tr>\n",
       "                        <th id=\"T_2d208468_672b_11eb_a70d_02420a397818level0_row39\" class=\"row_heading level0 row39\" >39</th>\n",
       "                        <td id=\"T_2d208468_672b_11eb_a70d_02420a397818row39_col0\" class=\"data row39 col0\" >RandomForestRegressor</td>\n",
       "                        <td id=\"T_2d208468_672b_11eb_a70d_02420a397818row39_col1\" class=\"data row39 col1\" >{'random_state': 12345, 'n_estimators': 80, 'max_depth': 5}</td>\n",
       "                        <td id=\"T_2d208468_672b_11eb_a70d_02420a397818row39_col2\" class=\"data row39 col2\" >-8.32834</td>\n",
       "            </tr>\n",
       "    </tbody></table>"
      ],
      "text/plain": [
       "<pandas.io.formats.style.Styler at 0x7eff2d11b2d0>"
      ]
     },
     "execution_count": 38,
     "metadata": {},
     "output_type": "execute_result"
    }
   ],
   "source": [
    "%%time \n",
    "results = []\n",
    "\n",
    "for depth in range(1,6):\n",
    "    \n",
    "    for estimator in range(10, 81, 10):\n",
    "        \n",
    "        model = RandomForestRegressor(random_state=RANDOM_STATE, \n",
    "                                       n_estimators=estimator, \n",
    "                                       max_depth=depth)\n",
    "        \n",
    "        scorer = make_scorer(smape, greater_is_better=False) \n",
    "    \n",
    "        cross_val_score_rougher = cross_val_score(model, features_train, target_rougher_train, cv=CV, scoring=scorer).mean()\n",
    "        cross_val_score_final = cross_val_score(model, features_train, target_final_train, cv=CV, scoring=scorer).mean()\n",
    "\n",
    "        smape_final_result = smape_final(cross_val_score_rougher, cross_val_score_final)\n",
    "\n",
    "        results.append({'model name': model.__class__.__name__, \n",
    "                        'Hyperparameters': {'random_state': RANDOM_STATE, \n",
    "                                            'n_estimators': estimator, \n",
    "                                            'max_depth':depth}, \n",
    "                        'smape_final_result': smape_final_result})\n",
    "\n",
    "pd.DataFrame(results).style.highlight_max(color = 'lightgreen', axis = 0)"
   ]
  },
  {
   "cell_type": "markdown",
   "metadata": {},
   "source": [
    "# Проверка модели"
   ]
  },
  {
   "cell_type": "markdown",
   "metadata": {},
   "source": [
    "Проверим модель на тестовой выборке с гиперпараметрами n_estimators=80, max_depth=5."
   ]
  },
  {
   "cell_type": "code",
   "execution_count": 40,
   "metadata": {},
   "outputs": [
    {
     "name": "stdout",
     "output_type": "stream",
     "text": [
      "CPU times: user 52.5 s, sys: 12 ms, total: 52.6 s\n",
      "Wall time: 52.8 s\n"
     ]
    }
   ],
   "source": [
    "%%time\n",
    "model_final = RandomForestRegressor(random_state=RANDOM_STATE, n_estimators=80, max_depth=5)\n",
    "\n",
    "model_final.fit(features_train, target_rougher_train)\n",
    "predictions_r = model_final.predict(features_test)\n",
    "\n",
    "model_final.fit(features_train, target_final_train)\n",
    "predictions_f = model_final.predict(features_test)"
   ]
  },
  {
   "cell_type": "code",
   "execution_count": 41,
   "metadata": {},
   "outputs": [
    {
     "name": "stdout",
     "output_type": "stream",
     "text": [
      "Итоговое sMAPE: 7.234663072335244\n"
     ]
    }
   ],
   "source": [
    "smape_r = smape(target_rougher_test, predictions_r)\n",
    "smape_f = smape(target_final_test, predictions_f)\n",
    "\n",
    "print('Итоговое sMAPE:', smape_final(smape_r, smape_f))"
   ]
  },
  {
   "cell_type": "markdown",
   "metadata": {},
   "source": [
    "Проверка модели на адекватность с помощью DummyRegressor."
   ]
  },
  {
   "cell_type": "code",
   "execution_count": 42,
   "metadata": {},
   "outputs": [],
   "source": [
    "dummy_regr = DummyRegressor(strategy='mean')\n",
    "\n",
    "dummy_regr.fit(features_train, target_rougher_train)\n",
    "predictions_r_dummy = dummy_regr.predict(features_test)\n",
    "dummy_regr.fit(features_train, target_final_train)\n",
    "predictions_f_dummy = dummy_regr.predict(features_test)"
   ]
  },
  {
   "cell_type": "code",
   "execution_count": 43,
   "metadata": {},
   "outputs": [
    {
     "name": "stdout",
     "output_type": "stream",
     "text": [
      "Итоговое sMAPE 7.683769011978074\n"
     ]
    }
   ],
   "source": [
    "smape_r_dummy = smape(target_rougher_test, predictions_r_dummy)\n",
    "smape_f_dummy = smape(target_final_test, predictions_f_dummy)\n",
    "\n",
    "print('Итоговое sMAPE', smape_final(smape_r_dummy, smape_f_dummy))"
   ]
  },
  {
   "cell_type": "markdown",
   "metadata": {},
   "source": [
    "В итоге наша модель работает лучше простейшей модели, так как итоговое sMAPE на нашей модели ниже."
   ]
  }
 ],
 "metadata": {
  "kernelspec": {
   "display_name": "Python 3",
   "language": "python",
   "name": "python3"
  },
  "language_info": {
   "codemirror_mode": {
    "name": "ipython",
    "version": 3
   },
   "file_extension": ".py",
   "mimetype": "text/x-python",
   "name": "python",
   "nbconvert_exporter": "python",
   "pygments_lexer": "ipython3",
   "version": "3.7.8"
  },
  "toc": {
   "base_numbering": 1,
   "nav_menu": {},
   "number_sections": true,
   "sideBar": true,
   "skip_h1_title": false,
   "title_cell": "Table of Contents",
   "title_sidebar": "Contents",
   "toc_cell": false,
   "toc_position": {
    "height": "calc(100% - 180px)",
    "left": "10px",
    "top": "150px",
    "width": "230.391px"
   },
   "toc_section_display": true,
   "toc_window_display": false
  }
 },
 "nbformat": 4,
 "nbformat_minor": 2
}
