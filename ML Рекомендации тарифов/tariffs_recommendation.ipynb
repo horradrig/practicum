{
 "cells": [
  {
   "cell_type": "markdown",
   "metadata": {},
   "source": [
    "# Рекомендация тарифов"
   ]
  },
  {
   "cell_type": "markdown",
   "metadata": {},
   "source": [
    "В вашем распоряжении данные о поведении клиентов, которые уже перешли на эти тарифы (из проекта курса «Статистический анализ данных»). Нужно построить модель для задачи классификации, которая выберет подходящий тариф. Предобработка данных не понадобится — вы её уже сделали.\n",
    "\n",
    "Постройте модель с максимально большим значением *accuracy*. Чтобы сдать проект успешно, нужно довести долю правильных ответов по крайней мере до 0.75. Проверьте *accuracy* на тестовой выборке самостоятельно."
   ]
  },
  {
   "cell_type": "markdown",
   "metadata": {},
   "source": [
    "## Изучение файла <a name=\"1\"></a>"
   ]
  },
  {
   "cell_type": "code",
   "execution_count": 1,
   "metadata": {},
   "outputs": [],
   "source": [
    "import pandas as pd\n",
    "from sklearn.model_selection import train_test_split\n",
    "from sklearn.tree import DecisionTreeClassifier\n",
    "from sklearn.ensemble import RandomForestClassifier\n",
    "from sklearn.linear_model import LogisticRegression\n",
    "from sklearn.metrics import accuracy_score\n",
    "from sklearn.metrics import precision_score\n",
    "from sklearn.metrics import recall_score\n",
    "from sklearn.dummy import DummyClassifier\n",
    "import seaborn as sns\n",
    "import matplotlib.pyplot as plt"
   ]
  },
  {
   "cell_type": "code",
   "execution_count": 2,
   "metadata": {},
   "outputs": [
    {
     "name": "stdout",
     "output_type": "stream",
     "text": [
      "<class 'pandas.core.frame.DataFrame'>\n",
      "RangeIndex: 3214 entries, 0 to 3213\n",
      "Data columns (total 5 columns):\n",
      "calls       3214 non-null float64\n",
      "minutes     3214 non-null float64\n",
      "messages    3214 non-null float64\n",
      "mb_used     3214 non-null float64\n",
      "is_ultra    3214 non-null int64\n",
      "dtypes: float64(4), int64(1)\n",
      "memory usage: 125.7 KB\n"
     ]
    }
   ],
   "source": [
    "df = pd.read_csv('/datasets/users_behavior.csv')\n",
    "df.info()"
   ]
  },
  {
   "cell_type": "code",
   "execution_count": 3,
   "metadata": {},
   "outputs": [
    {
     "data": {
      "text/html": [
       "<div>\n",
       "<style scoped>\n",
       "    .dataframe tbody tr th:only-of-type {\n",
       "        vertical-align: middle;\n",
       "    }\n",
       "\n",
       "    .dataframe tbody tr th {\n",
       "        vertical-align: top;\n",
       "    }\n",
       "\n",
       "    .dataframe thead th {\n",
       "        text-align: right;\n",
       "    }\n",
       "</style>\n",
       "<table border=\"1\" class=\"dataframe\">\n",
       "  <thead>\n",
       "    <tr style=\"text-align: right;\">\n",
       "      <th></th>\n",
       "      <th>calls</th>\n",
       "      <th>minutes</th>\n",
       "      <th>messages</th>\n",
       "      <th>mb_used</th>\n",
       "      <th>is_ultra</th>\n",
       "    </tr>\n",
       "  </thead>\n",
       "  <tbody>\n",
       "    <tr>\n",
       "      <td>0</td>\n",
       "      <td>40.0</td>\n",
       "      <td>311.90</td>\n",
       "      <td>83.0</td>\n",
       "      <td>19915.42</td>\n",
       "      <td>0</td>\n",
       "    </tr>\n",
       "    <tr>\n",
       "      <td>1</td>\n",
       "      <td>85.0</td>\n",
       "      <td>516.75</td>\n",
       "      <td>56.0</td>\n",
       "      <td>22696.96</td>\n",
       "      <td>0</td>\n",
       "    </tr>\n",
       "    <tr>\n",
       "      <td>2</td>\n",
       "      <td>77.0</td>\n",
       "      <td>467.66</td>\n",
       "      <td>86.0</td>\n",
       "      <td>21060.45</td>\n",
       "      <td>0</td>\n",
       "    </tr>\n",
       "    <tr>\n",
       "      <td>3</td>\n",
       "      <td>106.0</td>\n",
       "      <td>745.53</td>\n",
       "      <td>81.0</td>\n",
       "      <td>8437.39</td>\n",
       "      <td>1</td>\n",
       "    </tr>\n",
       "    <tr>\n",
       "      <td>4</td>\n",
       "      <td>66.0</td>\n",
       "      <td>418.74</td>\n",
       "      <td>1.0</td>\n",
       "      <td>14502.75</td>\n",
       "      <td>0</td>\n",
       "    </tr>\n",
       "    <tr>\n",
       "      <td>5</td>\n",
       "      <td>58.0</td>\n",
       "      <td>344.56</td>\n",
       "      <td>21.0</td>\n",
       "      <td>15823.37</td>\n",
       "      <td>0</td>\n",
       "    </tr>\n",
       "    <tr>\n",
       "      <td>6</td>\n",
       "      <td>57.0</td>\n",
       "      <td>431.64</td>\n",
       "      <td>20.0</td>\n",
       "      <td>3738.90</td>\n",
       "      <td>1</td>\n",
       "    </tr>\n",
       "    <tr>\n",
       "      <td>7</td>\n",
       "      <td>15.0</td>\n",
       "      <td>132.40</td>\n",
       "      <td>6.0</td>\n",
       "      <td>21911.60</td>\n",
       "      <td>0</td>\n",
       "    </tr>\n",
       "  </tbody>\n",
       "</table>\n",
       "</div>"
      ],
      "text/plain": [
       "   calls  minutes  messages   mb_used  is_ultra\n",
       "0   40.0   311.90      83.0  19915.42         0\n",
       "1   85.0   516.75      56.0  22696.96         0\n",
       "2   77.0   467.66      86.0  21060.45         0\n",
       "3  106.0   745.53      81.0   8437.39         1\n",
       "4   66.0   418.74       1.0  14502.75         0\n",
       "5   58.0   344.56      21.0  15823.37         0\n",
       "6   57.0   431.64      20.0   3738.90         1\n",
       "7   15.0   132.40       6.0  21911.60         0"
      ]
     },
     "execution_count": 3,
     "metadata": {},
     "output_type": "execute_result"
    }
   ],
   "source": [
    "df.head(8)"
   ]
  },
  {
   "cell_type": "markdown",
   "metadata": {},
   "source": [
    "Все данные числовые. Последний столбец \"is_ultra\" - целевой признак, 1 - тариф Ультра, 0 - тариф Смарт. В остальных столбцах - признаки."
   ]
  },
  {
   "cell_type": "code",
   "execution_count": 4,
   "metadata": {},
   "outputs": [
    {
     "data": {
      "text/plain": [
       "0    0.693528\n",
       "1    0.306472\n",
       "Name: is_ultra, dtype: float64"
      ]
     },
     "execution_count": 4,
     "metadata": {},
     "output_type": "execute_result"
    }
   ],
   "source": [
    "df['is_ultra'].value_counts(normalize=True)"
   ]
  },
  {
   "cell_type": "markdown",
   "metadata": {},
   "source": [
    "Очень большая разница в соотношении категорий. Тариф смарт явно лидирует. Поэтому лучше дополнительно использовать в анализе такие метрики как precision и recall. Recall демонстрирует способность алгоритма обнаруживать данную категорию вообще, а precision — способность отличать эту категорию от других категорий."
   ]
  },
  {
   "cell_type": "markdown",
   "metadata": {},
   "source": [
    "## Разобьем данные на выборки <a name=\"2\"></a>"
   ]
  },
  {
   "cell_type": "markdown",
   "metadata": {},
   "source": [
    "Разобём данные на признаки и целевой признак."
   ]
  },
  {
   "cell_type": "code",
   "execution_count": 5,
   "metadata": {},
   "outputs": [],
   "source": [
    "features = df.drop('is_ultra', axis=1).copy()\n",
    "target = df['is_ultra'].copy()"
   ]
  },
  {
   "cell_type": "markdown",
   "metadata": {},
   "source": [
    "Далее разобьем данные на обучающую, валидационную и тестовые выборки. Исходные данные разобьем в соотношении 3:1:1. Размеры тестовой и валидационной выборки обычно равны."
   ]
  },
  {
   "cell_type": "code",
   "execution_count": 6,
   "metadata": {},
   "outputs": [],
   "source": [
    "features_train, features_valid, target_train, target_valid = train_test_split(features, target, test_size=0.4,\\\n",
    "                                                                              random_state=12345, stratify=target)\n",
    "features_valid, features_test, target_valid, target_test = train_test_split(features_valid, target_valid, test_size=0.5,\\\n",
    "                                                                              random_state=12345, stratify=target_valid)"
   ]
  },
  {
   "cell_type": "markdown",
   "metadata": {},
   "source": [
    "Проверим размер выборок."
   ]
  },
  {
   "cell_type": "code",
   "execution_count": 7,
   "metadata": {},
   "outputs": [
    {
     "name": "stdout",
     "output_type": "stream",
     "text": [
      "Размер таблицы признаков обучающей выборки 1928\n",
      "Размер таблицы целевого признаков обучающей выборки 1928\n",
      "----------------------------------------------------\n",
      "Размер таблицы признаков валидационной выборки 643\n",
      "Размер таблицы целевого признаков валидационной выборки 643\n",
      "----------------------------------------------------\n",
      "Размер таблицы признаков тестовой выборки 643\n",
      "Размер таблицы целевого признаков тестовой выборки 643\n"
     ]
    }
   ],
   "source": [
    "print('Размер таблицы признаков обучающей выборки', features_train.shape[0])\n",
    "print('Размер таблицы целевого признаков обучающей выборки', target_train.shape[0])\n",
    "print('----------------------------------------------------')\n",
    "print('Размер таблицы признаков валидационной выборки', features_valid.shape[0])\n",
    "print('Размер таблицы целевого признаков валидационной выборки', target_valid.shape[0])\n",
    "print('----------------------------------------------------')\n",
    "print('Размер таблицы признаков тестовой выборки', features_test.shape[0])\n",
    "print('Размер таблицы целевого признаков тестовой выборки', target_test.shape[0])"
   ]
  },
  {
   "cell_type": "markdown",
   "metadata": {},
   "source": [
    "## Исследуем модели <a name=\"3\"></a>"
   ]
  },
  {
   "cell_type": "markdown",
   "metadata": {},
   "source": [
    "### Обучим модель с помощью дерева решений."
   ]
  },
  {
   "cell_type": "code",
   "execution_count": 16,
   "metadata": {
    "scrolled": true
   },
   "outputs": [
    {
     "name": "stdout",
     "output_type": "stream",
     "text": [
      "Таблица соответствия качества предсказаний, глубины решающего дерева и дополнительно метрики precision и recall\n"
     ]
    },
    {
     "data": {
      "text/html": [
       "<div>\n",
       "<style scoped>\n",
       "    .dataframe tbody tr th:only-of-type {\n",
       "        vertical-align: middle;\n",
       "    }\n",
       "\n",
       "    .dataframe tbody tr th {\n",
       "        vertical-align: top;\n",
       "    }\n",
       "\n",
       "    .dataframe thead th {\n",
       "        text-align: right;\n",
       "    }\n",
       "</style>\n",
       "<table border=\"1\" class=\"dataframe\">\n",
       "  <thead>\n",
       "    <tr style=\"text-align: right;\">\n",
       "      <th></th>\n",
       "      <th>accuracy</th>\n",
       "      <th>depth</th>\n",
       "      <th>precision</th>\n",
       "      <th>recall</th>\n",
       "    </tr>\n",
       "  </thead>\n",
       "  <tbody>\n",
       "    <tr>\n",
       "      <td>0</td>\n",
       "      <td>0.740280</td>\n",
       "      <td>1</td>\n",
       "      <td>0.692308</td>\n",
       "      <td>0.274112</td>\n",
       "    </tr>\n",
       "    <tr>\n",
       "      <td>1</td>\n",
       "      <td>0.772939</td>\n",
       "      <td>2</td>\n",
       "      <td>0.697674</td>\n",
       "      <td>0.456853</td>\n",
       "    </tr>\n",
       "    <tr>\n",
       "      <td>2</td>\n",
       "      <td>0.777605</td>\n",
       "      <td>3</td>\n",
       "      <td>0.741071</td>\n",
       "      <td>0.421320</td>\n",
       "    </tr>\n",
       "    <tr>\n",
       "      <td>3</td>\n",
       "      <td>0.754277</td>\n",
       "      <td>4</td>\n",
       "      <td>0.767123</td>\n",
       "      <td>0.284264</td>\n",
       "    </tr>\n",
       "    <tr>\n",
       "      <td>4</td>\n",
       "      <td>0.785381</td>\n",
       "      <td>5</td>\n",
       "      <td>0.736000</td>\n",
       "      <td>0.467005</td>\n",
       "    </tr>\n",
       "    <tr>\n",
       "      <td>5</td>\n",
       "      <td>0.774495</td>\n",
       "      <td>6</td>\n",
       "      <td>0.745283</td>\n",
       "      <td>0.401015</td>\n",
       "    </tr>\n",
       "    <tr>\n",
       "      <td>6</td>\n",
       "      <td>0.786936</td>\n",
       "      <td>7</td>\n",
       "      <td>0.777778</td>\n",
       "      <td>0.426396</td>\n",
       "    </tr>\n",
       "    <tr>\n",
       "      <td>7</td>\n",
       "      <td>0.802488</td>\n",
       "      <td>8</td>\n",
       "      <td>0.769231</td>\n",
       "      <td>0.507614</td>\n",
       "    </tr>\n",
       "    <tr>\n",
       "      <td>8</td>\n",
       "      <td>0.782271</td>\n",
       "      <td>9</td>\n",
       "      <td>0.728000</td>\n",
       "      <td>0.461929</td>\n",
       "    </tr>\n",
       "    <tr>\n",
       "      <td>9</td>\n",
       "      <td>0.772939</td>\n",
       "      <td>10</td>\n",
       "      <td>0.694656</td>\n",
       "      <td>0.461929</td>\n",
       "    </tr>\n",
       "    <tr>\n",
       "      <td>10</td>\n",
       "      <td>0.762053</td>\n",
       "      <td>11</td>\n",
       "      <td>0.641026</td>\n",
       "      <td>0.507614</td>\n",
       "    </tr>\n",
       "    <tr>\n",
       "      <td>11</td>\n",
       "      <td>0.752722</td>\n",
       "      <td>12</td>\n",
       "      <td>0.628378</td>\n",
       "      <td>0.472081</td>\n",
       "    </tr>\n",
       "    <tr>\n",
       "      <td>12</td>\n",
       "      <td>0.744946</td>\n",
       "      <td>13</td>\n",
       "      <td>0.596491</td>\n",
       "      <td>0.517766</td>\n",
       "    </tr>\n",
       "    <tr>\n",
       "      <td>13</td>\n",
       "      <td>0.755832</td>\n",
       "      <td>14</td>\n",
       "      <td>0.611111</td>\n",
       "      <td>0.558376</td>\n",
       "    </tr>\n",
       "    <tr>\n",
       "      <td>14</td>\n",
       "      <td>0.748056</td>\n",
       "      <td>15</td>\n",
       "      <td>0.600000</td>\n",
       "      <td>0.532995</td>\n",
       "    </tr>\n",
       "  </tbody>\n",
       "</table>\n",
       "</div>"
      ],
      "text/plain": [
       "    accuracy  depth  precision    recall\n",
       "0   0.740280      1   0.692308  0.274112\n",
       "1   0.772939      2   0.697674  0.456853\n",
       "2   0.777605      3   0.741071  0.421320\n",
       "3   0.754277      4   0.767123  0.284264\n",
       "4   0.785381      5   0.736000  0.467005\n",
       "5   0.774495      6   0.745283  0.401015\n",
       "6   0.786936      7   0.777778  0.426396\n",
       "7   0.802488      8   0.769231  0.507614\n",
       "8   0.782271      9   0.728000  0.461929\n",
       "9   0.772939     10   0.694656  0.461929\n",
       "10  0.762053     11   0.641026  0.507614\n",
       "11  0.752722     12   0.628378  0.472081\n",
       "12  0.744946     13   0.596491  0.517766\n",
       "13  0.755832     14   0.611111  0.558376\n",
       "14  0.748056     15   0.600000  0.532995"
      ]
     },
     "metadata": {},
     "output_type": "display_data"
    },
    {
     "data": {
      "image/png": "[encoded data removed]",
      "text/plain": [
       "<Figure size 1296x432 with 1 Axes>"
      ]
     },
     "metadata": {},
     "output_type": "display_data"
    },
    {
     "name": "stdout",
     "output_type": "stream",
     "text": [
      "Самая лучшая модель по качеству предсказаний:\n",
      "    accuracy  depth  precision    recall\n",
      "6   0.786936      7   0.777778  0.426396\n",
      "7   0.802488      8   0.769231  0.507614\n",
      "13  0.755832     14   0.611111  0.558376\n"
     ]
    }
   ],
   "source": [
    "accu = [] # переменная, где будем хранить правильность (качество) наших моделей\n",
    "dep = [] # переменная, где будем хранить глубину решающих деревьев наших моделей\n",
    "prec = [] # precision\n",
    "reca = [] # recall\n",
    "for depth in range(1,16):\n",
    "    model = DecisionTreeClassifier(random_state=12345, max_depth=depth)\n",
    "    model.fit(features_train, target_train)\n",
    "    predictions = model.predict(features_valid)\n",
    "    accu_score = accuracy_score(target_valid, predictions)\n",
    "    precision = precision_score(target_valid, predictions)\n",
    "    recall = recall_score(target_valid, predictions)\n",
    "    accu.append(accu_score)\n",
    "    dep.append(depth)\n",
    "    prec.append(precision)\n",
    "    reca.append(recall)\n",
    "accu_dep = [] # датафрейм с accuracy, depth, estimators, precision и recall\n",
    "accu_dep = pd.DataFrame({'accuracy':accu, 'depth': dep, 'precision': prec, 'recall': reca})\n",
    "print('Таблица соответствия качества предсказаний, глубины решающего дерева и дополнительно метрики precision и recall')\n",
    "display(accu_dep)\n",
    "plt.figure(figsize=(18, 6))\n",
    "sns.set_style(\"darkgrid\")\n",
    "sns.lineplot(x=\"depth\", y=\"accuracy\", data=accu_dep);\n",
    "plt.title('Зависимость качества ответов модели от максимальной глубины решающего дерева')\n",
    "plt.xlabel('Глубина решающего дерева')\n",
    "plt.ylabel('Качество ответов, %')\n",
    "plt.show()\n",
    "print('Лучшие модели:')\n",
    "print(accu_dep[(accu_dep['accuracy'] == accu_dep['accuracy'].max()) | \\\n",
    "                    (accu_dep['precision'] == accu_dep['precision'].max()) | \\\n",
    "                    (accu_dep['recall'] == accu_dep['recall'].max())])"
   ]
  },
  {
   "cell_type": "markdown",
   "metadata": {},
   "source": [
    "По графику видно, что наилучшее качество предсказаний достигается с параметром максимальной глубины дерева, равному 8. При этом precision(точность, способность отличать категории: одну от другой) достаточно высока, лишь на 0,8% отличается от наивысшей. И recall(полнота) в данном случае на 5% ниже самой большого показателя. После глубины 9 качество предсказаний начинает снижаться."
   ]
  },
  {
   "cell_type": "markdown",
   "metadata": {},
   "source": [
    "### Далее используем алгоритм \"Случайный лес\""
   ]
  },
  {
   "cell_type": "code",
   "execution_count": 9,
   "metadata": {
    "scrolled": true
   },
   "outputs": [
    {
     "name": "stdout",
     "output_type": "stream",
     "text": [
      "Таблица соответствия метрик качества предсказаний, глубины решающего дерева и количества деревьев\n"
     ]
    },
    {
     "data": {
      "text/html": [
       "<div>\n",
       "<style scoped>\n",
       "    .dataframe tbody tr th:only-of-type {\n",
       "        vertical-align: middle;\n",
       "    }\n",
       "\n",
       "    .dataframe tbody tr th {\n",
       "        vertical-align: top;\n",
       "    }\n",
       "\n",
       "    .dataframe thead th {\n",
       "        text-align: right;\n",
       "    }\n",
       "</style>\n",
       "<table border=\"1\" class=\"dataframe\">\n",
       "  <thead>\n",
       "    <tr style=\"text-align: right;\">\n",
       "      <th></th>\n",
       "      <th>accuracy</th>\n",
       "      <th>depth</th>\n",
       "      <th>estimators</th>\n",
       "      <th>precision</th>\n",
       "      <th>recall</th>\n",
       "    </tr>\n",
       "  </thead>\n",
       "  <tbody>\n",
       "    <tr>\n",
       "      <td>0</td>\n",
       "      <td>0.757387</td>\n",
       "      <td>1</td>\n",
       "      <td>10</td>\n",
       "      <td>0.805970</td>\n",
       "      <td>0.274112</td>\n",
       "    </tr>\n",
       "    <tr>\n",
       "      <td>1</td>\n",
       "      <td>0.755832</td>\n",
       "      <td>1</td>\n",
       "      <td>15</td>\n",
       "      <td>0.822581</td>\n",
       "      <td>0.258883</td>\n",
       "    </tr>\n",
       "    <tr>\n",
       "      <td>2</td>\n",
       "      <td>0.730949</td>\n",
       "      <td>1</td>\n",
       "      <td>20</td>\n",
       "      <td>0.900000</td>\n",
       "      <td>0.137056</td>\n",
       "    </tr>\n",
       "    <tr>\n",
       "      <td>3</td>\n",
       "      <td>0.730949</td>\n",
       "      <td>1</td>\n",
       "      <td>25</td>\n",
       "      <td>0.900000</td>\n",
       "      <td>0.137056</td>\n",
       "    </tr>\n",
       "    <tr>\n",
       "      <td>4</td>\n",
       "      <td>0.729393</td>\n",
       "      <td>1</td>\n",
       "      <td>30</td>\n",
       "      <td>0.870968</td>\n",
       "      <td>0.137056</td>\n",
       "    </tr>\n",
       "    <tr>\n",
       "      <td>...</td>\n",
       "      <td>...</td>\n",
       "      <td>...</td>\n",
       "      <td>...</td>\n",
       "      <td>...</td>\n",
       "      <td>...</td>\n",
       "    </tr>\n",
       "    <tr>\n",
       "      <td>130</td>\n",
       "      <td>0.791602</td>\n",
       "      <td>15</td>\n",
       "      <td>30</td>\n",
       "      <td>0.711409</td>\n",
       "      <td>0.538071</td>\n",
       "    </tr>\n",
       "    <tr>\n",
       "      <td>131</td>\n",
       "      <td>0.802488</td>\n",
       "      <td>15</td>\n",
       "      <td>35</td>\n",
       "      <td>0.736486</td>\n",
       "      <td>0.553299</td>\n",
       "    </tr>\n",
       "    <tr>\n",
       "      <td>132</td>\n",
       "      <td>0.799378</td>\n",
       "      <td>15</td>\n",
       "      <td>40</td>\n",
       "      <td>0.736111</td>\n",
       "      <td>0.538071</td>\n",
       "    </tr>\n",
       "    <tr>\n",
       "      <td>133</td>\n",
       "      <td>0.799378</td>\n",
       "      <td>15</td>\n",
       "      <td>45</td>\n",
       "      <td>0.736111</td>\n",
       "      <td>0.538071</td>\n",
       "    </tr>\n",
       "    <tr>\n",
       "      <td>134</td>\n",
       "      <td>0.804044</td>\n",
       "      <td>15</td>\n",
       "      <td>50</td>\n",
       "      <td>0.751773</td>\n",
       "      <td>0.538071</td>\n",
       "    </tr>\n",
       "  </tbody>\n",
       "</table>\n",
       "<p>135 rows × 5 columns</p>\n",
       "</div>"
      ],
      "text/plain": [
       "     accuracy  depth  estimators  precision    recall\n",
       "0    0.757387      1          10   0.805970  0.274112\n",
       "1    0.755832      1          15   0.822581  0.258883\n",
       "2    0.730949      1          20   0.900000  0.137056\n",
       "3    0.730949      1          25   0.900000  0.137056\n",
       "4    0.729393      1          30   0.870968  0.137056\n",
       "..        ...    ...         ...        ...       ...\n",
       "130  0.791602     15          30   0.711409  0.538071\n",
       "131  0.802488     15          35   0.736486  0.553299\n",
       "132  0.799378     15          40   0.736111  0.538071\n",
       "133  0.799378     15          45   0.736111  0.538071\n",
       "134  0.804044     15          50   0.751773  0.538071\n",
       "\n",
       "[135 rows x 5 columns]"
      ]
     },
     "metadata": {},
     "output_type": "display_data"
    },
    {
     "data": {
      "image/png": "[encoded data removed]",
      "text/plain": [
       "<Figure size 1296x432 with 1 Axes>"
      ]
     },
     "metadata": {},
     "output_type": "display_data"
    },
    {
     "data": {
      "image/png": "[encoded data removed]",
      "text/plain": [
       "<Figure size 1296x432 with 1 Axes>"
      ]
     },
     "metadata": {},
     "output_type": "display_data"
    },
    {
     "name": "stdout",
     "output_type": "stream",
     "text": [
      "Самая лучшая модель по качеству предсказаний:\n",
      "     accuracy  depth  estimators  precision    recall\n",
      "2    0.730949      1          20   0.900000  0.137056\n",
      "3    0.730949      1          25   0.900000  0.137056\n",
      "78   0.821151      9          40   0.810606  0.543147\n",
      "106  0.810264     12          45   0.755102  0.563452\n",
      "118  0.807154     14          15   0.744966  0.563452\n"
     ]
    }
   ],
   "source": [
    "accu = [] # accuracy\n",
    "dep = [] #depth\n",
    "estim = [] # estimators\n",
    "prec = [] # precision\n",
    "reca = [] # recall\n",
    "for depth in range (1, 16):\n",
    "    for est in range(10, 51, 5):\n",
    "        model = RandomForestClassifier(random_state=12345, max_depth=depth, n_estimators=est)\n",
    "        model.fit(features_train, target_train)\n",
    "        predictions = model.predict(features_valid)\n",
    "        accu_score = accuracy_score(target_valid, predictions)\n",
    "        precision = precision_score(target_valid, predictions)\n",
    "        recall = recall_score(target_valid, predictions)\n",
    "        accu.append(accu_score)\n",
    "        dep.append(depth)\n",
    "        estim.append(est)\n",
    "        prec.append(precision)\n",
    "        reca.append(recall)\n",
    "accu_dep_estim = [] # датафрейм с accuracy, depth, estimators, precision и recall\n",
    "accu_dep_estim = pd.DataFrame({'accuracy':accu, 'depth': dep, 'estimators': estim, 'precision': prec, 'recall': reca})\n",
    "print('Таблица соответствия качества предсказаний, глубины решающего дерева и дополнительно метрики precision и recall')\n",
    "display(accu_dep_estim)\n",
    "# построим график зависимости качества ответов модели от максимальной глубины решающего дерева\n",
    "plt.figure(figsize=(18, 6))\n",
    "sns.set_style(\"darkgrid\")\n",
    "sns.lineplot(x=\"depth\", y=\"accuracy\", data=accu_dep_estim);\n",
    "plt.title('Зависимость качества ответов модели от максимальной глубины решающего дерева')\n",
    "plt.xlabel('Глубина решающего дерева')\n",
    "plt.ylabel('Качество ответов, %')\n",
    "plt.show()\n",
    "# построим график зависимости качества ответов модели от количества деревьев\n",
    "plt.figure(figsize=(18, 6))\n",
    "sns.set_style(\"darkgrid\")\n",
    "sns.lineplot(x=\"estimators\", y=\"accuracy\", data=accu_dep_estim);\n",
    "plt.title('Зависимость качества ответов модели от количества деревьев')\n",
    "plt.xlabel('Количество решающих дерева')\n",
    "plt.ylabel('Качество ответов, %')\n",
    "plt.show()\n",
    "print('Лучшие модели:')\n",
    "print(accu_dep_estim[(accu_dep_estim['accuracy'] == accu_dep_estim['accuracy'].max()) | \\\n",
    "                    (accu_dep_estim['precision'] == accu_dep_estim['precision'].max()) | \\\n",
    "                    (accu_dep_estim['recall'] == accu_dep_estim['recall'].max())])"
   ]
  },
  {
   "cell_type": "markdown",
   "metadata": {},
   "source": [
    "С этим алгоритмом наши предсказания стали немного выше на 2%. Этого удалось достичь, используя параметры: максимальная глубина 9 и количество деревьев 40. При этом точность составляет 81%, но наивысшая 90%. А при 90% точности доля правильных ответов на 9% ниже и крайне низкая полнота(всего 13,7%). Поэтому мы выбрали золотую середину."
   ]
  },
  {
   "cell_type": "markdown",
   "metadata": {},
   "source": [
    "### Используем алгоритм логистической регрессии"
   ]
  },
  {
   "cell_type": "code",
   "execution_count": 17,
   "metadata": {},
   "outputs": [
    {
     "name": "stdout",
     "output_type": "stream",
     "text": [
      "Качество предсказаний модели по алгоритму логистической регрессии: 0.7387247278382582\n",
      "Точность предсказаний модели по алгоритму логистической регрессии: 0.8085106382978723\n",
      "Полнота предсказаний модели по алгоритму логистической регрессии: 0.19289340101522842\n"
     ]
    }
   ],
   "source": [
    "model = LogisticRegression(random_state=12345, solver='lbfgs')\n",
    "model.fit(features_train, target_train)\n",
    "predictions = model.predict(features_valid)\n",
    "accu_score = accuracy_score(target_valid, predictions)\n",
    "precision = precision_score(target_valid, predictions)\n",
    "recall = recall_score(target_valid, predictions)\n",
    "print('Качество предсказаний модели по алгоритму логистической регрессии:', accu_score)\n",
    "print('Точность предсказаний модели по алгоритму логистической регрессии:', precision)\n",
    "print('Полнота предсказаний модели по алгоритму логистической регрессии:', recall)"
   ]
  },
  {
   "cell_type": "markdown",
   "metadata": {},
   "source": [
    "Качество предсказаний намного ниже у логистической регрессии, чем у решающего дерева и случайного леса. Точность достаточно высокая, но полнота очень низкая. То есть способность алгоритма обнаруживать данную категорию вообще лишь 20%."
   ]
  },
  {
   "cell_type": "markdown",
   "metadata": {},
   "source": [
    "В результате наилучший процент (82%) правильных предсказаний мы получили, используя алгоритм \"Случайный лес\" с параметрами - максимальная глубина 9 и количество деревьев 40."
   ]
  },
  {
   "cell_type": "markdown",
   "metadata": {},
   "source": [
    "## Проверим модель на тестовой выборке <a name=\"4\"></a>"
   ]
  },
  {
   "cell_type": "code",
   "execution_count": 11,
   "metadata": {},
   "outputs": [
    {
     "name": "stdout",
     "output_type": "stream",
     "text": [
      "% правильных предсказаний на тестовых данных: 0.8087091757387247\n"
     ]
    }
   ],
   "source": [
    "model = RandomForestClassifier(random_state=12345, max_depth=8, n_estimators=40)\n",
    "model.fit(features_train, target_train)\n",
    "predictions = model.predict(features_test)\n",
    "print('% правильных предсказаний на тестовых данных:', accuracy_score(target_test, predictions))"
   ]
  },
  {
   "cell_type": "markdown",
   "metadata": {},
   "source": [
    "Нам удалось добиться желаемого % правильных предсказаний в 75%. Наша модель показала на тестовых данных 80,9% правильных предсказаний."
   ]
  },
  {
   "cell_type": "markdown",
   "metadata": {},
   "source": [
    "## Проверим модель на адекватность <a name=\"5\"></a>"
   ]
  },
  {
   "cell_type": "markdown",
   "metadata": {},
   "source": [
    "Проверим модель на адекватность, используя простейшую модель DummyClassifier, которая предсказывает наиболее часто встречающийся класс"
   ]
  },
  {
   "cell_type": "code",
   "execution_count": 12,
   "metadata": {},
   "outputs": [
    {
     "name": "stdout",
     "output_type": "stream",
     "text": [
      "% правильных предсказаний самой простой моделью 0.776049766718507\n"
     ]
    }
   ],
   "source": [
    "dummy_clf = DummyClassifier(strategy=\"most_frequent\", random_state=12345)\n",
    "dummy_clf.fit(features_train, target_train)\n",
    "print('% правильных предсказаний самой простой моделью', dummy_clf.score(features_test, predictions))"
   ]
  },
  {
   "cell_type": "markdown",
   "metadata": {},
   "source": [
    "Результат простейшей модели на 4,5% хуже нашей, значит наша модель адекватная."
   ]
  },
  {
   "cell_type": "markdown",
   "metadata": {},
   "source": [
    "Посмотрим как распределены тарифы в исходных данных."
   ]
  },
  {
   "cell_type": "code",
   "execution_count": 13,
   "metadata": {},
   "outputs": [
    {
     "name": "stdout",
     "output_type": "stream",
     "text": [
      "0    0.693528\n",
      "1    0.306472\n",
      "Name: is_ultra, dtype: float64\n"
     ]
    }
   ],
   "source": [
    "print(df['is_ultra'].value_counts(normalize=True))"
   ]
  },
  {
   "cell_type": "markdown",
   "metadata": {},
   "source": [
    "Если в 100% случаев выбирать тариф смарт, то качество предсказаний составило бы 69%. На фоне этого процента наша модель выглядит еще адекватнее. А если только тариф ультра, то качество предсказаний составило бы 31%."
   ]
  }
 ],
 "metadata": {
  "kernelspec": {
   "display_name": "Python 3",
   "language": "python",
   "name": "python3"
  },
  "language_info": {
   "codemirror_mode": {
    "name": "ipython",
    "version": 3
   },
   "file_extension": ".py",
   "mimetype": "text/x-python",
   "name": "python",
   "nbconvert_exporter": "python",
   "pygments_lexer": "ipython3",
   "version": "3.7.8"
  },
  "toc": {
   "base_numbering": 1,
   "nav_menu": {},
   "number_sections": true,
   "sideBar": true,
   "skip_h1_title": true,
   "title_cell": "Table of Contents",
   "title_sidebar": "Contents",
   "toc_cell": false,
   "toc_position": {},
   "toc_section_display": true,
   "toc_window_display": false
  }
 },
 "nbformat": 4,
 "nbformat_minor": 2
}
